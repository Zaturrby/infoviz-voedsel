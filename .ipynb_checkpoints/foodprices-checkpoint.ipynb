{
 "cells": [
  {
   "cell_type": "markdown",
   "metadata": {
    "ExecuteTime": {
     "end_time": "2019-06-11T07:24:36.300122Z",
     "start_time": "2019-06-11T07:24:34.391962Z"
    },
    "toc-hr-collapsed": false
   },
   "source": [
    "# Onderzoek\n",
    "\n",
    "## Voedselprijzen in de derde wereld\n",
    "\n",
    "Robert-Jan Korteschiel (10399143)  \n",
    "Robert Houten  \n",
    "Sander Kohnstamm (10715363)  \n",
    "Joost de Wildt (12173002)  \n"
   ]
  },
  {
   "cell_type": "markdown",
   "metadata": {},
   "source": [
    "## Onderzoeksvragen\n",
    "\n",
    "1. Welke van de volgende gebeurtenissen heeft de grootste invloed op globale voedselprijzen?\n",
    "    - Temperatuur\n",
    "    - Brandstofprijs\n",
    "    - Dagloon  \n",
    "\n",
    "\n",
    "2. Vallen gebeurtenissen te herleiden uit voedselprijzen?"
   ]
  },
  {
   "cell_type": "markdown",
   "metadata": {},
   "source": [
    "## Bootstrap"
   ]
  },
  {
   "cell_type": "code",
   "execution_count": 11,
   "metadata": {
    "ExecuteTime": {
     "end_time": "2019-06-23T09:31:48.445821Z",
     "start_time": "2019-06-23T09:31:45.279701Z"
    }
   },
   "outputs": [
    {
     "data": {
      "text/html": [
       "        <script type=\"text/javascript\">\n",
       "        window.PlotlyConfig = {MathJaxConfig: 'local'};\n",
       "        if (window.MathJax) {MathJax.Hub.Config({SVG: {font: \"STIX-Web\"}});}\n",
       "        if (typeof require !== 'undefined') {\n",
       "        require.undef(\"plotly\");\n",
       "        requirejs.config({\n",
       "            paths: {\n",
       "                'plotly': ['https://cdn.plot.ly/plotly-latest.min']\n",
       "            }\n",
       "        });\n",
       "        require(['plotly'], function(Plotly) {\n",
       "            window._Plotly = Plotly;\n",
       "        });\n",
       "        }\n",
       "        </script>\n",
       "        "
      ]
     },
     "metadata": {},
     "output_type": "display_data"
    }
   ],
   "source": [
    "import pandas as pd\n",
    "import numpy as np\n",
    "import plotly.graph_objs as go\n",
    "from plotly.offline import init_notebook_mode, iplot\n",
    "from plotly import tools\n",
    "from sklearn import preprocessing\n",
    "from functools import partial\n",
    "import datetime\n",
    "import math\n",
    "from ipywidgets import Layout, Button, Box, HBox, VBox, widgets, interact, interact_manual, interactive, interactive_output\n",
    "\n",
    "init_notebook_mode(connected=True)\n",
    "\n",
    "pd.options.display.max_rows = 100\n",
    "pd.options.display.max_seq_items = 100"
   ]
  },
  {
   "cell_type": "markdown",
   "metadata": {
    "toc-hr-collapsed": false
   },
   "source": [
    "# Voedsel\n",
    "\n",
    "## Inladen\n"
   ]
  },
  {
   "cell_type": "code",
   "execution_count": 12,
   "metadata": {
    "ExecuteTime": {
     "end_time": "2019-06-23T09:31:50.992518Z",
     "start_time": "2019-06-23T09:31:48.466539Z"
    }
   },
   "outputs": [
    {
     "data": {
      "text/html": [
       "<div>\n",
       "<style scoped>\n",
       "    .dataframe tbody tr th:only-of-type {\n",
       "        vertical-align: middle;\n",
       "    }\n",
       "\n",
       "    .dataframe tbody tr th {\n",
       "        vertical-align: top;\n",
       "    }\n",
       "\n",
       "    .dataframe thead th {\n",
       "        text-align: right;\n",
       "    }\n",
       "</style>\n",
       "<table border=\"1\" class=\"dataframe\">\n",
       "  <thead>\n",
       "    <tr style=\"text-align: right;\">\n",
       "      <th></th>\n",
       "      <th>adm0_id</th>\n",
       "      <th>adm0_name</th>\n",
       "      <th>adm1_id</th>\n",
       "      <th>adm1_name</th>\n",
       "      <th>mkt_id</th>\n",
       "      <th>mkt_name</th>\n",
       "      <th>cm_id</th>\n",
       "      <th>cm_name</th>\n",
       "      <th>cur_id</th>\n",
       "      <th>cur_name</th>\n",
       "      <th>pt_id</th>\n",
       "      <th>pt_name</th>\n",
       "      <th>um_id</th>\n",
       "      <th>um_name</th>\n",
       "      <th>mp_month</th>\n",
       "      <th>mp_year</th>\n",
       "      <th>mp_price</th>\n",
       "      <th>mp_commoditysource</th>\n",
       "    </tr>\n",
       "  </thead>\n",
       "  <tbody>\n",
       "    <tr>\n",
       "      <th>0</th>\n",
       "      <td>1.0</td>\n",
       "      <td>Afghanistan</td>\n",
       "      <td>272</td>\n",
       "      <td>Badakhshan</td>\n",
       "      <td>266</td>\n",
       "      <td>Fayzabad</td>\n",
       "      <td>55</td>\n",
       "      <td>Bread - Retail</td>\n",
       "      <td>0.0</td>\n",
       "      <td>AFN</td>\n",
       "      <td>15</td>\n",
       "      <td>Retail</td>\n",
       "      <td>5</td>\n",
       "      <td>KG</td>\n",
       "      <td>1</td>\n",
       "      <td>2014</td>\n",
       "      <td>50.0</td>\n",
       "      <td>NaN</td>\n",
       "    </tr>\n",
       "    <tr>\n",
       "      <th>1</th>\n",
       "      <td>1.0</td>\n",
       "      <td>Afghanistan</td>\n",
       "      <td>272</td>\n",
       "      <td>Badakhshan</td>\n",
       "      <td>266</td>\n",
       "      <td>Fayzabad</td>\n",
       "      <td>55</td>\n",
       "      <td>Bread - Retail</td>\n",
       "      <td>0.0</td>\n",
       "      <td>AFN</td>\n",
       "      <td>15</td>\n",
       "      <td>Retail</td>\n",
       "      <td>5</td>\n",
       "      <td>KG</td>\n",
       "      <td>2</td>\n",
       "      <td>2014</td>\n",
       "      <td>50.0</td>\n",
       "      <td>NaN</td>\n",
       "    </tr>\n",
       "    <tr>\n",
       "      <th>2</th>\n",
       "      <td>1.0</td>\n",
       "      <td>Afghanistan</td>\n",
       "      <td>272</td>\n",
       "      <td>Badakhshan</td>\n",
       "      <td>266</td>\n",
       "      <td>Fayzabad</td>\n",
       "      <td>55</td>\n",
       "      <td>Bread - Retail</td>\n",
       "      <td>0.0</td>\n",
       "      <td>AFN</td>\n",
       "      <td>15</td>\n",
       "      <td>Retail</td>\n",
       "      <td>5</td>\n",
       "      <td>KG</td>\n",
       "      <td>3</td>\n",
       "      <td>2014</td>\n",
       "      <td>50.0</td>\n",
       "      <td>NaN</td>\n",
       "    </tr>\n",
       "    <tr>\n",
       "      <th>3</th>\n",
       "      <td>1.0</td>\n",
       "      <td>Afghanistan</td>\n",
       "      <td>272</td>\n",
       "      <td>Badakhshan</td>\n",
       "      <td>266</td>\n",
       "      <td>Fayzabad</td>\n",
       "      <td>55</td>\n",
       "      <td>Bread - Retail</td>\n",
       "      <td>0.0</td>\n",
       "      <td>AFN</td>\n",
       "      <td>15</td>\n",
       "      <td>Retail</td>\n",
       "      <td>5</td>\n",
       "      <td>KG</td>\n",
       "      <td>4</td>\n",
       "      <td>2014</td>\n",
       "      <td>50.0</td>\n",
       "      <td>NaN</td>\n",
       "    </tr>\n",
       "    <tr>\n",
       "      <th>4</th>\n",
       "      <td>1.0</td>\n",
       "      <td>Afghanistan</td>\n",
       "      <td>272</td>\n",
       "      <td>Badakhshan</td>\n",
       "      <td>266</td>\n",
       "      <td>Fayzabad</td>\n",
       "      <td>55</td>\n",
       "      <td>Bread - Retail</td>\n",
       "      <td>0.0</td>\n",
       "      <td>AFN</td>\n",
       "      <td>15</td>\n",
       "      <td>Retail</td>\n",
       "      <td>5</td>\n",
       "      <td>KG</td>\n",
       "      <td>5</td>\n",
       "      <td>2014</td>\n",
       "      <td>50.0</td>\n",
       "      <td>NaN</td>\n",
       "    </tr>\n",
       "  </tbody>\n",
       "</table>\n",
       "</div>"
      ],
      "text/plain": [
       "   adm0_id    adm0_name  adm1_id   adm1_name  mkt_id  mkt_name  cm_id  \\\n",
       "0      1.0  Afghanistan      272  Badakhshan     266  Fayzabad     55   \n",
       "1      1.0  Afghanistan      272  Badakhshan     266  Fayzabad     55   \n",
       "2      1.0  Afghanistan      272  Badakhshan     266  Fayzabad     55   \n",
       "3      1.0  Afghanistan      272  Badakhshan     266  Fayzabad     55   \n",
       "4      1.0  Afghanistan      272  Badakhshan     266  Fayzabad     55   \n",
       "\n",
       "          cm_name  cur_id cur_name  pt_id pt_name  um_id um_name  mp_month  \\\n",
       "0  Bread - Retail     0.0      AFN     15  Retail      5      KG         1   \n",
       "1  Bread - Retail     0.0      AFN     15  Retail      5      KG         2   \n",
       "2  Bread - Retail     0.0      AFN     15  Retail      5      KG         3   \n",
       "3  Bread - Retail     0.0      AFN     15  Retail      5      KG         4   \n",
       "4  Bread - Retail     0.0      AFN     15  Retail      5      KG         5   \n",
       "\n",
       "   mp_year  mp_price  mp_commoditysource  \n",
       "0     2014      50.0                 NaN  \n",
       "1     2014      50.0                 NaN  \n",
       "2     2014      50.0                 NaN  \n",
       "3     2014      50.0                 NaN  \n",
       "4     2014      50.0                 NaN  "
      ]
     },
     "metadata": {},
     "output_type": "display_data"
    },
    {
     "data": {
      "text/html": [
       "<div>\n",
       "<style scoped>\n",
       "    .dataframe tbody tr th:only-of-type {\n",
       "        vertical-align: middle;\n",
       "    }\n",
       "\n",
       "    .dataframe tbody tr th {\n",
       "        vertical-align: top;\n",
       "    }\n",
       "\n",
       "    .dataframe thead th {\n",
       "        text-align: right;\n",
       "    }\n",
       "</style>\n",
       "<table border=\"1\" class=\"dataframe\">\n",
       "  <thead>\n",
       "    <tr style=\"text-align: right;\">\n",
       "      <th></th>\n",
       "      <th>Beef</th>\n",
       "      <th>Hides</th>\n",
       "      <th>Lamb</th>\n",
       "      <th>Pork</th>\n",
       "      <th>Coal</th>\n",
       "      <th>Natural gas</th>\n",
       "      <th>Petroleum</th>\n",
       "      <th>Barley</th>\n",
       "      <th>Corn</th>\n",
       "      <th>Rice</th>\n",
       "      <th>...</th>\n",
       "      <th>Coffee</th>\n",
       "      <th>Cotton</th>\n",
       "      <th>Cottonseed</th>\n",
       "      <th>Palm oil</th>\n",
       "      <th>Peanuts</th>\n",
       "      <th>Rubber</th>\n",
       "      <th>Sugar</th>\n",
       "      <th>Tea</th>\n",
       "      <th>Tobacco</th>\n",
       "      <th>Wool</th>\n",
       "    </tr>\n",
       "    <tr>\n",
       "      <th>Year</th>\n",
       "      <th></th>\n",
       "      <th></th>\n",
       "      <th></th>\n",
       "      <th></th>\n",
       "      <th></th>\n",
       "      <th></th>\n",
       "      <th></th>\n",
       "      <th></th>\n",
       "      <th></th>\n",
       "      <th></th>\n",
       "      <th></th>\n",
       "      <th></th>\n",
       "      <th></th>\n",
       "      <th></th>\n",
       "      <th></th>\n",
       "      <th></th>\n",
       "      <th></th>\n",
       "      <th></th>\n",
       "      <th></th>\n",
       "      <th></th>\n",
       "      <th></th>\n",
       "    </tr>\n",
       "  </thead>\n",
       "  <tbody>\n",
       "    <tr>\n",
       "      <th>1850</th>\n",
       "      <td>76.81</td>\n",
       "      <td>64.52</td>\n",
       "      <td>78.37</td>\n",
       "      <td>55.13</td>\n",
       "      <td>94.97</td>\n",
       "      <td>NaN</td>\n",
       "      <td>NaN</td>\n",
       "      <td>116.84</td>\n",
       "      <td>98.80</td>\n",
       "      <td>124.97</td>\n",
       "      <td>...</td>\n",
       "      <td>138.99</td>\n",
       "      <td>134.81</td>\n",
       "      <td>NaN</td>\n",
       "      <td>117.31</td>\n",
       "      <td>NaN</td>\n",
       "      <td>NaN</td>\n",
       "      <td>210.84</td>\n",
       "      <td>191.12</td>\n",
       "      <td>181.27</td>\n",
       "      <td>121.18</td>\n",
       "    </tr>\n",
       "    <tr>\n",
       "      <th>1851</th>\n",
       "      <td>78.47</td>\n",
       "      <td>77.74</td>\n",
       "      <td>81.92</td>\n",
       "      <td>76.31</td>\n",
       "      <td>108.08</td>\n",
       "      <td>NaN</td>\n",
       "      <td>NaN</td>\n",
       "      <td>126.47</td>\n",
       "      <td>98.94</td>\n",
       "      <td>118.76</td>\n",
       "      <td>...</td>\n",
       "      <td>120.28</td>\n",
       "      <td>111.49</td>\n",
       "      <td>NaN</td>\n",
       "      <td>111.85</td>\n",
       "      <td>NaN</td>\n",
       "      <td>NaN</td>\n",
       "      <td>224.01</td>\n",
       "      <td>182.45</td>\n",
       "      <td>202.11</td>\n",
       "      <td>129.03</td>\n",
       "    </tr>\n",
       "    <tr>\n",
       "      <th>1852</th>\n",
       "      <td>80.21</td>\n",
       "      <td>73.57</td>\n",
       "      <td>81.05</td>\n",
       "      <td>92.36</td>\n",
       "      <td>104.16</td>\n",
       "      <td>NaN</td>\n",
       "      <td>NaN</td>\n",
       "      <td>143.71</td>\n",
       "      <td>106.77</td>\n",
       "      <td>132.18</td>\n",
       "      <td>...</td>\n",
       "      <td>112.38</td>\n",
       "      <td>110.30</td>\n",
       "      <td>NaN</td>\n",
       "      <td>114.61</td>\n",
       "      <td>NaN</td>\n",
       "      <td>NaN</td>\n",
       "      <td>196.05</td>\n",
       "      <td>155.16</td>\n",
       "      <td>180.21</td>\n",
       "      <td>144.90</td>\n",
       "    </tr>\n",
       "    <tr>\n",
       "      <th>1853</th>\n",
       "      <td>100.92</td>\n",
       "      <td>85.27</td>\n",
       "      <td>99.47</td>\n",
       "      <td>84.04</td>\n",
       "      <td>113.50</td>\n",
       "      <td>NaN</td>\n",
       "      <td>NaN</td>\n",
       "      <td>166.83</td>\n",
       "      <td>109.24</td>\n",
       "      <td>160.08</td>\n",
       "      <td>...</td>\n",
       "      <td>115.69</td>\n",
       "      <td>107.06</td>\n",
       "      <td>NaN</td>\n",
       "      <td>146.22</td>\n",
       "      <td>NaN</td>\n",
       "      <td>NaN</td>\n",
       "      <td>221.62</td>\n",
       "      <td>193.16</td>\n",
       "      <td>183.08</td>\n",
       "      <td>156.98</td>\n",
       "    </tr>\n",
       "    <tr>\n",
       "      <th>1854</th>\n",
       "      <td>102.38</td>\n",
       "      <td>90.77</td>\n",
       "      <td>91.53</td>\n",
       "      <td>67.31</td>\n",
       "      <td>128.82</td>\n",
       "      <td>NaN</td>\n",
       "      <td>NaN</td>\n",
       "      <td>166.45</td>\n",
       "      <td>118.18</td>\n",
       "      <td>166.22</td>\n",
       "      <td>...</td>\n",
       "      <td>123.18</td>\n",
       "      <td>86.57</td>\n",
       "      <td>NaN</td>\n",
       "      <td>174.55</td>\n",
       "      <td>NaN</td>\n",
       "      <td>NaN</td>\n",
       "      <td>196.08</td>\n",
       "      <td>180.65</td>\n",
       "      <td>169.19</td>\n",
       "      <td>134.13</td>\n",
       "    </tr>\n",
       "  </tbody>\n",
       "</table>\n",
       "<p>5 rows × 40 columns</p>\n",
       "</div>"
      ],
      "text/plain": [
       "        Beef  Hides   Lamb   Pork    Coal  Natural gas  Petroleum  Barley  \\\n",
       "Year                                                                        \n",
       "1850   76.81  64.52  78.37  55.13   94.97          NaN        NaN  116.84   \n",
       "1851   78.47  77.74  81.92  76.31  108.08          NaN        NaN  126.47   \n",
       "1852   80.21  73.57  81.05  92.36  104.16          NaN        NaN  143.71   \n",
       "1853  100.92  85.27  99.47  84.04  113.50          NaN        NaN  166.83   \n",
       "1854  102.38  90.77  91.53  67.31  128.82          NaN        NaN  166.45   \n",
       "\n",
       "        Corn    Rice  ...  Coffee  Cotton  Cottonseed  Palm oil  Peanuts  \\\n",
       "Year                  ...                                                  \n",
       "1850   98.80  124.97  ...  138.99  134.81         NaN    117.31      NaN   \n",
       "1851   98.94  118.76  ...  120.28  111.49         NaN    111.85      NaN   \n",
       "1852  106.77  132.18  ...  112.38  110.30         NaN    114.61      NaN   \n",
       "1853  109.24  160.08  ...  115.69  107.06         NaN    146.22      NaN   \n",
       "1854  118.18  166.22  ...  123.18   86.57         NaN    174.55      NaN   \n",
       "\n",
       "      Rubber   Sugar     Tea  Tobacco    Wool  \n",
       "Year                                           \n",
       "1850     NaN  210.84  191.12   181.27  121.18  \n",
       "1851     NaN  224.01  182.45   202.11  129.03  \n",
       "1852     NaN  196.05  155.16   180.21  144.90  \n",
       "1853     NaN  221.62  193.16   183.08  156.98  \n",
       "1854     NaN  196.08  180.65   169.19  134.13  \n",
       "\n",
       "[5 rows x 40 columns]"
      ]
     },
     "metadata": {},
     "output_type": "display_data"
    }
   ],
   "source": [
    "# WFP Data\n",
    "food_df = pd.read_csv(\"./food_data/food.csv\", low_memory=False)\n",
    "display(food_df.head())\n",
    "\n",
    "# IMF Data\n",
    "imf_df = pd.read_csv(\"./commodity_imf_proper.csv\", dtype={\"Year\": np.int32}, decimal=\",\", index_col=\"Year\")\n",
    "display(imf_df.head())"
   ]
  },
  {
   "cell_type": "markdown",
   "metadata": {
    "toc-hr-collapsed": false
   },
   "source": [
    "## Transformeren\n",
    "\n",
    "Ik heb ditmaal geprobeerd de global namespace een beetje schoner te houden, de grafieken doen nu elk hun eigen transformaties. Globale transformaties worden hier als kolom aan de food_df toegevoegd. Ik twijfel nog over of de\n",
    "food_diff_df hier eigenlijk wel moet staan."
   ]
  },
  {
   "cell_type": "markdown",
   "metadata": {
    "toc-hr-collapsed": false
   },
   "source": [
    "### Datums\n",
    "voeg een kolom toe met een goed geformateerde datum\n"
   ]
  },
  {
   "cell_type": "code",
   "execution_count": 13,
   "metadata": {
    "ExecuteTime": {
     "end_time": "2019-06-23T09:32:02.723301Z",
     "start_time": "2019-06-23T09:31:51.176293Z"
    },
    "scrolled": false
   },
   "outputs": [],
   "source": [
    "food_df[\"mp_date\"] = pd.to_datetime(food_df[[\"mp_year\", \"mp_month\"]].assign(day=1).rename(columns={\"mp_year\": \"year\", \"mp_month\": \"month\"}))"
   ]
  },
  {
   "cell_type": "markdown",
   "metadata": {},
   "source": [
    "### Groeperen"
   ]
  },
  {
   "cell_type": "code",
   "execution_count": 14,
   "metadata": {},
   "outputs": [],
   "source": [
    "# voeg een kolom met een groepering van commodities toe (geselecteerd op het eerste woord)\n",
    "food_df[\"cm_name_grouped\"] = food_df[\"cm_name\"].str.extract('^([\\w\\-]+)', expand=False)"
   ]
  },
  {
   "cell_type": "markdown",
   "metadata": {},
   "source": [
    "### Normalisatie\n",
    "\n",
    "Minmax normalisatie\n",
    "\n",
    "[TODO] normalisatie met een eikpunt"
   ]
  },
  {
   "cell_type": "code",
   "execution_count": 15,
   "metadata": {},
   "outputs": [
    {
     "data": {
      "text/html": [
       "<div>\n",
       "<style scoped>\n",
       "    .dataframe tbody tr th:only-of-type {\n",
       "        vertical-align: middle;\n",
       "    }\n",
       "\n",
       "    .dataframe tbody tr th {\n",
       "        vertical-align: top;\n",
       "    }\n",
       "\n",
       "    .dataframe thead th {\n",
       "        text-align: right;\n",
       "    }\n",
       "</style>\n",
       "<table border=\"1\" class=\"dataframe\">\n",
       "  <thead>\n",
       "    <tr style=\"text-align: right;\">\n",
       "      <th></th>\n",
       "      <th>adm0_id</th>\n",
       "      <th>adm0_name</th>\n",
       "      <th>adm1_id</th>\n",
       "      <th>adm1_name</th>\n",
       "      <th>mkt_id</th>\n",
       "      <th>mkt_name</th>\n",
       "      <th>cm_id</th>\n",
       "      <th>cm_name</th>\n",
       "      <th>cur_id</th>\n",
       "      <th>cur_name</th>\n",
       "      <th>...</th>\n",
       "      <th>pt_name</th>\n",
       "      <th>um_id</th>\n",
       "      <th>um_name</th>\n",
       "      <th>mp_month</th>\n",
       "      <th>mp_year</th>\n",
       "      <th>mp_price</th>\n",
       "      <th>mp_commoditysource</th>\n",
       "      <th>mp_date</th>\n",
       "      <th>cm_name_grouped</th>\n",
       "      <th>mp_price_norm</th>\n",
       "    </tr>\n",
       "  </thead>\n",
       "  <tbody>\n",
       "    <tr>\n",
       "      <th>0</th>\n",
       "      <td>1.0</td>\n",
       "      <td>Afghanistan</td>\n",
       "      <td>272</td>\n",
       "      <td>Badakhshan</td>\n",
       "      <td>266</td>\n",
       "      <td>Fayzabad</td>\n",
       "      <td>55</td>\n",
       "      <td>Bread - Retail</td>\n",
       "      <td>0.0</td>\n",
       "      <td>AFN</td>\n",
       "      <td>...</td>\n",
       "      <td>Retail</td>\n",
       "      <td>5</td>\n",
       "      <td>KG</td>\n",
       "      <td>1</td>\n",
       "      <td>2014</td>\n",
       "      <td>50.0</td>\n",
       "      <td>NaN</td>\n",
       "      <td>2014-01-01</td>\n",
       "      <td>Bread</td>\n",
       "      <td>0.608974</td>\n",
       "    </tr>\n",
       "    <tr>\n",
       "      <th>1</th>\n",
       "      <td>1.0</td>\n",
       "      <td>Afghanistan</td>\n",
       "      <td>272</td>\n",
       "      <td>Badakhshan</td>\n",
       "      <td>266</td>\n",
       "      <td>Fayzabad</td>\n",
       "      <td>55</td>\n",
       "      <td>Bread - Retail</td>\n",
       "      <td>0.0</td>\n",
       "      <td>AFN</td>\n",
       "      <td>...</td>\n",
       "      <td>Retail</td>\n",
       "      <td>5</td>\n",
       "      <td>KG</td>\n",
       "      <td>2</td>\n",
       "      <td>2014</td>\n",
       "      <td>50.0</td>\n",
       "      <td>NaN</td>\n",
       "      <td>2014-02-01</td>\n",
       "      <td>Bread</td>\n",
       "      <td>0.608974</td>\n",
       "    </tr>\n",
       "    <tr>\n",
       "      <th>2</th>\n",
       "      <td>1.0</td>\n",
       "      <td>Afghanistan</td>\n",
       "      <td>272</td>\n",
       "      <td>Badakhshan</td>\n",
       "      <td>266</td>\n",
       "      <td>Fayzabad</td>\n",
       "      <td>55</td>\n",
       "      <td>Bread - Retail</td>\n",
       "      <td>0.0</td>\n",
       "      <td>AFN</td>\n",
       "      <td>...</td>\n",
       "      <td>Retail</td>\n",
       "      <td>5</td>\n",
       "      <td>KG</td>\n",
       "      <td>3</td>\n",
       "      <td>2014</td>\n",
       "      <td>50.0</td>\n",
       "      <td>NaN</td>\n",
       "      <td>2014-03-01</td>\n",
       "      <td>Bread</td>\n",
       "      <td>0.608974</td>\n",
       "    </tr>\n",
       "    <tr>\n",
       "      <th>3</th>\n",
       "      <td>1.0</td>\n",
       "      <td>Afghanistan</td>\n",
       "      <td>272</td>\n",
       "      <td>Badakhshan</td>\n",
       "      <td>266</td>\n",
       "      <td>Fayzabad</td>\n",
       "      <td>55</td>\n",
       "      <td>Bread - Retail</td>\n",
       "      <td>0.0</td>\n",
       "      <td>AFN</td>\n",
       "      <td>...</td>\n",
       "      <td>Retail</td>\n",
       "      <td>5</td>\n",
       "      <td>KG</td>\n",
       "      <td>4</td>\n",
       "      <td>2014</td>\n",
       "      <td>50.0</td>\n",
       "      <td>NaN</td>\n",
       "      <td>2014-04-01</td>\n",
       "      <td>Bread</td>\n",
       "      <td>0.608974</td>\n",
       "    </tr>\n",
       "    <tr>\n",
       "      <th>4</th>\n",
       "      <td>1.0</td>\n",
       "      <td>Afghanistan</td>\n",
       "      <td>272</td>\n",
       "      <td>Badakhshan</td>\n",
       "      <td>266</td>\n",
       "      <td>Fayzabad</td>\n",
       "      <td>55</td>\n",
       "      <td>Bread - Retail</td>\n",
       "      <td>0.0</td>\n",
       "      <td>AFN</td>\n",
       "      <td>...</td>\n",
       "      <td>Retail</td>\n",
       "      <td>5</td>\n",
       "      <td>KG</td>\n",
       "      <td>5</td>\n",
       "      <td>2014</td>\n",
       "      <td>50.0</td>\n",
       "      <td>NaN</td>\n",
       "      <td>2014-05-01</td>\n",
       "      <td>Bread</td>\n",
       "      <td>0.608974</td>\n",
       "    </tr>\n",
       "  </tbody>\n",
       "</table>\n",
       "<p>5 rows × 21 columns</p>\n",
       "</div>"
      ],
      "text/plain": [
       "   adm0_id    adm0_name  adm1_id   adm1_name  mkt_id  mkt_name  cm_id  \\\n",
       "0      1.0  Afghanistan      272  Badakhshan     266  Fayzabad     55   \n",
       "1      1.0  Afghanistan      272  Badakhshan     266  Fayzabad     55   \n",
       "2      1.0  Afghanistan      272  Badakhshan     266  Fayzabad     55   \n",
       "3      1.0  Afghanistan      272  Badakhshan     266  Fayzabad     55   \n",
       "4      1.0  Afghanistan      272  Badakhshan     266  Fayzabad     55   \n",
       "\n",
       "          cm_name  cur_id cur_name  ...  pt_name um_id  um_name mp_month  \\\n",
       "0  Bread - Retail     0.0      AFN  ...   Retail     5       KG        1   \n",
       "1  Bread - Retail     0.0      AFN  ...   Retail     5       KG        2   \n",
       "2  Bread - Retail     0.0      AFN  ...   Retail     5       KG        3   \n",
       "3  Bread - Retail     0.0      AFN  ...   Retail     5       KG        4   \n",
       "4  Bread - Retail     0.0      AFN  ...   Retail     5       KG        5   \n",
       "\n",
       "   mp_year  mp_price  mp_commoditysource    mp_date cm_name_grouped  \\\n",
       "0     2014      50.0                 NaN 2014-01-01           Bread   \n",
       "1     2014      50.0                 NaN 2014-02-01           Bread   \n",
       "2     2014      50.0                 NaN 2014-03-01           Bread   \n",
       "3     2014      50.0                 NaN 2014-04-01           Bread   \n",
       "4     2014      50.0                 NaN 2014-05-01           Bread   \n",
       "\n",
       "  mp_price_norm  \n",
       "0      0.608974  \n",
       "1      0.608974  \n",
       "2      0.608974  \n",
       "3      0.608974  \n",
       "4      0.608974  \n",
       "\n",
       "[5 rows x 21 columns]"
      ]
     },
     "metadata": {},
     "output_type": "display_data"
    }
   ],
   "source": [
    "def normalize_series_minmax(series):\n",
    "    # bootstrap a new normalizer\n",
    "    min_max_scaler = preprocessing.MinMaxScaler()\n",
    "\n",
    "    # reshape the series to array so that the normalizer accepts it\n",
    "    to_normalize = series.values.reshape(-1, 1)\n",
    "\n",
    "    # do the actual normalisation\n",
    "    x_scaled = min_max_scaler.fit_transform(to_normalize)\n",
    "\n",
    "    # undo some weird numpy nesting of arrays\n",
    "    x_scaled = np.concatenate(x_scaled).ravel()\n",
    "\n",
    "    # trow the series\n",
    "    return pd.Series(x_scaled, index=series.index)\n",
    "\n",
    "# run the normalization per country on individual goods\n",
    "food_df[\"mp_price_norm\"] = food_df.groupby(by=[\"adm0_name\", \"cm_name\"])[\"mp_price\"].apply(normalize_series_minmax)\n",
    "display(food_df.head())"
   ]
  },
  {
   "cell_type": "code",
   "execution_count": 16,
   "metadata": {},
   "outputs": [
    {
     "data": {
      "text/html": [
       "<div>\n",
       "<style scoped>\n",
       "    .dataframe tbody tr th:only-of-type {\n",
       "        vertical-align: middle;\n",
       "    }\n",
       "\n",
       "    .dataframe tbody tr th {\n",
       "        vertical-align: top;\n",
       "    }\n",
       "\n",
       "    .dataframe thead th {\n",
       "        text-align: right;\n",
       "    }\n",
       "</style>\n",
       "<table border=\"1\" class=\"dataframe\">\n",
       "  <thead>\n",
       "    <tr style=\"text-align: right;\">\n",
       "      <th></th>\n",
       "      <th>Beef</th>\n",
       "      <th>Hides</th>\n",
       "      <th>Lamb</th>\n",
       "      <th>Pork</th>\n",
       "      <th>Coal</th>\n",
       "      <th>Natural gas</th>\n",
       "      <th>Petroleum</th>\n",
       "      <th>Barley</th>\n",
       "      <th>Corn</th>\n",
       "      <th>Rice</th>\n",
       "      <th>...</th>\n",
       "      <th>Coffee</th>\n",
       "      <th>Cotton</th>\n",
       "      <th>Cottonseed</th>\n",
       "      <th>Palm oil</th>\n",
       "      <th>Peanuts</th>\n",
       "      <th>Rubber</th>\n",
       "      <th>Sugar</th>\n",
       "      <th>Tea</th>\n",
       "      <th>Tobacco</th>\n",
       "      <th>Wool</th>\n",
       "    </tr>\n",
       "    <tr>\n",
       "      <th>Year</th>\n",
       "      <th></th>\n",
       "      <th></th>\n",
       "      <th></th>\n",
       "      <th></th>\n",
       "      <th></th>\n",
       "      <th></th>\n",
       "      <th></th>\n",
       "      <th></th>\n",
       "      <th></th>\n",
       "      <th></th>\n",
       "      <th></th>\n",
       "      <th></th>\n",
       "      <th></th>\n",
       "      <th></th>\n",
       "      <th></th>\n",
       "      <th></th>\n",
       "      <th></th>\n",
       "      <th></th>\n",
       "      <th></th>\n",
       "      <th></th>\n",
       "      <th></th>\n",
       "    </tr>\n",
       "  </thead>\n",
       "  <tbody>\n",
       "    <tr>\n",
       "      <th>1850</th>\n",
       "      <td>0.063294</td>\n",
       "      <td>0.027414</td>\n",
       "      <td>0.067848</td>\n",
       "      <td>0.000000</td>\n",
       "      <td>0.116311</td>\n",
       "      <td>NaN</td>\n",
       "      <td>NaN</td>\n",
       "      <td>0.180159</td>\n",
       "      <td>0.127492</td>\n",
       "      <td>0.203895</td>\n",
       "      <td>...</td>\n",
       "      <td>0.244825</td>\n",
       "      <td>0.232622</td>\n",
       "      <td>NaN</td>\n",
       "      <td>0.181532</td>\n",
       "      <td>NaN</td>\n",
       "      <td>NaN</td>\n",
       "      <td>0.454588</td>\n",
       "      <td>0.397016</td>\n",
       "      <td>0.368260</td>\n",
       "      <td>0.192830</td>\n",
       "    </tr>\n",
       "    <tr>\n",
       "      <th>1851</th>\n",
       "      <td>0.053124</td>\n",
       "      <td>0.051015</td>\n",
       "      <td>0.063090</td>\n",
       "      <td>0.046884</td>\n",
       "      <td>0.138660</td>\n",
       "      <td>NaN</td>\n",
       "      <td>NaN</td>\n",
       "      <td>0.191784</td>\n",
       "      <td>0.112257</td>\n",
       "      <td>0.169512</td>\n",
       "      <td>...</td>\n",
       "      <td>0.173903</td>\n",
       "      <td>0.148511</td>\n",
       "      <td>NaN</td>\n",
       "      <td>0.149551</td>\n",
       "      <td>NaN</td>\n",
       "      <td>NaN</td>\n",
       "      <td>0.473553</td>\n",
       "      <td>0.353497</td>\n",
       "      <td>0.410290</td>\n",
       "      <td>0.199180</td>\n",
       "    </tr>\n",
       "    <tr>\n",
       "      <th>1852</th>\n",
       "      <td>0.053322</td>\n",
       "      <td>0.033783</td>\n",
       "      <td>0.055794</td>\n",
       "      <td>0.089077</td>\n",
       "      <td>0.123801</td>\n",
       "      <td>NaN</td>\n",
       "      <td>NaN</td>\n",
       "      <td>0.240186</td>\n",
       "      <td>0.131481</td>\n",
       "      <td>0.206256</td>\n",
       "      <td>...</td>\n",
       "      <td>0.147990</td>\n",
       "      <td>0.141869</td>\n",
       "      <td>NaN</td>\n",
       "      <td>0.154552</td>\n",
       "      <td>NaN</td>\n",
       "      <td>NaN</td>\n",
       "      <td>0.394209</td>\n",
       "      <td>0.273880</td>\n",
       "      <td>0.347596</td>\n",
       "      <td>0.243688</td>\n",
       "    </tr>\n",
       "    <tr>\n",
       "      <th>1853</th>\n",
       "      <td>0.116830</td>\n",
       "      <td>0.062219</td>\n",
       "      <td>0.111770</td>\n",
       "      <td>0.057927</td>\n",
       "      <td>0.160729</td>\n",
       "      <td>NaN</td>\n",
       "      <td>NaN</td>\n",
       "      <td>0.346826</td>\n",
       "      <td>0.145863</td>\n",
       "      <td>0.323272</td>\n",
       "      <td>...</td>\n",
       "      <td>0.168371</td>\n",
       "      <td>0.138256</td>\n",
       "      <td>NaN</td>\n",
       "      <td>0.274907</td>\n",
       "      <td>NaN</td>\n",
       "      <td>NaN</td>\n",
       "      <td>0.538019</td>\n",
       "      <td>0.438706</td>\n",
       "      <td>0.403531</td>\n",
       "      <td>0.312454</td>\n",
       "    </tr>\n",
       "    <tr>\n",
       "      <th>1854</th>\n",
       "      <td>0.147611</td>\n",
       "      <td>0.103305</td>\n",
       "      <td>0.106205</td>\n",
       "      <td>0.013777</td>\n",
       "      <td>0.248512</td>\n",
       "      <td>NaN</td>\n",
       "      <td>NaN</td>\n",
       "      <td>0.392116</td>\n",
       "      <td>0.207907</td>\n",
       "      <td>0.391238</td>\n",
       "      <td>...</td>\n",
       "      <td>0.226988</td>\n",
       "      <td>0.087277</td>\n",
       "      <td>NaN</td>\n",
       "      <td>0.423027</td>\n",
       "      <td>NaN</td>\n",
       "      <td>NaN</td>\n",
       "      <td>0.505190</td>\n",
       "      <td>0.446306</td>\n",
       "      <td>0.402572</td>\n",
       "      <td>0.268776</td>\n",
       "    </tr>\n",
       "  </tbody>\n",
       "</table>\n",
       "<p>5 rows × 40 columns</p>\n",
       "</div>"
      ],
      "text/plain": [
       "          Beef     Hides      Lamb      Pork      Coal  Natural gas  \\\n",
       "Year                                                                  \n",
       "1850  0.063294  0.027414  0.067848  0.000000  0.116311          NaN   \n",
       "1851  0.053124  0.051015  0.063090  0.046884  0.138660          NaN   \n",
       "1852  0.053322  0.033783  0.055794  0.089077  0.123801          NaN   \n",
       "1853  0.116830  0.062219  0.111770  0.057927  0.160729          NaN   \n",
       "1854  0.147611  0.103305  0.106205  0.013777  0.248512          NaN   \n",
       "\n",
       "      Petroleum    Barley      Corn      Rice  ...    Coffee    Cotton  \\\n",
       "Year                                           ...                       \n",
       "1850        NaN  0.180159  0.127492  0.203895  ...  0.244825  0.232622   \n",
       "1851        NaN  0.191784  0.112257  0.169512  ...  0.173903  0.148511   \n",
       "1852        NaN  0.240186  0.131481  0.206256  ...  0.147990  0.141869   \n",
       "1853        NaN  0.346826  0.145863  0.323272  ...  0.168371  0.138256   \n",
       "1854        NaN  0.392116  0.207907  0.391238  ...  0.226988  0.087277   \n",
       "\n",
       "      Cottonseed  Palm oil  Peanuts  Rubber     Sugar       Tea   Tobacco  \\\n",
       "Year                                                                        \n",
       "1850         NaN  0.181532      NaN     NaN  0.454588  0.397016  0.368260   \n",
       "1851         NaN  0.149551      NaN     NaN  0.473553  0.353497  0.410290   \n",
       "1852         NaN  0.154552      NaN     NaN  0.394209  0.273880  0.347596   \n",
       "1853         NaN  0.274907      NaN     NaN  0.538019  0.438706  0.403531   \n",
       "1854         NaN  0.423027      NaN     NaN  0.505190  0.446306  0.402572   \n",
       "\n",
       "          Wool  \n",
       "Year            \n",
       "1850  0.192830  \n",
       "1851  0.199180  \n",
       "1852  0.243688  \n",
       "1853  0.312454  \n",
       "1854  0.268776  \n",
       "\n",
       "[5 rows x 40 columns]"
      ]
     },
     "metadata": {},
     "output_type": "display_data"
    }
   ],
   "source": [
    "# run same normalisation on the IMF database for a control number\n",
    "imf_df = imf_df.apply(normalize_series_minmax, axis=1)\n",
    "display(imf_df.head())"
   ]
  },
  {
   "cell_type": "markdown",
   "metadata": {},
   "source": [
    "### Differentieren\n",
    "\n",
    "Bereken het gemiddelde per jaar en bereken het verschil per commodity per jaar"
   ]
  },
  {
   "cell_type": "code",
   "execution_count": 17,
   "metadata": {},
   "outputs": [
    {
     "data": {
      "text/html": [
       "<div>\n",
       "<style scoped>\n",
       "    .dataframe tbody tr th:only-of-type {\n",
       "        vertical-align: middle;\n",
       "    }\n",
       "\n",
       "    .dataframe tbody tr th {\n",
       "        vertical-align: top;\n",
       "    }\n",
       "\n",
       "    .dataframe thead th {\n",
       "        text-align: right;\n",
       "    }\n",
       "</style>\n",
       "<table border=\"1\" class=\"dataframe\">\n",
       "  <thead>\n",
       "    <tr style=\"text-align: right;\">\n",
       "      <th></th>\n",
       "      <th>mp_year</th>\n",
       "      <th>1992</th>\n",
       "      <th>1993</th>\n",
       "      <th>1994</th>\n",
       "      <th>1995</th>\n",
       "      <th>1996</th>\n",
       "      <th>1997</th>\n",
       "      <th>1998</th>\n",
       "      <th>1999</th>\n",
       "      <th>2000</th>\n",
       "      <th>2001</th>\n",
       "      <th>...</th>\n",
       "      <th>2010</th>\n",
       "      <th>2011</th>\n",
       "      <th>2012</th>\n",
       "      <th>2013</th>\n",
       "      <th>2014</th>\n",
       "      <th>2015</th>\n",
       "      <th>2016</th>\n",
       "      <th>2017</th>\n",
       "      <th>2018</th>\n",
       "      <th>2019</th>\n",
       "    </tr>\n",
       "    <tr>\n",
       "      <th>adm0_name</th>\n",
       "      <th>cm_name_grouped</th>\n",
       "      <th></th>\n",
       "      <th></th>\n",
       "      <th></th>\n",
       "      <th></th>\n",
       "      <th></th>\n",
       "      <th></th>\n",
       "      <th></th>\n",
       "      <th></th>\n",
       "      <th></th>\n",
       "      <th></th>\n",
       "      <th></th>\n",
       "      <th></th>\n",
       "      <th></th>\n",
       "      <th></th>\n",
       "      <th></th>\n",
       "      <th></th>\n",
       "      <th></th>\n",
       "      <th></th>\n",
       "      <th></th>\n",
       "      <th></th>\n",
       "      <th></th>\n",
       "    </tr>\n",
       "  </thead>\n",
       "  <tbody>\n",
       "    <tr>\n",
       "      <th rowspan=\"5\" valign=\"top\">Afghanistan</th>\n",
       "      <th>Bread</th>\n",
       "      <td>NaN</td>\n",
       "      <td>NaN</td>\n",
       "      <td>NaN</td>\n",
       "      <td>NaN</td>\n",
       "      <td>NaN</td>\n",
       "      <td>NaN</td>\n",
       "      <td>NaN</td>\n",
       "      <td>NaN</td>\n",
       "      <td>NaN</td>\n",
       "      <td>NaN</td>\n",
       "      <td>...</td>\n",
       "      <td>NaN</td>\n",
       "      <td>NaN</td>\n",
       "      <td>NaN</td>\n",
       "      <td>NaN</td>\n",
       "      <td>NaN</td>\n",
       "      <td>0.055021</td>\n",
       "      <td>-0.007271</td>\n",
       "      <td>-0.006384</td>\n",
       "      <td>-0.004228</td>\n",
       "      <td>0.000900</td>\n",
       "    </tr>\n",
       "    <tr>\n",
       "      <th>Exchange</th>\n",
       "      <td>NaN</td>\n",
       "      <td>NaN</td>\n",
       "      <td>NaN</td>\n",
       "      <td>NaN</td>\n",
       "      <td>NaN</td>\n",
       "      <td>NaN</td>\n",
       "      <td>NaN</td>\n",
       "      <td>NaN</td>\n",
       "      <td>NaN</td>\n",
       "      <td>NaN</td>\n",
       "      <td>...</td>\n",
       "      <td>NaN</td>\n",
       "      <td>NaN</td>\n",
       "      <td>NaN</td>\n",
       "      <td>NaN</td>\n",
       "      <td>NaN</td>\n",
       "      <td>0.178623</td>\n",
       "      <td>0.301038</td>\n",
       "      <td>0.014753</td>\n",
       "      <td>0.200153</td>\n",
       "      <td>0.154888</td>\n",
       "    </tr>\n",
       "    <tr>\n",
       "      <th>Fuel</th>\n",
       "      <td>NaN</td>\n",
       "      <td>NaN</td>\n",
       "      <td>NaN</td>\n",
       "      <td>NaN</td>\n",
       "      <td>NaN</td>\n",
       "      <td>NaN</td>\n",
       "      <td>NaN</td>\n",
       "      <td>NaN</td>\n",
       "      <td>NaN</td>\n",
       "      <td>-0.007045</td>\n",
       "      <td>...</td>\n",
       "      <td>NaN</td>\n",
       "      <td>NaN</td>\n",
       "      <td>NaN</td>\n",
       "      <td>NaN</td>\n",
       "      <td>NaN</td>\n",
       "      <td>-0.000093</td>\n",
       "      <td>-0.000046</td>\n",
       "      <td>0.000044</td>\n",
       "      <td>0.000035</td>\n",
       "      <td>0.000014</td>\n",
       "    </tr>\n",
       "    <tr>\n",
       "      <th>Livestock</th>\n",
       "      <td>NaN</td>\n",
       "      <td>NaN</td>\n",
       "      <td>NaN</td>\n",
       "      <td>NaN</td>\n",
       "      <td>NaN</td>\n",
       "      <td>NaN</td>\n",
       "      <td>NaN</td>\n",
       "      <td>NaN</td>\n",
       "      <td>NaN</td>\n",
       "      <td>0.135611</td>\n",
       "      <td>...</td>\n",
       "      <td>NaN</td>\n",
       "      <td>NaN</td>\n",
       "      <td>NaN</td>\n",
       "      <td>NaN</td>\n",
       "      <td>NaN</td>\n",
       "      <td>NaN</td>\n",
       "      <td>NaN</td>\n",
       "      <td>NaN</td>\n",
       "      <td>NaN</td>\n",
       "      <td>NaN</td>\n",
       "    </tr>\n",
       "    <tr>\n",
       "      <th>Rice</th>\n",
       "      <td>NaN</td>\n",
       "      <td>NaN</td>\n",
       "      <td>NaN</td>\n",
       "      <td>NaN</td>\n",
       "      <td>NaN</td>\n",
       "      <td>NaN</td>\n",
       "      <td>NaN</td>\n",
       "      <td>NaN</td>\n",
       "      <td>NaN</td>\n",
       "      <td>NaN</td>\n",
       "      <td>...</td>\n",
       "      <td>-0.041588</td>\n",
       "      <td>0.015685</td>\n",
       "      <td>0.072097</td>\n",
       "      <td>0.123801</td>\n",
       "      <td>-0.054074</td>\n",
       "      <td>-0.047844</td>\n",
       "      <td>0.025185</td>\n",
       "      <td>0.038895</td>\n",
       "      <td>0.025792</td>\n",
       "      <td>-0.002980</td>\n",
       "    </tr>\n",
       "  </tbody>\n",
       "</table>\n",
       "<p>5 rows × 28 columns</p>\n",
       "</div>"
      ],
      "text/plain": [
       "mp_year                      1992  1993  1994  1995  1996  1997  1998  1999  \\\n",
       "adm0_name   cm_name_grouped                                                   \n",
       "Afghanistan Bread             NaN   NaN   NaN   NaN   NaN   NaN   NaN   NaN   \n",
       "            Exchange          NaN   NaN   NaN   NaN   NaN   NaN   NaN   NaN   \n",
       "            Fuel              NaN   NaN   NaN   NaN   NaN   NaN   NaN   NaN   \n",
       "            Livestock         NaN   NaN   NaN   NaN   NaN   NaN   NaN   NaN   \n",
       "            Rice              NaN   NaN   NaN   NaN   NaN   NaN   NaN   NaN   \n",
       "\n",
       "mp_year                      2000      2001  ...      2010      2011  \\\n",
       "adm0_name   cm_name_grouped                  ...                       \n",
       "Afghanistan Bread             NaN       NaN  ...       NaN       NaN   \n",
       "            Exchange          NaN       NaN  ...       NaN       NaN   \n",
       "            Fuel              NaN -0.007045  ...       NaN       NaN   \n",
       "            Livestock         NaN  0.135611  ...       NaN       NaN   \n",
       "            Rice              NaN       NaN  ... -0.041588  0.015685   \n",
       "\n",
       "mp_year                          2012      2013      2014      2015      2016  \\\n",
       "adm0_name   cm_name_grouped                                                     \n",
       "Afghanistan Bread                 NaN       NaN       NaN  0.055021 -0.007271   \n",
       "            Exchange              NaN       NaN       NaN  0.178623  0.301038   \n",
       "            Fuel                  NaN       NaN       NaN -0.000093 -0.000046   \n",
       "            Livestock             NaN       NaN       NaN       NaN       NaN   \n",
       "            Rice             0.072097  0.123801 -0.054074 -0.047844  0.025185   \n",
       "\n",
       "mp_year                          2017      2018      2019  \n",
       "adm0_name   cm_name_grouped                                \n",
       "Afghanistan Bread           -0.006384 -0.004228  0.000900  \n",
       "            Exchange         0.014753  0.200153  0.154888  \n",
       "            Fuel             0.000044  0.000035  0.000014  \n",
       "            Livestock             NaN       NaN       NaN  \n",
       "            Rice             0.038895  0.025792 -0.002980  \n",
       "\n",
       "[5 rows x 28 columns]"
      ]
     },
     "metadata": {},
     "output_type": "display_data"
    },
    {
     "data": {
      "text/html": [
       "<div>\n",
       "<style scoped>\n",
       "    .dataframe tbody tr th:only-of-type {\n",
       "        vertical-align: middle;\n",
       "    }\n",
       "\n",
       "    .dataframe tbody tr th {\n",
       "        vertical-align: top;\n",
       "    }\n",
       "\n",
       "    .dataframe thead th {\n",
       "        text-align: right;\n",
       "    }\n",
       "</style>\n",
       "<table border=\"1\" class=\"dataframe\">\n",
       "  <thead>\n",
       "    <tr style=\"text-align: right;\">\n",
       "      <th></th>\n",
       "      <th>Beef</th>\n",
       "      <th>Hides</th>\n",
       "      <th>Lamb</th>\n",
       "      <th>Pork</th>\n",
       "      <th>Coal</th>\n",
       "      <th>Natural gas</th>\n",
       "      <th>Petroleum</th>\n",
       "      <th>Barley</th>\n",
       "      <th>Corn</th>\n",
       "      <th>Rice</th>\n",
       "      <th>...</th>\n",
       "      <th>Coffee</th>\n",
       "      <th>Cotton</th>\n",
       "      <th>Cottonseed</th>\n",
       "      <th>Palm oil</th>\n",
       "      <th>Peanuts</th>\n",
       "      <th>Rubber</th>\n",
       "      <th>Sugar</th>\n",
       "      <th>Tea</th>\n",
       "      <th>Tobacco</th>\n",
       "      <th>Wool</th>\n",
       "    </tr>\n",
       "    <tr>\n",
       "      <th>Year</th>\n",
       "      <th></th>\n",
       "      <th></th>\n",
       "      <th></th>\n",
       "      <th></th>\n",
       "      <th></th>\n",
       "      <th></th>\n",
       "      <th></th>\n",
       "      <th></th>\n",
       "      <th></th>\n",
       "      <th></th>\n",
       "      <th></th>\n",
       "      <th></th>\n",
       "      <th></th>\n",
       "      <th></th>\n",
       "      <th></th>\n",
       "      <th></th>\n",
       "      <th></th>\n",
       "      <th></th>\n",
       "      <th></th>\n",
       "      <th></th>\n",
       "      <th></th>\n",
       "    </tr>\n",
       "  </thead>\n",
       "  <tbody>\n",
       "    <tr>\n",
       "      <th>1850</th>\n",
       "      <td>NaN</td>\n",
       "      <td>NaN</td>\n",
       "      <td>NaN</td>\n",
       "      <td>NaN</td>\n",
       "      <td>NaN</td>\n",
       "      <td>NaN</td>\n",
       "      <td>NaN</td>\n",
       "      <td>NaN</td>\n",
       "      <td>NaN</td>\n",
       "      <td>NaN</td>\n",
       "      <td>...</td>\n",
       "      <td>NaN</td>\n",
       "      <td>NaN</td>\n",
       "      <td>NaN</td>\n",
       "      <td>NaN</td>\n",
       "      <td>NaN</td>\n",
       "      <td>NaN</td>\n",
       "      <td>NaN</td>\n",
       "      <td>NaN</td>\n",
       "      <td>NaN</td>\n",
       "      <td>NaN</td>\n",
       "    </tr>\n",
       "    <tr>\n",
       "      <th>1851</th>\n",
       "      <td>-0.010170</td>\n",
       "      <td>0.023602</td>\n",
       "      <td>-0.004758</td>\n",
       "      <td>0.046884</td>\n",
       "      <td>0.022349</td>\n",
       "      <td>NaN</td>\n",
       "      <td>NaN</td>\n",
       "      <td>0.011625</td>\n",
       "      <td>-0.015235</td>\n",
       "      <td>-0.034382</td>\n",
       "      <td>...</td>\n",
       "      <td>-0.070922</td>\n",
       "      <td>-0.084111</td>\n",
       "      <td>NaN</td>\n",
       "      <td>-0.031981</td>\n",
       "      <td>NaN</td>\n",
       "      <td>NaN</td>\n",
       "      <td>0.018966</td>\n",
       "      <td>-0.043519</td>\n",
       "      <td>0.042030</td>\n",
       "      <td>0.006350</td>\n",
       "    </tr>\n",
       "    <tr>\n",
       "      <th>1852</th>\n",
       "      <td>0.000198</td>\n",
       "      <td>-0.017233</td>\n",
       "      <td>-0.007296</td>\n",
       "      <td>0.042192</td>\n",
       "      <td>-0.014859</td>\n",
       "      <td>NaN</td>\n",
       "      <td>NaN</td>\n",
       "      <td>0.048402</td>\n",
       "      <td>0.019224</td>\n",
       "      <td>0.036744</td>\n",
       "      <td>...</td>\n",
       "      <td>-0.025913</td>\n",
       "      <td>-0.006642</td>\n",
       "      <td>NaN</td>\n",
       "      <td>0.005002</td>\n",
       "      <td>NaN</td>\n",
       "      <td>NaN</td>\n",
       "      <td>-0.079345</td>\n",
       "      <td>-0.079617</td>\n",
       "      <td>-0.062694</td>\n",
       "      <td>0.044508</td>\n",
       "    </tr>\n",
       "    <tr>\n",
       "      <th>1853</th>\n",
       "      <td>0.063508</td>\n",
       "      <td>0.028436</td>\n",
       "      <td>0.055976</td>\n",
       "      <td>-0.031150</td>\n",
       "      <td>0.036928</td>\n",
       "      <td>NaN</td>\n",
       "      <td>NaN</td>\n",
       "      <td>0.106640</td>\n",
       "      <td>0.014382</td>\n",
       "      <td>0.117016</td>\n",
       "      <td>...</td>\n",
       "      <td>0.020381</td>\n",
       "      <td>-0.003613</td>\n",
       "      <td>NaN</td>\n",
       "      <td>0.120354</td>\n",
       "      <td>NaN</td>\n",
       "      <td>NaN</td>\n",
       "      <td>0.143810</td>\n",
       "      <td>0.164826</td>\n",
       "      <td>0.055936</td>\n",
       "      <td>0.068766</td>\n",
       "    </tr>\n",
       "    <tr>\n",
       "      <th>1854</th>\n",
       "      <td>0.030781</td>\n",
       "      <td>0.041086</td>\n",
       "      <td>-0.005565</td>\n",
       "      <td>-0.044150</td>\n",
       "      <td>0.087783</td>\n",
       "      <td>NaN</td>\n",
       "      <td>NaN</td>\n",
       "      <td>0.045289</td>\n",
       "      <td>0.062044</td>\n",
       "      <td>0.067966</td>\n",
       "      <td>...</td>\n",
       "      <td>0.058618</td>\n",
       "      <td>-0.050979</td>\n",
       "      <td>NaN</td>\n",
       "      <td>0.148120</td>\n",
       "      <td>NaN</td>\n",
       "      <td>NaN</td>\n",
       "      <td>-0.032829</td>\n",
       "      <td>0.007600</td>\n",
       "      <td>-0.000959</td>\n",
       "      <td>-0.043678</td>\n",
       "    </tr>\n",
       "  </tbody>\n",
       "</table>\n",
       "<p>5 rows × 40 columns</p>\n",
       "</div>"
      ],
      "text/plain": [
       "          Beef     Hides      Lamb      Pork      Coal  Natural gas  \\\n",
       "Year                                                                  \n",
       "1850       NaN       NaN       NaN       NaN       NaN          NaN   \n",
       "1851 -0.010170  0.023602 -0.004758  0.046884  0.022349          NaN   \n",
       "1852  0.000198 -0.017233 -0.007296  0.042192 -0.014859          NaN   \n",
       "1853  0.063508  0.028436  0.055976 -0.031150  0.036928          NaN   \n",
       "1854  0.030781  0.041086 -0.005565 -0.044150  0.087783          NaN   \n",
       "\n",
       "      Petroleum    Barley      Corn      Rice  ...    Coffee    Cotton  \\\n",
       "Year                                           ...                       \n",
       "1850        NaN       NaN       NaN       NaN  ...       NaN       NaN   \n",
       "1851        NaN  0.011625 -0.015235 -0.034382  ... -0.070922 -0.084111   \n",
       "1852        NaN  0.048402  0.019224  0.036744  ... -0.025913 -0.006642   \n",
       "1853        NaN  0.106640  0.014382  0.117016  ...  0.020381 -0.003613   \n",
       "1854        NaN  0.045289  0.062044  0.067966  ...  0.058618 -0.050979   \n",
       "\n",
       "      Cottonseed  Palm oil  Peanuts  Rubber     Sugar       Tea   Tobacco  \\\n",
       "Year                                                                        \n",
       "1850         NaN       NaN      NaN     NaN       NaN       NaN       NaN   \n",
       "1851         NaN -0.031981      NaN     NaN  0.018966 -0.043519  0.042030   \n",
       "1852         NaN  0.005002      NaN     NaN -0.079345 -0.079617 -0.062694   \n",
       "1853         NaN  0.120354      NaN     NaN  0.143810  0.164826  0.055936   \n",
       "1854         NaN  0.148120      NaN     NaN -0.032829  0.007600 -0.000959   \n",
       "\n",
       "          Wool  \n",
       "Year            \n",
       "1850       NaN  \n",
       "1851  0.006350  \n",
       "1852  0.044508  \n",
       "1853  0.068766  \n",
       "1854 -0.043678  \n",
       "\n",
       "[5 rows x 40 columns]"
      ]
     },
     "metadata": {},
     "output_type": "display_data"
    }
   ],
   "source": [
    "food_diff_df = food_df.groupby(by=[\"adm0_name\", \"cm_name_grouped\", \"mp_year\"])[\"mp_price_norm\"].mean().unstack(level=2).diff(axis=1)\n",
    "display(food_diff_df.head())\n",
    "\n",
    "imf_diff_df = imf_df.diff()\n",
    "display(imf_diff_df.head())"
   ]
  },
  {
   "cell_type": "markdown",
   "metadata": {},
   "source": [
    "### Filter\n",
    "\n",
    "[TODO] Filter waardes in de food_data die verstorend werken"
   ]
  },
  {
   "cell_type": "markdown",
   "metadata": {},
   "source": [
    "### Utilities\n"
   ]
  },
  {
   "cell_type": "code",
   "execution_count": 18,
   "metadata": {
    "ExecuteTime": {
     "end_time": "2019-06-23T09:32:04.453583Z",
     "start_time": "2019-06-23T09:32:03.877584Z"
    }
   },
   "outputs": [
    {
     "data": {
      "text/plain": [
       "Index(['Millet - Retail', 'Maize - Retail', 'Sorghum - Retail',\n",
       "       'Rice (imported) - Retail', 'Sugar - Retail', 'Rice (local) - Retail',\n",
       "       'Rice - Retail', 'Wheat flour - Retail', 'Maize (white) - Retail',\n",
       "       'Wheat - Retail'],\n",
       "      dtype='object', name='cm_name')"
      ]
     },
     "metadata": {},
     "output_type": "display_data"
    },
    {
     "data": {
      "text/plain": [
       "Index(['Rice', 'Maize', 'Oil', 'Beans', 'Wheat', 'Meat', 'Sorghum', 'Millet',\n",
       "       'Fuel', 'Sugar'],\n",
       "      dtype='object', name='cm_name_grouped')"
      ]
     },
     "metadata": {},
     "output_type": "display_data"
    },
    {
     "data": {
      "text/plain": [
       "Index(['Rwanda', 'Bassas da India', 'Mali', 'Niger', 'Syrian Arab Republic',\n",
       "       'Democratic Republic of the Congo', 'Kyrgyzstan', 'Burundi', 'Zambia',\n",
       "       'Lebanon'],\n",
       "      dtype='object', name='adm0_name')"
      ]
     },
     "metadata": {},
     "output_type": "display_data"
    }
   ],
   "source": [
    "# quick lists\n",
    "sorted_commodities = food_df.groupby(by=[\"cm_name\"]).size().sort_values(ascending=False).index\n",
    "best_commodities = sorted_commodities[:10]\n",
    "\n",
    "sorted_commodities_grouped = food_df.groupby(by=[\"cm_name_grouped\"]).size().sort_values(ascending=False).index\n",
    "best_commodities_grouped = sorted_commodities_grouped[:10]\n",
    "\n",
    "sorted_countries = food_df.groupby(by=[\"adm0_name\"]).size().sort_values(ascending=False).index\n",
    "best_countries = sorted_countries[:10]\n",
    "\n",
    "display(best_commodities,best_commodities_grouped, best_countries)"
   ]
  },
  {
   "cell_type": "markdown",
   "metadata": {
    "toc-hr-collapsed": true
   },
   "source": [
    "## Verkenning\n",
    "\n",
    "### [Barchart] Hoeveelheid data"
   ]
  },
  {
   "cell_type": "code",
   "execution_count": 19,
   "metadata": {},
   "outputs": [],
   "source": [
    "def barchart_ui(data_func):\n",
    "    \"seperates the ui from the data and rendering\"\n",
    "    value_toggle = widgets.ToggleButtons(\n",
    "        options=[(\"Total Records\",\n",
    "                  \"total_records\"), (\"Filled years\", \"filled_years\")])\n",
    "\n",
    "    grouping_toggle = widgets.ToggleButtons(\n",
    "        options=[(\"Original Commodities\", [\"adm0_name\", \"cm_name\"]),\n",
    "                 (\"Grouped Commodities\", [\"adm0_name\", \"cm_name_grouped\"]), \n",
    "                 (\"Country\", [\"adm0_name\"])])\n",
    "\n",
    "    length_slider = widgets.IntSlider(min=1,\n",
    "                                      max=51,\n",
    "                                      step=1,\n",
    "                                      continuous_update=False,\n",
    "                                      value=25)\n",
    "\n",
    "    interact(data_func,\n",
    "             value=value_toggle,\n",
    "             grouping=grouping_toggle,\n",
    "             length=length_slider)\n"
   ]
  },
  {
   "cell_type": "code",
   "execution_count": 20,
   "metadata": {
    "ExecuteTime": {
     "end_time": "2019-06-23T09:32:06.226395Z",
     "start_time": "2019-06-23T09:32:05.795161Z"
    },
    "scrolled": false
   },
   "outputs": [
    {
     "data": {
      "application/vnd.jupyter.widget-view+json": {
       "model_id": "c53230f273c04c1495e90632ebc82fcc",
       "version_major": 2,
       "version_minor": 0
      },
      "text/plain": [
       "interactive(children=(ToggleButtons(description='value', options=(('Total Records', 'total_records'), ('Filled…"
      ]
     },
     "metadata": {},
     "output_type": "display_data"
    }
   ],
   "source": [
    "def barchart_render(data, title):\n",
    "    \"\"\"render a horizontal barchart with some configuration\"\"\"\n",
    "    barchart_trace = go.Bar(y=data.index, x=data.values, orientation='h')\n",
    "    layout = go.Layout(yaxis=dict(automargin=True),\n",
    "                       height=200 + 20 * len(data.index),\n",
    "                       title=title)\n",
    "\n",
    "    iplot(go.Figure(data=[barchart_trace], layout=layout))\n",
    "\n",
    "\n",
    "def barchart_data(value=\"total_records\", grouping=[\"adm0_name\"], length=25):\n",
    "    \"\"\"switch between different groupings and values\"\"\"\n",
    "    # group by the user selection\n",
    "    groups = food_df.groupby(by=[*grouping, \"mp_year\"])\n",
    "\n",
    "    # check the value to determine the metric\n",
    "    if value == \"total_records\":\n",
    "        data = groups.size()\n",
    "\n",
    "    if value == \"filled_years\":\n",
    "        data = groups[\"mp_price\"].any()\n",
    "\n",
    "    # regroup by the last level, sum and sort\n",
    "    data = data.groupby(level=grouping[-1:]).sum().sort_values()\n",
    "    title = f\"Total {grouping} by {value}: {data.sum()} \"\n",
    "    \n",
    "    barchart_render(data[-length:], title)\n",
    "\n",
    "barchart_ui(barchart_data)"
   ]
  },
  {
   "cell_type": "markdown",
   "metadata": {},
   "source": [
    "### [Heatmap] Locatie van de data\n",
    "\n",
    "[TODO] Has a weird bug on first render which doesn't show chart"
   ]
  },
  {
   "cell_type": "code",
   "execution_count": 21,
   "metadata": {},
   "outputs": [],
   "source": [
    "def heatmap_ui(data_func):\n",
    "    \"\"\"seperates the quite complex heatmap ui from the transformations and rendering\"\"\"\n",
    "    # construct a dict of togglable widgets so hiding becomes easier\n",
    "    togglable_widgets = {\n",
    "        \"country\": widgets.Dropdown(options=food_df[\"adm0_name\"].unique()),\n",
    "        \"commodity\": widgets.Dropdown(options=best_commodities_grouped)\n",
    "    }\n",
    "\n",
    "    # toggle buttons\n",
    "    subject_widget = widgets.ToggleButtons(\n",
    "        options=[\"commodity\", \"country\"],\n",
    "        description='Subject',\n",
    "        value=\"commodity\",\n",
    "    )\n",
    "\n",
    "    value_widget = widgets.ToggleButtons(\n",
    "        options=[\"count\", \"mp_price_norm\", \"mp_price_norm_diff\"],\n",
    "        description='Value',\n",
    "        value=\"count\",\n",
    "    )\n",
    "\n",
    "    # setup ui layout\n",
    "    ui = VBox([\n",
    "        HBox([\n",
    "            subject_widget, togglable_widgets[\"country\"],\n",
    "            togglable_widgets[\"commodity\"]\n",
    "        ]), value_widget\n",
    "    ])\n",
    "\n",
    "    def widget_toggle_func(**kwargs):\n",
    "        \"\"\"helper to toggle visiblity of widgets, uses a closure to get access to the toggleable widgets\"\"\"\n",
    "        for widget in togglable_widgets.values():\n",
    "            widget.layout.display = \"none\"\n",
    "        togglable_widgets[kwargs[\"subject\"]].layout.display = \"flex\"\n",
    "\n",
    "        # render the actual barchart\n",
    "        data_func(**kwargs)\n",
    "\n",
    "    # interactive argument widget bindings\n",
    "    out = interactive_output(\n",
    "        widget_toggle_func, {\n",
    "            \"subject\": subject_widget,\n",
    "            \"value\": value_widget,\n",
    "            \"commodity\": togglable_widgets[\"commodity\"],\n",
    "            \"country\": togglable_widgets[\"country\"]\n",
    "        })\n",
    "\n",
    "    # display the ui and bind the output\n",
    "    display(ui, out)\n"
   ]
  },
  {
   "cell_type": "code",
   "execution_count": 22,
   "metadata": {
    "ExecuteTime": {
     "end_time": "2019-06-23T09:32:07.991107Z",
     "start_time": "2019-06-23T09:32:07.560465Z"
    },
    "scrolled": false
   },
   "outputs": [
    {
     "data": {
      "application/vnd.jupyter.widget-view+json": {
       "model_id": "ff5eed49a84d453f8122d0934dd9b837",
       "version_major": 2,
       "version_minor": 0
      },
      "text/plain": [
       "VBox(children=(HBox(children=(ToggleButtons(description='Subject', options=('commodity', 'country'), value='co…"
      ]
     },
     "metadata": {},
     "output_type": "display_data"
    },
    {
     "data": {
      "application/vnd.jupyter.widget-view+json": {
       "model_id": "c5ccae2bff924daa982d98d2faf4b1bb",
       "version_major": 2,
       "version_minor": 0
      },
      "text/plain": [
       "Output()"
      ]
     },
     "metadata": {},
     "output_type": "display_data"
    }
   ],
   "source": [
    "def heatmap_render(data, trace_layout, title):\n",
    "    \"\"\"render the output\"\"\"\n",
    "    heatmap_trace = go.Heatmap(z=data.values,\n",
    "                               x=data.columns,\n",
    "                               y=data.index,\n",
    "                               **trace_layout)\n",
    "    \n",
    "    axis = dict(tickfont=dict(size=10), showticklabels=True, automargin=True)\n",
    "    layout = go.Layout(height=200 + 12 * len(data.index),\n",
    "                       xaxis={\"range\": [1990, 2019]},\n",
    "                       yaxis=axis,\n",
    "                       title=title)\n",
    "\n",
    "    fig = go.Figure(data=[heatmap_trace], layout=layout)\n",
    "    iplot(fig)\n",
    "\n",
    "\n",
    "def heatmap_data(subject, value, commodity, country):\n",
    "    \"\"\"transform the food_df to something usable\"\"\"\n",
    "    groups = food_df.groupby(by=[\"adm0_name\", \"cm_name_grouped\", \"mp_year\"])\n",
    "\n",
    "    # determine the metric\n",
    "    if value == \"count\":\n",
    "        metric = groups.size()\n",
    "        trace_layout = {\"zmin\": 0, \"zmax\": 200, \"colorscale\": \"Viridis\"}\n",
    "\n",
    "    elif value == \"mp_price_norm\":\n",
    "        metric = groups[\"mp_price_norm\"].mean()\n",
    "        trace_layout = {\"zmin\": 0, \"zmax\": 1, \"colorscale\": \"Viridis\"}\n",
    "\n",
    "    elif value == \"mp_price_norm_diff\":\n",
    "        metric = groups[\"mp_price_norm\"].mean().groupby(level=[\"adm0_name\", \"cm_name_grouped\"]).diff()\n",
    "        trace_layout = {\n",
    "            \"zmin\": -0.4,\n",
    "            \"zmax\": 0.4,\n",
    "            \"colorscale\": [[1, 'rgb(239,138,98)'], [0.5, 'rgb(255,255,255)'],\n",
    "                           [0, 'rgb(103,169,207)']]\n",
    "        }\n",
    "\n",
    "    # determine the level on which the cross-section needs to be taken\n",
    "    def take_xs(subject, metric):\n",
    "        if subject == \"commodity\":\n",
    "            return metric.xs(commodity, level=\"cm_name_grouped\")\n",
    "\n",
    "        elif subject == \"country\":\n",
    "            return metric.xs(country, level=\"adm0_name\")\n",
    "\n",
    "    # take the cross-section, unstack, sort and add missing years\n",
    "    data = take_xs(subject, metric).unstack(level=\"mp_year\")\n",
    "    data = data.reindex(sorted(data.columns), axis=1)\n",
    "\n",
    "    # construct a count, title and render\n",
    "    record_count = take_xs(subject, groups.size()).sum()\n",
    "    title = f\"{commodity if subject == 'commodity' else country} ({record_count} records)\"\n",
    "    heatmap_render(data, trace_layout, title)\n",
    "\n",
    "\n",
    "heatmap_ui(heatmap_data)"
   ]
  },
  {
   "cell_type": "markdown",
   "metadata": {
    "ExecuteTime": {
     "end_time": "2019-06-17T15:09:03.651124Z",
     "start_time": "2019-06-17T15:09:03.646090Z"
    }
   },
   "source": [
    "### [Line] Means, medians and spread"
   ]
  },
  {
   "cell_type": "code",
   "execution_count": 23,
   "metadata": {
    "ExecuteTime": {
     "end_time": "2019-06-23T09:32:11.540452Z",
     "start_time": "2019-06-23T09:32:11.533931Z"
    }
   },
   "outputs": [],
   "source": [
    "def linehisto_ui(func):\n",
    "    # toggle buttons\n",
    "    value_widget = widgets.ToggleButtons(\n",
    "        options=[\"mp_price\", \"mp_price_norm\"],\n",
    "        description='Value',\n",
    "        value=\"mp_price_norm\",\n",
    "    )\n",
    "\n",
    "    interact(func,\n",
    "             value=value_widget,\n",
    "             country=[*food_df[\"adm0_name\"].unique(), \"World\"],\n",
    "             commodity=[*best_commodities_grouped, \"All\"])"
   ]
  },
  {
   "cell_type": "code",
   "execution_count": 24,
   "metadata": {
    "ExecuteTime": {
     "end_time": "2019-06-23T10:08:47.335614Z",
     "start_time": "2019-06-23T10:08:46.743953Z"
    },
    "scrolled": false
   },
   "outputs": [
    {
     "data": {
      "application/vnd.jupyter.widget-view+json": {
       "model_id": "d140b552fd5d44578ac51711e527e29f",
       "version_major": 2,
       "version_minor": 0
      },
      "text/plain": [
       "interactive(children=(ToggleButtons(description='Value', index=1, options=('mp_price', 'mp_price_norm'), value…"
      ]
     },
     "metadata": {},
     "output_type": "display_data"
    }
   ],
   "source": [
    "def make_line_trace(data, name):\n",
    "    return go.Scatter(x=data.index, y=data.values, name=name)\n",
    "\n",
    "\n",
    "def make_scatter_trace(data):\n",
    "    return go.Scattergl(x=data.index,\n",
    "                        y=data,\n",
    "                        mode='markers',\n",
    "                        name=\"Meetpunten\",\n",
    "                        marker=dict(color=\"#2077b4\",\n",
    "                                    size=2,\n",
    "                                    line=dict(width=0)))\n",
    "\n",
    "\n",
    "def line_render(data_scatter, data_mean, data_median, data_world_mean, title):\n",
    "    \"\"\"plot a line\"\"\"\n",
    "    trace_scatter = make_scatter_trace(data_scatter)\n",
    "    trace_mean = make_line_trace(data_mean, \"Mean\")\n",
    "    trace_median = make_line_trace(data_median, \"Median\")\n",
    "    trace_world_mean = make_line_trace(data_world_mean, \"World Mean\")\n",
    "\n",
    "    layout = go.Layout(title=title, height=800)\n",
    "    fig_scatter = go.Figure(\n",
    "        data=[trace_scatter, trace_mean, trace_median, trace_world_mean],\n",
    "        layout=layout)\n",
    "\n",
    "    iplot(fig_scatter)\n",
    "\n",
    "\n",
    "def line_data(value, country, commodity):\n",
    "    \"\"\"seperate the transformations from ui and rendering\"\"\"\n",
    "    # scatter\n",
    "    data = food_df if country == \"World\" else food_df[food_df[\"adm0_name\"] == country]\n",
    "    data = data if commodity == \"All\" else data[data[\"cm_name_grouped\"] == commodity]\n",
    "\n",
    "    # scatter\n",
    "    data_scatter = data.set_index(data[\"mp_date\"])[value]\n",
    "\n",
    "    # mean\n",
    "    data_mean = data.groupby(by=[data.mp_date.dt.year])[value].mean()\n",
    "\n",
    "    # median\n",
    "    data_median = data.groupby(by=[data.mp_date.dt.year])[value].median()\n",
    "\n",
    "    # naive world mean (only makes sense if normalized)\n",
    "    if value == \"mp_price_norm\":\n",
    "        # truncate the world data        \n",
    "        food_df_trunc = food_df[food_df[\"mp_year\"] >= data[\"mp_year\"].min()]\n",
    "        # make a mean  \n",
    "        data_world_mean = food_df_trunc.groupby(by=\"mp_year\")[value].mean()\n",
    "    else:\n",
    "        data_world_mean = pd.Series()\n",
    "    \n",
    "    # render the line\n",
    "    title = f\"{country}: {commodity}\"\n",
    "    line_render(data_scatter=data_scatter,\n",
    "                data_mean=data_mean,\n",
    "                data_median=data_median,\n",
    "                data_world_mean=data_world_mean,\n",
    "                title=title)\n",
    "\n",
    "linehisto_ui(line_data)"
   ]
  },
  {
   "cell_type": "markdown",
   "metadata": {},
   "source": [
    "### [Histogram] Distributies"
   ]
  },
  {
   "cell_type": "code",
   "execution_count": 25,
   "metadata": {
    "ExecuteTime": {
     "end_time": "2019-06-23T09:32:16.162962Z",
     "start_time": "2019-06-23T09:32:15.453773Z"
    }
   },
   "outputs": [
    {
     "data": {
      "application/vnd.jupyter.widget-view+json": {
       "model_id": "ed48149cb8284f9c8d7c925f15d7da08",
       "version_major": 2,
       "version_minor": 0
      },
      "text/plain": [
       "interactive(children=(ToggleButtons(description='Value', index=1, options=('mp_price', 'mp_price_norm'), value…"
      ]
     },
     "metadata": {},
     "output_type": "display_data"
    }
   ],
   "source": [
    "def make_histo_trace(trace_data, xbins, name):\n",
    "    return go.Histogram(x=trace_data, xbins=xbins, name=name)\n",
    "\n",
    "def histo_render(data):\n",
    "    \"\"\"plot a histogram matrix\"\"\"\n",
    "    # get all possible years\n",
    "    years = data.index.year.unique().values\n",
    "\n",
    "    # use the subplot helper to assign axis labels and do part of the math\n",
    "    rows = math.ceil(len(years) / 3)\n",
    "    cols = 3\n",
    "    fig_histo = tools.make_subplots(rows=rows,\n",
    "                                    cols=cols,\n",
    "                                    print_grid=False, \n",
    "                                    subplot_titles=years.astype('str'),\n",
    "                                    vertical_spacing=0.3/rows)\n",
    "    fig_histo.layout.update(showlegend = False)\n",
    "    fig_histo.layout.update(height = 150 * rows)\n",
    "\n",
    "    # properly set the bins\n",
    "    xbins = dict(\n",
    "        start=0,\n",
    "        end=data.max(),\n",
    "        size=data.max() / 100,\n",
    "    )\n",
    "\n",
    "    # construct all individual traces\n",
    "    for i in range(len(years)):\n",
    "        trace_data = data[data.index.year == years[i]]\n",
    "        name = f\"{years[i]}\"\n",
    "        histo_trace = make_histo_trace(trace_data, xbins, name)\n",
    "        fig_histo.append_trace(histo_trace, math.ceil((i + 1) / 3), i % 3 + 1)\n",
    "\n",
    "    iplot(fig_histo)\n",
    "\n",
    "    \n",
    "def histo_data(value, country, commodity):\n",
    "    \"\"\"seperate the transformations from ui and rendering\"\"\"\n",
    "    data = food_df if country == \"World\" else food_df[food_df[\"adm0_name\"] == country]\n",
    "    data = data if commodity == \"All\" else data[data[\"cm_name_grouped\"] == commodity]\n",
    "\n",
    "    # render the histogram matrix\n",
    "    histo_render(data.set_index(data[\"mp_date\"])[value])   \n",
    "\n",
    "linehisto_ui(histo_data)"
   ]
  },
  {
   "cell_type": "markdown",
   "metadata": {},
   "source": [
    "### [Table] Descriptives"
   ]
  },
  {
   "cell_type": "code",
   "execution_count": 26,
   "metadata": {
    "ExecuteTime": {
     "end_time": "2019-06-23T09:59:34.727451Z",
     "start_time": "2019-06-23T09:59:34.401874Z"
    },
    "scrolled": false
   },
   "outputs": [
    {
     "data": {
      "application/vnd.jupyter.widget-view+json": {
       "model_id": "ff0e2dc501a1437f80b5552f7c4b4ef1",
       "version_major": 2,
       "version_minor": 0
      },
      "text/plain": [
       "interactive(children=(ToggleButtons(description='Value', index=1, options=('mp_price', 'mp_price_norm'), value…"
      ]
     },
     "metadata": {},
     "output_type": "display_data"
    }
   ],
   "source": [
    "def descriptives_data(value, country, commodity):\n",
    "    \"\"\"calculate complete descriptives\"\"\"\n",
    "    data = food_df if country == \"World\" else food_df[food_df[\"adm0_name\"] == country]\n",
    "    data = data if commodity == \"All\" else data[data[\"cm_name_grouped\"] == commodity]\n",
    "    \n",
    "    # per year     \n",
    "    descriptives = data.groupby(by=[\"mp_year\"])[value].describe()\n",
    "    descriptives[\"skew\"] = data.groupby(by=[\"mp_year\"])[value].skew()\n",
    "    descriptives[\"kurtosis\"] = data.groupby(by=[\"mp_year\"])[value].apply(pd.DataFrame.kurt)\n",
    "    \n",
    "    # totals    \n",
    "    totals = data[value].describe().rename(\"Total\")\n",
    "    totals[\"skew\"] = data[value].skew()\n",
    "    totals[\"kurtosis\"] = data[value].kurtosis()\n",
    "    \n",
    "    # do the final bits    \n",
    "    descriptives = descriptives.append(totals)\n",
    "    descriptives[\"cv\"] = descriptives[\"std\"] / descriptives[\"mean\"]\n",
    "    descriptives = descriptives[['count', 'mean', 'std', 'cv', 'min', '25%', '50%', '75%', 'max', 'skew','kurtosis']]\n",
    "    \n",
    "    # style it\n",
    "    descriptives = descriptives.style.background_gradient(cmap=\"viridis\")\n",
    "    \n",
    "    # render them\n",
    "    display(descriptives)\n",
    "\n",
    "linehisto_ui(descriptives_data)"
   ]
  },
  {
   "cell_type": "markdown",
   "metadata": {
    "ExecuteTime": {
     "end_time": "2019-06-22T13:12:09.745905Z",
     "start_time": "2019-06-22T13:12:09.743670Z"
    }
   },
   "source": [
    "[Line + Histo + Descript combination] Zie alles met een enkele UI\n",
    "\n",
    "[TODO] get rid of the (None, None) created by the lambda. Somehow seems to be harder to remove that it should be  \n",
    "[TODO] perf: heeft een serieus snelheidsprobleem doordat ze allemaal hun eigen matrixen bouwen."
   ]
  },
  {
   "cell_type": "code",
   "execution_count": 27,
   "metadata": {
    "ExecuteTime": {
     "end_time": "2019-06-23T09:32:35.180803Z",
     "start_time": "2019-06-23T09:32:35.177986Z"
    },
    "scrolled": false
   },
   "outputs": [],
   "source": [
    "# linehisto_ui(lambda **kwargs: (line_data(**kwargs), histo_data(**kwargs)))\n",
    "# linehisto_ui(lambda **kwargs: (line_data(**kwargs), histo_data(**kwargs), descriptives_data(**kwargs)))"
   ]
  },
  {
   "cell_type": "markdown",
   "metadata": {},
   "source": [
    "### [Correlatiematrix of correlelogram] Overzicht over correlaties\n",
    "\n",
    "[TODO] Detail verbeteren naar maanden, sommigen sets correleren op bar weinig punten"
   ]
  },
  {
   "cell_type": "code",
   "execution_count": 28,
   "metadata": {},
   "outputs": [],
   "source": [
    "def correlation_ui(func):\n",
    "    \"\"\"seperates the quite complex heatmap ui from the transformations and rendering\"\"\"\n",
    "    # construct a dict of togglable widgets so hiding becomes easier\n",
    "    county_widget = widgets.Dropdown(options=sorted_countries)\n",
    "    \n",
    "    togglable_widgets = {\n",
    "        \"adm0_name\": county_widget,\n",
    "        \"adm0_name_grouped\": county_widget,\n",
    "        \"cm_name_grouped\": widgets.Dropdown(options=sorted_commodities_grouped),\n",
    "        \"cm_name\": widgets.Dropdown(options=sorted_commodities)\n",
    "    }\n",
    "\n",
    "    # toggle buttons\n",
    "    subject_widget = widgets.ToggleButtons(\n",
    "        options=[(\"grouped commodity\", \"cm_name_grouped\"), (\"commodity\", \"cm_name\"), (\"country\", \"adm0_name\"), (\"country grouped\", \"adm0_name_grouped\")],\n",
    "        description='Subject',\n",
    "    )\n",
    "\n",
    "    value_widget = widgets.ToggleButtons(\n",
    "        options=[\"mp_price\", \"mp_price_norm\"],\n",
    "        description='Value',\n",
    "    )\n",
    "    \n",
    "    treshold_widget = widgets.FloatSlider(\n",
    "        value=0.8,\n",
    "        min=0,\n",
    "        max=1,\n",
    "        step=0.1,\n",
    "        description='Treshold (r)',\n",
    "        continuous_update=False,\n",
    "    )\n",
    "\n",
    "    def widget_toggle_func(**kwargs):\n",
    "        \"\"\"helper to toggle visiblity of widgets, uses a closure to get access to the toggleable widgets\"\"\"\n",
    "        for widget in togglable_widgets.values():\n",
    "            widget.layout.display = \"none\"\n",
    "        togglable_widgets[kwargs[\"subject\"]].layout.display = \"flex\"\n",
    "\n",
    "        # render the actual barchart\n",
    "        func(**kwargs)\n",
    "\n",
    "        \n",
    "    # setup ui layout\n",
    "    ui = VBox([\n",
    "        HBox([\n",
    "            subject_widget, togglable_widgets[\"adm0_name\"],\n",
    "            togglable_widgets[\"cm_name\"],\n",
    "            togglable_widgets[\"cm_name_grouped\"]\n",
    "        ]), value_widget, treshold_widget\n",
    "    ])\n",
    "    \n",
    "    # interactive argument widget bindings\n",
    "    out = interactive_output(\n",
    "        widget_toggle_func, {\n",
    "            \"subject\": subject_widget,\n",
    "            \"value\": value_widget,\n",
    "            \"commodity\": togglable_widgets[\"cm_name\"],\n",
    "            \"commodity_grouped\": togglable_widgets[\"cm_name_grouped\"],\n",
    "            \"country\": togglable_widgets[\"adm0_name\"],\n",
    "            \"treshold\": treshold_widget\n",
    "        })\n",
    "\n",
    "    # display the ui and bind the output\n",
    "    display(ui, out)"
   ]
  },
  {
   "cell_type": "code",
   "execution_count": 29,
   "metadata": {
    "ExecuteTime": {
     "end_time": "2019-06-23T10:28:42.184997Z",
     "start_time": "2019-06-23T10:28:41.791502Z"
    },
    "scrolled": false
   },
   "outputs": [
    {
     "data": {
      "application/vnd.jupyter.widget-view+json": {
       "model_id": "3d1c4aade8624b8b9b8006c33abeb655",
       "version_major": 2,
       "version_minor": 0
      },
      "text/plain": [
       "VBox(children=(HBox(children=(ToggleButtons(description='Subject', options=(('grouped commodity', 'cm_name_gro…"
      ]
     },
     "metadata": {},
     "output_type": "display_data"
    },
    {
     "data": {
      "application/vnd.jupyter.widget-view+json": {
       "model_id": "4e9ee7bf77fe413698fa529812b791f2",
       "version_major": 2,
       "version_minor": 0
      },
      "text/plain": [
       "Output()"
      ]
     },
     "metadata": {},
     "output_type": "display_data"
    }
   ],
   "source": [
    "def corr_matrix_render(data, title):\n",
    "    trace = go.Heatmap(x=data.index,\n",
    "                       y=data.index,\n",
    "                       z=data,\n",
    "                       zmin=-1,\n",
    "                       zmax=1,\n",
    "                       showscale=False)\n",
    "\n",
    "    axis = dict(tickfont=dict(size=7), showticklabels=True, automargin=True)\n",
    "\n",
    "    layout = go.Layout(autosize=True,\n",
    "                       width=300 + 11 * len(data.index),\n",
    "                       height=300 + 11 * len(data.index),\n",
    "                       yaxis=axis,\n",
    "                       xaxis=axis,\n",
    "                       title=title)\n",
    "\n",
    "    corr_fig = go.Figure(data=[trace], layout=layout)\n",
    "\n",
    "    iplot(corr_fig)\n",
    "\n",
    "def correlation_data(subject, value, country, commodity, commodity_grouped, treshold=0.7):\n",
    "    if subject == \"adm0_name\" or subject == \"adm0_name_grouped\":\n",
    "        commodity_grouping =  \"cm_name\" if subject == \"adm0_name\" else \"cm_name_grouped\"\n",
    "        data_series = food_df.groupby(by=[\"adm0_name\", commodity_grouping, \"mp_year\"])[value].mean().xs(country, level=\"adm0_name\")\n",
    "        corr_matrix = data_series.unstack(level=commodity_grouping)\n",
    "    else:\n",
    "        commodity_type = commodity if subject == \"cm_name\" else commodity_grouped\n",
    "        data_series = food_df.groupby(by=[\"adm0_name\", subject, \"mp_year\"])[value].mean().xs(commodity_type, level=subject)\n",
    "        corr_matrix = data_series.unstack(level=\"adm0_name\")\n",
    "        \n",
    "    corr_matrix = corr_matrix.corr()\n",
    "       \n",
    "    # give a threshold to make a tad more readable by removing things that do not correlate     \n",
    "    flattend_corr_matrix = corr_matrix.unstack()\n",
    "    corr_matrix_ss = flattend_corr_matrix[(flattend_corr_matrix > treshold) | (flattend_corr_matrix < -treshold)].unstack()\n",
    "    \n",
    "    corr_matrix_render(corr_matrix_ss, \"matrix\")\n",
    "\n",
    "correlation_ui(correlation_data)\n"
   ]
  },
  {
   "cell_type": "markdown",
   "metadata": {
    "ExecuteTime": {
     "end_time": "2019-06-23T09:02:35.397450Z",
     "start_time": "2019-06-23T09:02:35.394930Z"
    }
   },
   "source": [
    "### [Splom] Voor meer detail in geselecteerde correlaties "
   ]
  },
  {
   "cell_type": "code",
   "execution_count": 30,
   "metadata": {
    "ExecuteTime": {
     "end_time": "2019-06-23T09:32:52.904352Z",
     "start_time": "2019-06-23T09:32:52.563831Z"
    }
   },
   "outputs": [
    {
     "data": {
      "application/vnd.jupyter.widget-view+json": {
       "model_id": "64f0ceeacc134514bcf7cf210dc9cee0",
       "version_major": 2,
       "version_minor": 0
      },
      "text/plain": [
       "VBox(children=(HBox(children=(ToggleButtons(description='Subject', options=(('grouped commodity', 'cm_name_gro…"
      ]
     },
     "metadata": {},
     "output_type": "display_data"
    },
    {
     "data": {
      "application/vnd.jupyter.widget-view+json": {
       "model_id": "a0618f3799494babbdfa0ce84d60d40c",
       "version_major": 2,
       "version_minor": 0
      },
      "text/plain": [
       "Output()"
      ]
     },
     "metadata": {},
     "output_type": "display_data"
    }
   ],
   "source": [
    "def splom_render(data):\n",
    "    trace1 = go.Splom(dimensions=data)\n",
    "    layout = go.Layout(title='Commodity correlations', height=1000)\n",
    "    fig = go.Figure(data=[trace1], layout=layout)\n",
    "    iplot(fig)\n",
    "\n",
    "\n",
    "def splom_data(subject, value, country, commodity, commodity_grouped, treshold=0.7):\n",
    "    if subject == \"adm0_name\" or subject == \"adm0_name_grouped\":\n",
    "        commodity_grouping =  \"cm_name\" if subject == \"adm0_name\" else \"cm_name_grouped\"\n",
    "        data_series = food_df.groupby(by=[\"adm0_name\", commodity_grouping, \"mp_year\"])[value].mean().xs(country, level=\"adm0_name\")\n",
    "        corr_matrix = data_series\n",
    "    else:\n",
    "        commodity_type = commodity if subject == \"cm_name\" else commodity_grouped\n",
    "        data_series = food_df.groupby(by=[\"adm0_name\", subject, \"mp_year\"])[value].mean().xs(commodity_type, level=subject)\n",
    "        corr_matrix = data_series\n",
    "    \n",
    "    groups = corr_matrix.groupby(level=\"adm0_name\").apply(lambda df: df.values)\n",
    "    data = [{\n",
    "        \"label\": label,\n",
    "        \"values\": values\n",
    "    } for label, values in groups.items()][:10]\n",
    "    \n",
    "    splom_render(data)\n",
    "\n",
    "correlation_ui(splom_data)"
   ]
  },
  {
   "cell_type": "markdown",
   "metadata": {},
   "source": [
    "### [Maps] Voedselkaart\n"
   ]
  },
  {
   "cell_type": "code",
   "execution_count": 33,
   "metadata": {
    "ExecuteTime": {
     "end_time": "2019-06-23T09:32:58.725902Z",
     "start_time": "2019-06-23T09:32:58.545965Z"
    },
    "scrolled": false
   },
   "outputs": [
    {
     "data": {
      "application/vnd.jupyter.widget-view+json": {
       "model_id": "79950258bd15466e9d3b727861105751",
       "version_major": 2,
       "version_minor": 0
      },
      "text/plain": [
       "interactive(children=(Dropdown(description='commodity', options=('Rice', 'Maize', 'Oil', 'Beans', 'Wheat', 'Me…"
      ]
     },
     "metadata": {},
     "output_type": "display_data"
    },
    {
     "data": {
      "text/plain": [
       "<function __main__.map_graph(commodity, year)>"
      ]
     },
     "execution_count": 33,
     "metadata": {},
     "output_type": "execute_result"
    }
   ],
   "source": [
    "def map_graph(commodity, year):\n",
    "    # Plot the mean price, of all commodities on map, of all years.\n",
    "    series = food_diff_df.xs(commodity, level=\"cm_name_grouped\")[year]\n",
    "    \n",
    "    map_data = [go.Choropleth(\n",
    "        locations = series.index,\n",
    "        locationmode = \"country names\",\n",
    "        z = series.values,\n",
    "    )]\n",
    "    \n",
    "    fig = go.Figure(data = map_data)\n",
    "    iplot(fig)  \n",
    "    \n",
    "interact(map_graph, commodity=best_commodities_grouped, year=(1996, 2019, 1))"
   ]
  },
  {
   "cell_type": "markdown",
   "metadata": {
    "toc-hr-collapsed": true
   },
   "source": [
    "# Klimaat\n",
    "\n",
    "Nu eens kijken of het samenhangt met klimaat. Ik heb het gevoel dat hier enige correlatie vinden hier moeilijk gaat worden.\n",
    "\n",
    "## Load data"
   ]
  },
  {
   "cell_type": "code",
   "execution_count": 62,
   "metadata": {
    "ExecuteTime": {
     "end_time": "2019-06-21T11:32:46.635094Z",
     "start_time": "2019-06-21T11:32:23.169Z"
    }
   },
   "outputs": [
    {
     "data": {
      "text/plain": [
       "0    1743\n",
       "5    1744\n",
       "6    1744\n",
       "7    1744\n",
       "8    1744\n",
       "Name: dt, dtype: int64"
      ]
     },
     "metadata": {},
     "output_type": "display_data"
    }
   ],
   "source": [
    "climate_df = pd.read_csv(\"./climate_data/GlobalLandTemperaturesByCountry.csv\", low_memory=False, parse_dates=[\"dt\"]).dropna()\n",
    "display(climate_df[\"dt\"].dt.year.head())"
   ]
  },
  {
   "cell_type": "markdown",
   "metadata": {
    "toc-hr-collapsed": true
   },
   "source": [
    "## Transform"
   ]
  },
  {
   "cell_type": "markdown",
   "metadata": {},
   "source": [
    "### Normaliseer"
   ]
  },
  {
   "cell_type": "code",
   "execution_count": 69,
   "metadata": {},
   "outputs": [],
   "source": [
    "# apply the normalize function (with a partial for the key)\n",
    "climate_df[\"AverageTemperature_norm\"] = climate_df.groupby(by=[\"Country\"])[\"AverageTemperature\"].apply(normalize_series_minmax)"
   ]
  },
  {
   "cell_type": "markdown",
   "metadata": {},
   "source": [
    "### Gemiddelde en differentiatie"
   ]
  },
  {
   "cell_type": "code",
   "execution_count": 78,
   "metadata": {
    "ExecuteTime": {
     "end_time": "2019-06-21T11:32:46.650567Z",
     "start_time": "2019-06-21T11:32:24.855Z"
    }
   },
   "outputs": [
    {
     "data": {
      "text/plain": [
       "Country      dt  \n",
       "Afghanistan  1838         NaN\n",
       "             1840   -0.150097\n",
       "             1841    0.017655\n",
       "             1842    0.034971\n",
       "             1843   -0.042266\n",
       "             1844   -0.018361\n",
       "             1845    0.004748\n",
       "             1846    0.021913\n",
       "             1847   -0.016782\n",
       "             1848   -0.010256\n",
       "             1849    0.009314\n",
       "             1850   -0.003577\n",
       "             1851    0.008450\n",
       "             1852   -0.001949\n",
       "             1853   -0.002579\n",
       "             1854    0.004531\n",
       "             1855    0.009614\n",
       "             1856   -0.013878\n",
       "             1857   -0.011795\n",
       "             1858    0.017825\n",
       "             1859    0.007478\n",
       "             1860   -0.015324\n",
       "             1861   -0.004075\n",
       "             1862   -0.010107\n",
       "             1863    0.021268\n",
       "             1864   -0.014004\n",
       "             1865    0.009523\n",
       "             1866   -0.002204\n",
       "             1867    0.016845\n",
       "             1868   -0.008513\n",
       "             1869    0.002556\n",
       "             1870    0.000642\n",
       "             1871   -0.005088\n",
       "             1872    0.007609\n",
       "             1873    0.003420\n",
       "             1874   -0.003184\n",
       "             1875    0.008546\n",
       "             1876   -0.018389\n",
       "             1877    0.004544\n",
       "             1878    0.004901\n",
       "             1879    0.001529\n",
       "             1880    0.008213\n",
       "             1881    0.002133\n",
       "             1882   -0.025273\n",
       "             1883    0.005037\n",
       "             1884   -0.006619\n",
       "             1885   -0.010586\n",
       "             1886    0.005108\n",
       "             1887    0.013324\n",
       "             1888    0.018187\n",
       "                       ...   \n",
       "Åland        1964    0.021273\n",
       "             1965   -0.021501\n",
       "             1966   -0.017718\n",
       "             1967    0.048098\n",
       "             1968   -0.021471\n",
       "             1969   -0.007746\n",
       "             1970   -0.014481\n",
       "             1971    0.035956\n",
       "             1972    0.022367\n",
       "             1973   -0.004879\n",
       "             1974    0.017320\n",
       "             1975    0.014338\n",
       "             1976   -0.073225\n",
       "             1977    0.009936\n",
       "             1978   -0.017678\n",
       "             1979    0.006909\n",
       "             1980    0.006397\n",
       "             1981    0.001281\n",
       "             1982    0.022049\n",
       "             1983    0.010723\n",
       "             1984    0.003065\n",
       "             1985   -0.084267\n",
       "             1986    0.046674\n",
       "             1987   -0.039029\n",
       "             1988    0.069523\n",
       "             1989    0.037994\n",
       "             1990   -0.000853\n",
       "             1991   -0.023985\n",
       "             1992    0.010616\n",
       "             1993   -0.026660\n",
       "             1994   -0.000221\n",
       "             1995    0.009155\n",
       "             1996   -0.029347\n",
       "             1997    0.043782\n",
       "             1998   -0.025363\n",
       "             1999    0.028096\n",
       "             2000    0.015813\n",
       "             2001   -0.026850\n",
       "             2002    0.012166\n",
       "             2003   -0.014544\n",
       "             2004    0.005945\n",
       "             2005    0.006255\n",
       "             2006    0.011464\n",
       "             2007   -0.002180\n",
       "             2008    0.014105\n",
       "             2009   -0.030544\n",
       "             2010   -0.049544\n",
       "             2011    0.070299\n",
       "             2012   -0.033701\n",
       "             2013    0.005049\n",
       "Name: AverageTemperature_norm, Length: 45915, dtype: float64"
      ]
     },
     "execution_count": 78,
     "metadata": {},
     "output_type": "execute_result"
    }
   ],
   "source": [
    "climate_diff = climate_df.groupby(\n",
    "    by=[\"Country\", climate_df[\"dt\"].dt.year]).mean().groupby(\n",
    "        level=[\"Country\"])[\"AverageTemperature_norm\"].diff()"
   ]
  },
  {
   "cell_type": "markdown",
   "metadata": {
    "toc-hr-collapsed": true
   },
   "source": [
    "## Verkenning"
   ]
  },
  {
   "cell_type": "markdown",
   "metadata": {
    "toc-hr-collapsed": false
   },
   "source": [
    "### [Map] Klimaat"
   ]
  },
  {
   "cell_type": "code",
   "execution_count": 82,
   "metadata": {
    "ExecuteTime": {
     "end_time": "2019-06-21T11:32:46.657451Z",
     "start_time": "2019-06-21T11:32:26.057Z"
    }
   },
   "outputs": [
    {
     "data": {
      "application/vnd.jupyter.widget-view+json": {
       "model_id": "5fc9f060158945b9b84932f6745f3678",
       "version_major": 2,
       "version_minor": 0
      },
      "text/plain": [
       "interactive(children=(IntSlider(value=2004, description='year', max=2013, min=1996), Output()), _dom_classes=(…"
      ]
     },
     "metadata": {},
     "output_type": "display_data"
    },
    {
     "data": {
      "text/plain": [
       "<function __main__.map_climate(year)>"
      ]
     },
     "execution_count": 82,
     "metadata": {},
     "output_type": "execute_result"
    }
   ],
   "source": [
    "def map_climate(year):\n",
    "    # calulate the mean for the year\n",
    "    year_data = climate_diff.xs(year, level=1, drop_level=False)\n",
    "    map_data = go.Choropleth(locations=year_data.index.get_level_values(\"Country\"),\n",
    "                             locationmode=\"country names\",\n",
    "                             z=year_data.values)\n",
    "    \n",
    "    fig = go.Figure(data=[map_data])\n",
    "\n",
    "    iplot(fig)\n",
    "\n",
    "interact(map_climate, year=(1996, 2013, 1))"
   ]
  },
  {
   "cell_type": "markdown",
   "metadata": {
    "toc-hr-collapsed": true
   },
   "source": [
    "# Eindvisualisaties\n",
    "\n",
    "Om te controleren of de dataset correct is moeten we natuurlijk even een test draaien. Ik heb globale voedselprijzen even als benchmark genomen. Daar ligt waarschijnlijk een sterke correlatie, zeker voor gebieden die niet direct in conflict zijn.\n",
    "\n",
    "[imf commodity prices data] https://www.imf.org/en/Research/commodity-prices  \n",
    "[interessante analyse voedsel] https://ourworldindata.org/food-prices  \n",
    "[interessante statistische analyse van commodities] https://www.imf.org/~/media/Files/Research/CommodityPrices/WEOSpecialFeature/SFApril2019.ashx\n",
    "\n"
   ]
  },
  {
   "cell_type": "markdown",
   "metadata": {
    "toc-hr-collapsed": true
   },
   "source": [
    "## Lijngrafiek"
   ]
  },
  {
   "cell_type": "code",
   "execution_count": 86,
   "metadata": {
    "ExecuteTime": {
     "end_time": "2019-06-22T14:22:20.399264Z",
     "start_time": "2019-06-22T14:22:20.219036Z"
    }
   },
   "outputs": [
    {
     "data": {
      "application/vnd.jupyter.widget-view+json": {
       "model_id": "f5b6c4b297a843b2a05ac1d4b79ebb86",
       "version_major": 2,
       "version_minor": 0
      },
      "text/plain": [
       "interactive(children=(Dropdown(description='commodity', options=('Rice', 'Wheat', 'Sugar'), value='Rice'), Out…"
      ]
     },
     "metadata": {},
     "output_type": "display_data"
    }
   ],
   "source": [
    "def line_render(data_series): \n",
    "    traces = [go.Scatter(name=series.name,\n",
    "                         x=series.index,\n",
    "                         y=series.values) for series in data_series]\n",
    "    \n",
    "    iplot(traces)\n",
    "\n",
    "def line_data(commodity):\n",
    "    commodity_data = food_diff_df.xs(commodity, level=\"cm_name_grouped\").mean().rename(commodity)\n",
    "    fuel_data = food_diff_df.xs(\"Fuel\", level=\"cm_name_grouped\").mean().rename(\"Brandstof\")\n",
    "    imf_data = imf_diff_df[commodity][-25:].iloc[-25:].rename(\"IMF\")\n",
    "    climate_data = climate_diff.groupby(level=\"dt\").mean().loc[1994:2013].rename(\"Klimaat\")\n",
    "    \n",
    "    line_render([commodity_data, fuel_data, imf_data, climate_data])\n",
    "    \n",
    "def line_ui():\n",
    "    interact(line_data, commodity=[\"Rice\", \"Wheat\", \"Sugar\"])\n",
    "\n",
    "    \n",
    "line_ui()"
   ]
  },
  {
   "cell_type": "markdown",
   "metadata": {},
   "source": [
    "## Correlelogram\n",
    "\n",
    "[WIP]"
   ]
  },
  {
   "cell_type": "code",
   "execution_count": 87,
   "metadata": {},
   "outputs": [],
   "source": [
    "# scatter_data = pd.DataFrame([control, test, climate_series, fuel]).T\n",
    "\n",
    "# trace1 = go.Splom(dimensions=[\n",
    "#         dict(label='Rice', values=scatter_data['Rice']),\n",
    "#         dict(label='IMF', values=scatter_data['IMF']),\n",
    "#         dict(label='Klimaat', values=scatter_data['Klimaat']),\n",
    "#         dict(label='Fuel', values=scatter_data['Fuel'])\n",
    "#     ],stff =1 )\n",
    "\n",
    "#     axis = dict(showline=True, zeroline=False, gridcolor='#fff', ticklen=4)\n",
    "\n",
    "#     layout = go.Layout(title='FOOD',\n",
    "#                        dragmode='select',\n",
    "#                        width=600,\n",
    "#                        height=600,\n",
    "#                        autosize=False,\n",
    "#                        hovermode='closest',\n",
    "#                        plot_bgcolor='rgba(240,240,240, 0.95)',\n",
    "#                        xaxis1=dict(axis),\n",
    "#                        xaxis2=dict(axis),\n",
    "#                        xaxis3=dict(axis),\n",
    "#                        xaxis4=dict(axis),\n",
    "#                        yaxis1=dict(axis),\n",
    "#                        yaxis2=dict(axis),\n",
    "#                        yaxis3=dict(axis),\n",
    "#                        yaxis4=dict(axis))\n",
    "\n",
    "#     fig1 = dict(data=[trace1], layout=layout)\n",
    "#     iplot(fig1, filename='splom-iris1')"
   ]
  },
  {
   "cell_type": "markdown",
   "metadata": {
    "toc-hr-collapsed": false
   },
   "source": [
    "## Map"
   ]
  },
  {
   "cell_type": "code",
   "execution_count": 94,
   "metadata": {
    "ExecuteTime": {
     "end_time": "2019-06-21T11:32:46.663401Z",
     "start_time": "2019-06-21T11:32:26.784Z"
    }
   },
   "outputs": [
    {
     "data": {
      "application/vnd.jupyter.widget-view+json": {
       "model_id": "c7b0ab17bcaf4c3d9a219652e7b1ecfe",
       "version_major": 2,
       "version_minor": 0
      },
      "text/plain": [
       "interactive(children=(Dropdown(description='commodity', options=('Rice', 'Maize', 'Oil', 'Beans', 'Wheat', 'Me…"
      ]
     },
     "metadata": {},
     "output_type": "display_data"
    }
   ],
   "source": [
    "def double_map_render(rice_data, climate_data):\n",
    "    climate_trace = go.Choropleth(\n",
    "        locations=climate_data.index,\n",
    "        locationmode=\"country names\",\n",
    "        z=climate_data.values,\n",
    "        geo=\"geo1\",\n",
    "        showscale=False)\n",
    "    \n",
    "    rice_trace = go.Choropleth(locations=rice_data.index,\n",
    "                               locationmode=\"country names\",\n",
    "                               z=rice_data.values,\n",
    "                               geo=\"geo2\",\n",
    "                               showscale=False,\n",
    "                               zmin=-0.5,\n",
    "                               zmax=0.5)\n",
    "    \n",
    "    layout = {\n",
    "        'geo': {\n",
    "            'domain': {\n",
    "                'x': [0.0, 0.5],\n",
    "                'y': [0, 1.0]\n",
    "            },\n",
    "            \"showframe\": False,\n",
    "            \"lonaxis\": {\n",
    "                \"range\": [-30, 170]\n",
    "            },\n",
    "            \"lataxis\": {\n",
    "                \"range\": [-35, 45]\n",
    "            }\n",
    "        },\n",
    "        'geo2': {\n",
    "            'domain': {\n",
    "                'x': [0.5, 1],\n",
    "                'y': [0, 1.0]\n",
    "            },\n",
    "            \"showframe\": False,\n",
    "            \"lonaxis\": {\n",
    "                \"range\": [-30, 170]\n",
    "            },\n",
    "            \"lataxis\": {\n",
    "                \"range\": [-35, 45]\n",
    "            }\n",
    "        }\n",
    "    }\n",
    "\n",
    "    return go.FigureWidget(data=[climate_trace, rice_trace], layout=layout)    \n",
    "\n",
    "def double_map_data(commodity, year):\n",
    "    climate_data = climate_diff.xs(year, level=\"dt\")\n",
    "    rice_data = food_diff_df.xs(commodity, level=\"cm_name_grouped\")[year]\n",
    "    display(double_map_render(rice_data, climate_data))\n",
    "    \n",
    "def double_map_ui():\n",
    "    interact(double_map_data, commodity=[*sorted_commodities_grouped, \"All\"], year=(2007, 2013, 1))\n",
    "    double_map_data\n",
    "    \n",
    "    \n",
    "double_map_ui()"
   ]
  },
  {
   "cell_type": "markdown",
   "metadata": {
    "toc-hr-collapsed": true
   },
   "source": [
    "# Todo\n",
    "\n",
    "1. Maandniveau om lijnen gladder te maken en plots gedetaileerder\n",
    "2. Scatterplot\n",
    "3. Kijken naar de kaart\n",
    "\n"
   ]
  }
 ],
 "metadata": {
  "kernelspec": {
   "display_name": "Python 3",
   "language": "python",
   "name": "python3"
  },
  "language_info": {
   "codemirror_mode": {
    "name": "ipython",
    "version": 3
   },
   "file_extension": ".py",
   "mimetype": "text/x-python",
   "name": "python",
   "nbconvert_exporter": "python",
   "pygments_lexer": "ipython3",
   "version": "3.6.8"
  },
  "toc-autonumbering": true,
  "toc-showcode": true,
  "toc-showmarkdowntxt": false,
  "toc-showtags": false,
  "varInspector": {
   "cols": {
    "lenName": 16,
    "lenType": 16,
    "lenVar": 40
   },
   "kernels_config": {
    "python": {
     "delete_cmd_postfix": "",
     "delete_cmd_prefix": "del ",
     "library": "var_list.py",
     "varRefreshCmd": "print(var_dic_list())"
    },
    "r": {
     "delete_cmd_postfix": ") ",
     "delete_cmd_prefix": "rm(",
     "library": "var_list.r",
     "varRefreshCmd": "cat(var_dic_list()) "
    }
   },
   "types_to_exclude": [
    "module",
    "function",
    "builtin_function_or_method",
    "instance",
    "_Feature"
   ],
   "window_display": false
  }
 },
 "nbformat": 4,
 "nbformat_minor": 2
}
