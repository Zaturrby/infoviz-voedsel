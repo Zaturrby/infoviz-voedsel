{
 "cells": [
  {
   "cell_type": "markdown",
   "metadata": {
    "ExecuteTime": {
     "end_time": "2019-06-11T07:24:36.300122Z",
     "start_time": "2019-06-11T07:24:34.391962Z"
    }
   },
   "source": [
    "# Voedselprijzen in de derde wereld\n",
    "\n",
    "Robert-Jan Korteschiel (10399143)  \n",
    "Robert Houten  \n",
    "Sander Kohnstamm (10715363)  \n",
    "Joost de Wildt (12173002)  \n"
   ]
  },
  {
   "cell_type": "markdown",
   "metadata": {
    "ExecuteTime": {
     "end_time": "2019-06-11T07:54:53.108672Z",
     "start_time": "2019-06-11T07:54:53.097408Z"
    }
   },
   "source": [
    "## Vooronderzoek\n",
    "\n",
    "<br>\n",
    "<div style=\"display: flex; width: 100%; justify-content: space-around;\">\n",
    "    <div style=\"width: 45%\">\n",
    "        <img src=\"food_viz.png\" style=\"display: block; width: 100%; height: auto;\" alt=\"GIS visualisation\">\n",
    "    </div>\n",
    "    <div style=\"width: 45%\">\n",
    "        <img src=\"patterns.jpg\" style=\"display: block; width: 100%; height: auto;\" alt=\"Line visualisation\">\n",
    "    </div>\n",
    "</div>\n",
    "\n",
    "\n",
    "[bron] https://data.humdata.org/dataset/wfp-food-prices  \n",
    "[algemene omschriving] https://docs.wfp.org/api/documents/WFP-0000040024/download/   \n",
    "[dierpere omschrijving] http://mvam.org/2018/11/20/getting-up-to-speed-wfp-food-data-on-hdx/  \n",
    "[snelle verkenning] https://dataviz.vam.wfp.org   \n",
    "[UN exchange rates] https://treasury.un.org/operationalrates/OperationalRates.php  \n"
   ]
  },
  {
   "cell_type": "markdown",
   "metadata": {},
   "source": [
    "## Onderzoeksvragen\n",
    "\n",
    "1. Welke van de volgende gebeurtenissen heeft de grootste invloed op globale voedselprijzen?\n",
    "    - Temperatuur\n",
    "    - Brandstofprijs\n",
    "    - Dagloon  \n",
    "\n",
    "\n",
    "2. Vallen gebeurtenissen te herleiden uit voedselprijzen?\n",
    "\n"
   ]
  },
  {
   "cell_type": "markdown",
   "metadata": {},
   "source": [
    "## Bootstrap"
   ]
  },
  {
   "cell_type": "code",
   "execution_count": 105,
   "metadata": {
    "ExecuteTime": {
     "end_time": "2019-06-22T14:55:53.996607Z",
     "start_time": "2019-06-22T14:55:53.989127Z"
    }
   },
   "outputs": [
    {
     "data": {
      "text/html": [
       "        <script type=\"text/javascript\">\n",
       "        window.PlotlyConfig = {MathJaxConfig: 'local'};\n",
       "        if (window.MathJax) {MathJax.Hub.Config({SVG: {font: \"STIX-Web\"}});}\n",
       "        if (typeof require !== 'undefined') {\n",
       "        require.undef(\"plotly\");\n",
       "        requirejs.config({\n",
       "            paths: {\n",
       "                'plotly': ['https://cdn.plot.ly/plotly-latest.min']\n",
       "            }\n",
       "        });\n",
       "        require(['plotly'], function(Plotly) {\n",
       "            window._Plotly = Plotly;\n",
       "        });\n",
       "        }\n",
       "        </script>\n",
       "        "
      ]
     },
     "metadata": {},
     "output_type": "display_data"
    }
   ],
   "source": [
    "import pandas as pd\n",
    "import numpy as np\n",
    "import plotly.graph_objs as go\n",
    "from plotly.offline import init_notebook_mode, iplot\n",
    "from plotly import tools\n",
    "from sklearn import preprocessing\n",
    "from operator import itemgetter, attrgetter\n",
    "from functools import partial\n",
    "import datetime\n",
    "import math\n",
    "import seaborn as sns\n",
    "\n",
    "from ipywidgets import Layout, Button, Box, HBox, VBox, widgets, interact, interact_manual, interactive, interactive_output\n",
    "\n",
    "\n",
    "init_notebook_mode(connected=True)\n",
    "\n",
    "pd.options.display.max_rows = 100\n",
    "pd.options.display.max_seq_items = 100"
   ]
  },
  {
   "cell_type": "markdown",
   "metadata": {},
   "source": [
    "# Food\n",
    "\n",
    "## Inladen\n"
   ]
  },
  {
   "cell_type": "code",
   "execution_count": 106,
   "metadata": {
    "ExecuteTime": {
     "end_time": "2019-06-22T14:55:57.122887Z",
     "start_time": "2019-06-22T14:55:54.851655Z"
    }
   },
   "outputs": [
    {
     "data": {
      "text/html": [
       "<div>\n",
       "<style scoped>\n",
       "    .dataframe tbody tr th:only-of-type {\n",
       "        vertical-align: middle;\n",
       "    }\n",
       "\n",
       "    .dataframe tbody tr th {\n",
       "        vertical-align: top;\n",
       "    }\n",
       "\n",
       "    .dataframe thead th {\n",
       "        text-align: right;\n",
       "    }\n",
       "</style>\n",
       "<table border=\"1\" class=\"dataframe\">\n",
       "  <thead>\n",
       "    <tr style=\"text-align: right;\">\n",
       "      <th></th>\n",
       "      <th>adm0_id</th>\n",
       "      <th>adm0_name</th>\n",
       "      <th>adm1_id</th>\n",
       "      <th>adm1_name</th>\n",
       "      <th>mkt_id</th>\n",
       "      <th>mkt_name</th>\n",
       "      <th>cm_id</th>\n",
       "      <th>cm_name</th>\n",
       "      <th>cur_id</th>\n",
       "      <th>cur_name</th>\n",
       "      <th>pt_id</th>\n",
       "      <th>pt_name</th>\n",
       "      <th>um_id</th>\n",
       "      <th>um_name</th>\n",
       "      <th>mp_month</th>\n",
       "      <th>mp_year</th>\n",
       "      <th>mp_price</th>\n",
       "      <th>mp_commoditysource</th>\n",
       "    </tr>\n",
       "  </thead>\n",
       "  <tbody>\n",
       "    <tr>\n",
       "      <th>0</th>\n",
       "      <td>1.0</td>\n",
       "      <td>Afghanistan</td>\n",
       "      <td>272</td>\n",
       "      <td>Badakhshan</td>\n",
       "      <td>266</td>\n",
       "      <td>Fayzabad</td>\n",
       "      <td>55</td>\n",
       "      <td>Bread - Retail</td>\n",
       "      <td>0.0</td>\n",
       "      <td>AFN</td>\n",
       "      <td>15</td>\n",
       "      <td>Retail</td>\n",
       "      <td>5</td>\n",
       "      <td>KG</td>\n",
       "      <td>1</td>\n",
       "      <td>2014</td>\n",
       "      <td>50.0</td>\n",
       "      <td>NaN</td>\n",
       "    </tr>\n",
       "    <tr>\n",
       "      <th>1</th>\n",
       "      <td>1.0</td>\n",
       "      <td>Afghanistan</td>\n",
       "      <td>272</td>\n",
       "      <td>Badakhshan</td>\n",
       "      <td>266</td>\n",
       "      <td>Fayzabad</td>\n",
       "      <td>55</td>\n",
       "      <td>Bread - Retail</td>\n",
       "      <td>0.0</td>\n",
       "      <td>AFN</td>\n",
       "      <td>15</td>\n",
       "      <td>Retail</td>\n",
       "      <td>5</td>\n",
       "      <td>KG</td>\n",
       "      <td>2</td>\n",
       "      <td>2014</td>\n",
       "      <td>50.0</td>\n",
       "      <td>NaN</td>\n",
       "    </tr>\n",
       "    <tr>\n",
       "      <th>2</th>\n",
       "      <td>1.0</td>\n",
       "      <td>Afghanistan</td>\n",
       "      <td>272</td>\n",
       "      <td>Badakhshan</td>\n",
       "      <td>266</td>\n",
       "      <td>Fayzabad</td>\n",
       "      <td>55</td>\n",
       "      <td>Bread - Retail</td>\n",
       "      <td>0.0</td>\n",
       "      <td>AFN</td>\n",
       "      <td>15</td>\n",
       "      <td>Retail</td>\n",
       "      <td>5</td>\n",
       "      <td>KG</td>\n",
       "      <td>3</td>\n",
       "      <td>2014</td>\n",
       "      <td>50.0</td>\n",
       "      <td>NaN</td>\n",
       "    </tr>\n",
       "    <tr>\n",
       "      <th>3</th>\n",
       "      <td>1.0</td>\n",
       "      <td>Afghanistan</td>\n",
       "      <td>272</td>\n",
       "      <td>Badakhshan</td>\n",
       "      <td>266</td>\n",
       "      <td>Fayzabad</td>\n",
       "      <td>55</td>\n",
       "      <td>Bread - Retail</td>\n",
       "      <td>0.0</td>\n",
       "      <td>AFN</td>\n",
       "      <td>15</td>\n",
       "      <td>Retail</td>\n",
       "      <td>5</td>\n",
       "      <td>KG</td>\n",
       "      <td>4</td>\n",
       "      <td>2014</td>\n",
       "      <td>50.0</td>\n",
       "      <td>NaN</td>\n",
       "    </tr>\n",
       "    <tr>\n",
       "      <th>4</th>\n",
       "      <td>1.0</td>\n",
       "      <td>Afghanistan</td>\n",
       "      <td>272</td>\n",
       "      <td>Badakhshan</td>\n",
       "      <td>266</td>\n",
       "      <td>Fayzabad</td>\n",
       "      <td>55</td>\n",
       "      <td>Bread - Retail</td>\n",
       "      <td>0.0</td>\n",
       "      <td>AFN</td>\n",
       "      <td>15</td>\n",
       "      <td>Retail</td>\n",
       "      <td>5</td>\n",
       "      <td>KG</td>\n",
       "      <td>5</td>\n",
       "      <td>2014</td>\n",
       "      <td>50.0</td>\n",
       "      <td>NaN</td>\n",
       "    </tr>\n",
       "  </tbody>\n",
       "</table>\n",
       "</div>"
      ],
      "text/plain": [
       "   adm0_id    adm0_name  adm1_id   adm1_name  mkt_id  mkt_name  cm_id  \\\n",
       "0      1.0  Afghanistan      272  Badakhshan     266  Fayzabad     55   \n",
       "1      1.0  Afghanistan      272  Badakhshan     266  Fayzabad     55   \n",
       "2      1.0  Afghanistan      272  Badakhshan     266  Fayzabad     55   \n",
       "3      1.0  Afghanistan      272  Badakhshan     266  Fayzabad     55   \n",
       "4      1.0  Afghanistan      272  Badakhshan     266  Fayzabad     55   \n",
       "\n",
       "          cm_name  cur_id cur_name  pt_id pt_name  um_id um_name  mp_month  \\\n",
       "0  Bread - Retail     0.0      AFN     15  Retail      5      KG         1   \n",
       "1  Bread - Retail     0.0      AFN     15  Retail      5      KG         2   \n",
       "2  Bread - Retail     0.0      AFN     15  Retail      5      KG         3   \n",
       "3  Bread - Retail     0.0      AFN     15  Retail      5      KG         4   \n",
       "4  Bread - Retail     0.0      AFN     15  Retail      5      KG         5   \n",
       "\n",
       "   mp_year  mp_price  mp_commoditysource  \n",
       "0     2014      50.0                 NaN  \n",
       "1     2014      50.0                 NaN  \n",
       "2     2014      50.0                 NaN  \n",
       "3     2014      50.0                 NaN  \n",
       "4     2014      50.0                 NaN  "
      ]
     },
     "metadata": {},
     "output_type": "display_data"
    }
   ],
   "source": [
    "food_df = pd.read_csv(\"./food_data/food.csv\", low_memory=False)\n",
    "display(food_df.head())"
   ]
  },
  {
   "cell_type": "markdown",
   "metadata": {},
   "source": [
    "## Filter\n",
    "\n",
    "[TODO] Filter waardes in de food_data die verstorend werken"
   ]
  },
  {
   "cell_type": "markdown",
   "metadata": {},
   "source": [
    "# Transformeren\n",
    "\n",
    "Ik heb ditmaal geprobeerd de global namespace een beetje schoner te houden, de grafieken doen nu elk hun eigen transformaties. Globale transformaties worden hier als kolom aan de food_df toegevoegd. Ik twijfel nog over of de\n",
    "food_diff_df hier eigenlijk wel moet staan.\n",
    "\n",
    "[TODO] Normalisatie met eikpunt"
   ]
  },
  {
   "cell_type": "code",
   "execution_count": 201,
   "metadata": {
    "ExecuteTime": {
     "end_time": "2019-06-22T15:38:06.523338Z",
     "start_time": "2019-06-22T15:37:55.631731Z"
    },
    "scrolled": false
   },
   "outputs": [
    {
     "data": {
      "text/html": [
       "<div>\n",
       "<style scoped>\n",
       "    .dataframe tbody tr th:only-of-type {\n",
       "        vertical-align: middle;\n",
       "    }\n",
       "\n",
       "    .dataframe tbody tr th {\n",
       "        vertical-align: top;\n",
       "    }\n",
       "\n",
       "    .dataframe thead th {\n",
       "        text-align: right;\n",
       "    }\n",
       "</style>\n",
       "<table border=\"1\" class=\"dataframe\">\n",
       "  <thead>\n",
       "    <tr style=\"text-align: right;\">\n",
       "      <th></th>\n",
       "      <th>adm0_id</th>\n",
       "      <th>adm0_name</th>\n",
       "      <th>adm1_id</th>\n",
       "      <th>adm1_name</th>\n",
       "      <th>mkt_id</th>\n",
       "      <th>mkt_name</th>\n",
       "      <th>cm_id</th>\n",
       "      <th>cm_name</th>\n",
       "      <th>cur_id</th>\n",
       "      <th>cur_name</th>\n",
       "      <th>...</th>\n",
       "      <th>pt_name</th>\n",
       "      <th>um_id</th>\n",
       "      <th>um_name</th>\n",
       "      <th>mp_month</th>\n",
       "      <th>mp_year</th>\n",
       "      <th>mp_price</th>\n",
       "      <th>mp_commoditysource</th>\n",
       "      <th>mp_date</th>\n",
       "      <th>cm_name_grouped</th>\n",
       "      <th>mp_price_norm</th>\n",
       "    </tr>\n",
       "  </thead>\n",
       "  <tbody>\n",
       "    <tr>\n",
       "      <th>0</th>\n",
       "      <td>1.0</td>\n",
       "      <td>Afghanistan</td>\n",
       "      <td>272</td>\n",
       "      <td>Badakhshan</td>\n",
       "      <td>266</td>\n",
       "      <td>Fayzabad</td>\n",
       "      <td>55</td>\n",
       "      <td>Bread - Retail</td>\n",
       "      <td>0.0</td>\n",
       "      <td>AFN</td>\n",
       "      <td>...</td>\n",
       "      <td>Retail</td>\n",
       "      <td>5</td>\n",
       "      <td>KG</td>\n",
       "      <td>1</td>\n",
       "      <td>2014</td>\n",
       "      <td>50.0</td>\n",
       "      <td>NaN</td>\n",
       "      <td>2014-01-01</td>\n",
       "      <td>Bread</td>\n",
       "      <td>0.608974</td>\n",
       "    </tr>\n",
       "    <tr>\n",
       "      <th>1</th>\n",
       "      <td>1.0</td>\n",
       "      <td>Afghanistan</td>\n",
       "      <td>272</td>\n",
       "      <td>Badakhshan</td>\n",
       "      <td>266</td>\n",
       "      <td>Fayzabad</td>\n",
       "      <td>55</td>\n",
       "      <td>Bread - Retail</td>\n",
       "      <td>0.0</td>\n",
       "      <td>AFN</td>\n",
       "      <td>...</td>\n",
       "      <td>Retail</td>\n",
       "      <td>5</td>\n",
       "      <td>KG</td>\n",
       "      <td>2</td>\n",
       "      <td>2014</td>\n",
       "      <td>50.0</td>\n",
       "      <td>NaN</td>\n",
       "      <td>2014-02-01</td>\n",
       "      <td>Bread</td>\n",
       "      <td>0.608974</td>\n",
       "    </tr>\n",
       "    <tr>\n",
       "      <th>2</th>\n",
       "      <td>1.0</td>\n",
       "      <td>Afghanistan</td>\n",
       "      <td>272</td>\n",
       "      <td>Badakhshan</td>\n",
       "      <td>266</td>\n",
       "      <td>Fayzabad</td>\n",
       "      <td>55</td>\n",
       "      <td>Bread - Retail</td>\n",
       "      <td>0.0</td>\n",
       "      <td>AFN</td>\n",
       "      <td>...</td>\n",
       "      <td>Retail</td>\n",
       "      <td>5</td>\n",
       "      <td>KG</td>\n",
       "      <td>3</td>\n",
       "      <td>2014</td>\n",
       "      <td>50.0</td>\n",
       "      <td>NaN</td>\n",
       "      <td>2014-03-01</td>\n",
       "      <td>Bread</td>\n",
       "      <td>0.608974</td>\n",
       "    </tr>\n",
       "    <tr>\n",
       "      <th>3</th>\n",
       "      <td>1.0</td>\n",
       "      <td>Afghanistan</td>\n",
       "      <td>272</td>\n",
       "      <td>Badakhshan</td>\n",
       "      <td>266</td>\n",
       "      <td>Fayzabad</td>\n",
       "      <td>55</td>\n",
       "      <td>Bread - Retail</td>\n",
       "      <td>0.0</td>\n",
       "      <td>AFN</td>\n",
       "      <td>...</td>\n",
       "      <td>Retail</td>\n",
       "      <td>5</td>\n",
       "      <td>KG</td>\n",
       "      <td>4</td>\n",
       "      <td>2014</td>\n",
       "      <td>50.0</td>\n",
       "      <td>NaN</td>\n",
       "      <td>2014-04-01</td>\n",
       "      <td>Bread</td>\n",
       "      <td>0.608974</td>\n",
       "    </tr>\n",
       "    <tr>\n",
       "      <th>4</th>\n",
       "      <td>1.0</td>\n",
       "      <td>Afghanistan</td>\n",
       "      <td>272</td>\n",
       "      <td>Badakhshan</td>\n",
       "      <td>266</td>\n",
       "      <td>Fayzabad</td>\n",
       "      <td>55</td>\n",
       "      <td>Bread - Retail</td>\n",
       "      <td>0.0</td>\n",
       "      <td>AFN</td>\n",
       "      <td>...</td>\n",
       "      <td>Retail</td>\n",
       "      <td>5</td>\n",
       "      <td>KG</td>\n",
       "      <td>5</td>\n",
       "      <td>2014</td>\n",
       "      <td>50.0</td>\n",
       "      <td>NaN</td>\n",
       "      <td>2014-05-01</td>\n",
       "      <td>Bread</td>\n",
       "      <td>0.608974</td>\n",
       "    </tr>\n",
       "  </tbody>\n",
       "</table>\n",
       "<p>5 rows × 21 columns</p>\n",
       "</div>"
      ],
      "text/plain": [
       "   adm0_id    adm0_name  adm1_id   adm1_name  mkt_id  mkt_name  cm_id  \\\n",
       "0      1.0  Afghanistan      272  Badakhshan     266  Fayzabad     55   \n",
       "1      1.0  Afghanistan      272  Badakhshan     266  Fayzabad     55   \n",
       "2      1.0  Afghanistan      272  Badakhshan     266  Fayzabad     55   \n",
       "3      1.0  Afghanistan      272  Badakhshan     266  Fayzabad     55   \n",
       "4      1.0  Afghanistan      272  Badakhshan     266  Fayzabad     55   \n",
       "\n",
       "          cm_name  cur_id cur_name  ...  pt_name um_id  um_name mp_month  \\\n",
       "0  Bread - Retail     0.0      AFN  ...   Retail     5       KG        1   \n",
       "1  Bread - Retail     0.0      AFN  ...   Retail     5       KG        2   \n",
       "2  Bread - Retail     0.0      AFN  ...   Retail     5       KG        3   \n",
       "3  Bread - Retail     0.0      AFN  ...   Retail     5       KG        4   \n",
       "4  Bread - Retail     0.0      AFN  ...   Retail     5       KG        5   \n",
       "\n",
       "   mp_year  mp_price  mp_commoditysource    mp_date cm_name_grouped  \\\n",
       "0     2014      50.0                 NaN 2014-01-01           Bread   \n",
       "1     2014      50.0                 NaN 2014-02-01           Bread   \n",
       "2     2014      50.0                 NaN 2014-03-01           Bread   \n",
       "3     2014      50.0                 NaN 2014-04-01           Bread   \n",
       "4     2014      50.0                 NaN 2014-05-01           Bread   \n",
       "\n",
       "  mp_price_norm  \n",
       "0      0.608974  \n",
       "1      0.608974  \n",
       "2      0.608974  \n",
       "3      0.608974  \n",
       "4      0.608974  \n",
       "\n",
       "[5 rows x 21 columns]"
      ]
     },
     "metadata": {},
     "output_type": "display_data"
    },
    {
     "data": {
      "text/html": [
       "<div>\n",
       "<style scoped>\n",
       "    .dataframe tbody tr th:only-of-type {\n",
       "        vertical-align: middle;\n",
       "    }\n",
       "\n",
       "    .dataframe tbody tr th {\n",
       "        vertical-align: top;\n",
       "    }\n",
       "\n",
       "    .dataframe thead th {\n",
       "        text-align: right;\n",
       "    }\n",
       "</style>\n",
       "<table border=\"1\" class=\"dataframe\">\n",
       "  <thead>\n",
       "    <tr style=\"text-align: right;\">\n",
       "      <th></th>\n",
       "      <th>mp_year</th>\n",
       "      <th>1992</th>\n",
       "      <th>1993</th>\n",
       "      <th>1994</th>\n",
       "      <th>1995</th>\n",
       "      <th>1996</th>\n",
       "      <th>1997</th>\n",
       "      <th>1998</th>\n",
       "      <th>1999</th>\n",
       "      <th>2000</th>\n",
       "      <th>2001</th>\n",
       "      <th>...</th>\n",
       "      <th>2010</th>\n",
       "      <th>2011</th>\n",
       "      <th>2012</th>\n",
       "      <th>2013</th>\n",
       "      <th>2014</th>\n",
       "      <th>2015</th>\n",
       "      <th>2016</th>\n",
       "      <th>2017</th>\n",
       "      <th>2018</th>\n",
       "      <th>2019</th>\n",
       "    </tr>\n",
       "    <tr>\n",
       "      <th>adm0_name</th>\n",
       "      <th>cm_name_grouped</th>\n",
       "      <th></th>\n",
       "      <th></th>\n",
       "      <th></th>\n",
       "      <th></th>\n",
       "      <th></th>\n",
       "      <th></th>\n",
       "      <th></th>\n",
       "      <th></th>\n",
       "      <th></th>\n",
       "      <th></th>\n",
       "      <th></th>\n",
       "      <th></th>\n",
       "      <th></th>\n",
       "      <th></th>\n",
       "      <th></th>\n",
       "      <th></th>\n",
       "      <th></th>\n",
       "      <th></th>\n",
       "      <th></th>\n",
       "      <th></th>\n",
       "      <th></th>\n",
       "    </tr>\n",
       "  </thead>\n",
       "  <tbody>\n",
       "    <tr>\n",
       "      <th rowspan=\"5\" valign=\"top\">Afghanistan</th>\n",
       "      <th>Bread</th>\n",
       "      <td>NaN</td>\n",
       "      <td>NaN</td>\n",
       "      <td>NaN</td>\n",
       "      <td>NaN</td>\n",
       "      <td>NaN</td>\n",
       "      <td>NaN</td>\n",
       "      <td>NaN</td>\n",
       "      <td>NaN</td>\n",
       "      <td>NaN</td>\n",
       "      <td>NaN</td>\n",
       "      <td>...</td>\n",
       "      <td>NaN</td>\n",
       "      <td>NaN</td>\n",
       "      <td>NaN</td>\n",
       "      <td>NaN</td>\n",
       "      <td>NaN</td>\n",
       "      <td>0.055021</td>\n",
       "      <td>-0.007271</td>\n",
       "      <td>-0.006384</td>\n",
       "      <td>-0.004228</td>\n",
       "      <td>0.000900</td>\n",
       "    </tr>\n",
       "    <tr>\n",
       "      <th>Exchange</th>\n",
       "      <td>NaN</td>\n",
       "      <td>NaN</td>\n",
       "      <td>NaN</td>\n",
       "      <td>NaN</td>\n",
       "      <td>NaN</td>\n",
       "      <td>NaN</td>\n",
       "      <td>NaN</td>\n",
       "      <td>NaN</td>\n",
       "      <td>NaN</td>\n",
       "      <td>NaN</td>\n",
       "      <td>...</td>\n",
       "      <td>NaN</td>\n",
       "      <td>NaN</td>\n",
       "      <td>NaN</td>\n",
       "      <td>NaN</td>\n",
       "      <td>NaN</td>\n",
       "      <td>0.178623</td>\n",
       "      <td>0.301038</td>\n",
       "      <td>0.014753</td>\n",
       "      <td>0.200153</td>\n",
       "      <td>0.154888</td>\n",
       "    </tr>\n",
       "    <tr>\n",
       "      <th>Fuel</th>\n",
       "      <td>NaN</td>\n",
       "      <td>NaN</td>\n",
       "      <td>NaN</td>\n",
       "      <td>NaN</td>\n",
       "      <td>NaN</td>\n",
       "      <td>NaN</td>\n",
       "      <td>NaN</td>\n",
       "      <td>NaN</td>\n",
       "      <td>NaN</td>\n",
       "      <td>-0.007045</td>\n",
       "      <td>...</td>\n",
       "      <td>NaN</td>\n",
       "      <td>NaN</td>\n",
       "      <td>NaN</td>\n",
       "      <td>NaN</td>\n",
       "      <td>NaN</td>\n",
       "      <td>-0.000093</td>\n",
       "      <td>-0.000046</td>\n",
       "      <td>0.000044</td>\n",
       "      <td>0.000035</td>\n",
       "      <td>0.000014</td>\n",
       "    </tr>\n",
       "    <tr>\n",
       "      <th>Livestock</th>\n",
       "      <td>NaN</td>\n",
       "      <td>NaN</td>\n",
       "      <td>NaN</td>\n",
       "      <td>NaN</td>\n",
       "      <td>NaN</td>\n",
       "      <td>NaN</td>\n",
       "      <td>NaN</td>\n",
       "      <td>NaN</td>\n",
       "      <td>NaN</td>\n",
       "      <td>0.135611</td>\n",
       "      <td>...</td>\n",
       "      <td>NaN</td>\n",
       "      <td>NaN</td>\n",
       "      <td>NaN</td>\n",
       "      <td>NaN</td>\n",
       "      <td>NaN</td>\n",
       "      <td>NaN</td>\n",
       "      <td>NaN</td>\n",
       "      <td>NaN</td>\n",
       "      <td>NaN</td>\n",
       "      <td>NaN</td>\n",
       "    </tr>\n",
       "    <tr>\n",
       "      <th>Rice</th>\n",
       "      <td>NaN</td>\n",
       "      <td>NaN</td>\n",
       "      <td>NaN</td>\n",
       "      <td>NaN</td>\n",
       "      <td>NaN</td>\n",
       "      <td>NaN</td>\n",
       "      <td>NaN</td>\n",
       "      <td>NaN</td>\n",
       "      <td>NaN</td>\n",
       "      <td>NaN</td>\n",
       "      <td>...</td>\n",
       "      <td>-0.041588</td>\n",
       "      <td>0.015685</td>\n",
       "      <td>0.072097</td>\n",
       "      <td>0.123801</td>\n",
       "      <td>-0.054074</td>\n",
       "      <td>-0.047844</td>\n",
       "      <td>0.025185</td>\n",
       "      <td>0.038895</td>\n",
       "      <td>0.025792</td>\n",
       "      <td>-0.002980</td>\n",
       "    </tr>\n",
       "  </tbody>\n",
       "</table>\n",
       "<p>5 rows × 28 columns</p>\n",
       "</div>"
      ],
      "text/plain": [
       "mp_year                      1992  1993  1994  1995  1996  1997  1998  1999  \\\n",
       "adm0_name   cm_name_grouped                                                   \n",
       "Afghanistan Bread             NaN   NaN   NaN   NaN   NaN   NaN   NaN   NaN   \n",
       "            Exchange          NaN   NaN   NaN   NaN   NaN   NaN   NaN   NaN   \n",
       "            Fuel              NaN   NaN   NaN   NaN   NaN   NaN   NaN   NaN   \n",
       "            Livestock         NaN   NaN   NaN   NaN   NaN   NaN   NaN   NaN   \n",
       "            Rice              NaN   NaN   NaN   NaN   NaN   NaN   NaN   NaN   \n",
       "\n",
       "mp_year                      2000      2001  ...      2010      2011  \\\n",
       "adm0_name   cm_name_grouped                  ...                       \n",
       "Afghanistan Bread             NaN       NaN  ...       NaN       NaN   \n",
       "            Exchange          NaN       NaN  ...       NaN       NaN   \n",
       "            Fuel              NaN -0.007045  ...       NaN       NaN   \n",
       "            Livestock         NaN  0.135611  ...       NaN       NaN   \n",
       "            Rice              NaN       NaN  ... -0.041588  0.015685   \n",
       "\n",
       "mp_year                          2012      2013      2014      2015      2016  \\\n",
       "adm0_name   cm_name_grouped                                                     \n",
       "Afghanistan Bread                 NaN       NaN       NaN  0.055021 -0.007271   \n",
       "            Exchange              NaN       NaN       NaN  0.178623  0.301038   \n",
       "            Fuel                  NaN       NaN       NaN -0.000093 -0.000046   \n",
       "            Livestock             NaN       NaN       NaN       NaN       NaN   \n",
       "            Rice             0.072097  0.123801 -0.054074 -0.047844  0.025185   \n",
       "\n",
       "mp_year                          2017      2018      2019  \n",
       "adm0_name   cm_name_grouped                                \n",
       "Afghanistan Bread           -0.006384 -0.004228  0.000900  \n",
       "            Exchange         0.014753  0.200153  0.154888  \n",
       "            Fuel             0.000044  0.000035  0.000014  \n",
       "            Livestock             NaN       NaN       NaN  \n",
       "            Rice             0.038895  0.025792 -0.002980  \n",
       "\n",
       "[5 rows x 28 columns]"
      ]
     },
     "metadata": {},
     "output_type": "display_data"
    },
    {
     "data": {
      "text/plain": [
       "Index(['Rice', 'Maize', 'Oil', 'Wheat', 'Beans', 'Sugar', 'Sorghum', 'Meat',\n",
       "       'Millet', 'Fuel'],\n",
       "      dtype='object', name='cm_name_grouped')"
      ]
     },
     "metadata": {},
     "output_type": "display_data"
    },
    {
     "data": {
      "text/plain": [
       "Index(['Rwanda', 'Bassas da India', 'Mali', 'Niger', 'Syrian Arab Republic',\n",
       "       'Democratic Republic of the Congo', 'Kyrgyzstan', 'Burundi', 'Zambia',\n",
       "       'Lebanon'],\n",
       "      dtype='object', name='adm0_name')"
      ]
     },
     "metadata": {},
     "output_type": "display_data"
    }
   ],
   "source": [
    "# voeg een kolom toe met een goed geformateerde datum\n",
    "food_df[\"mp_date\"] = pd.to_datetime(food_df[[\"mp_year\", \"mp_month\"]].assign(day=1).rename(columns={\"mp_year\": \"year\", \"mp_month\": \"month\"}))\n",
    "\n",
    "# voeg een kolom met een groepering van commodities toe (geselecteerd op het eerste woord)\n",
    "food_df[\"cm_name_grouped\"] = food_df[\"cm_name\"].str.extract('^([\\w\\-]+)', expand=False)\n",
    "\n",
    "# minmax normalisatie\n",
    "def minmax_normalize_group(key, group_df):\n",
    "    \"\"\"minmax normalisatie van een kolom in een dataframe\"\"\"\n",
    "    # bootstrap a new normalizer   \n",
    "    min_max_scaler = preprocessing.MinMaxScaler()\n",
    "    \n",
    "    # reshape the series to array so that the normalizer accepts it\n",
    "    array_to_normalize = group_df[key].values.reshape(-1, 1)\n",
    "    \n",
    "    # do the actual normalisation     \n",
    "    x_scaled = min_max_scaler.fit_transform(array_to_normalize)\n",
    "    \n",
    "    # undo some weird numpy nesting of arrays    \n",
    "    x_scaled = np.concatenate(x_scaled).ravel()\n",
    "    \n",
    "    # concatenate it to the group_df    \n",
    "    group_df[f\"{key}_norm\"] = x_scaled\n",
    "    \n",
    "    # trow the group out     \n",
    "    return group_df\n",
    "\n",
    "# run the normalization per country on individual goods\n",
    "food_df = food_df.groupby(by=[\"adm0_name\", \"cm_name\"]).apply(partial(minmax_normalize_group, \"mp_price\"))\n",
    "display(food_df.head())\n",
    "\n",
    "# bereken het gemiddelde per jaar en bereken het verschil per commodity per jaar\n",
    "food_diff_df = food_df.groupby(by=[\"adm0_name\", \"cm_name_grouped\", \"mp_year\"])[\"mp_price_norm\"].mean().unstack(level=2).diff(axis=1)\n",
    "display(food_diff_df.head())\n",
    "\n",
    "# quick lists\n",
    "best_commodities = food_df.groupby(by=[\"adm0_name\", \"cm_name_grouped\", \"mp_year\"]).any().groupby(level=[\"cm_name_grouped\"]).size().sort_values(ascending=False)[:10].index\n",
    "best_countries = food_df.groupby(by=[\"adm0_name\"]).size().sort_values(ascending=False)[:10].index\n",
    "display(best_commodities, best_countries)\n",
    "\n",
    "# utility om selecteren met een crosssectie makkelijker te maken\n",
    "def select_commodity(commodity, year):\n",
    "    return food_diff_df.xs(commodity, level=\"cm_name_grouped\", drop_level=True)[year]\n"
   ]
  },
  {
   "cell_type": "markdown",
   "metadata": {},
   "source": [
    "## Verkenning\n",
    "\n",
    "### [Barchart] Hoeveelheid data"
   ]
  },
  {
   "cell_type": "code",
   "execution_count": 108,
   "metadata": {
    "ExecuteTime": {
     "end_time": "2019-06-22T14:56:10.391861Z",
     "start_time": "2019-06-22T14:56:09.992990Z"
    },
    "scrolled": false
   },
   "outputs": [
    {
     "data": {
      "application/vnd.jupyter.widget-view+json": {
       "model_id": "cc0f56cfcc4e4e0e8953b1187032aed8",
       "version_major": 2,
       "version_minor": 0
      },
      "text/plain": [
       "interactive(children=(ToggleButtons(description='value', options=(('Total Records', 'total_records'), ('Filled…"
      ]
     },
     "metadata": {},
     "output_type": "display_data"
    }
   ],
   "source": [
    "def barchart_render(data, title):\n",
    "    \"\"\"render a horizontal barchart with some configuration\"\"\"\n",
    "    barchart_trace = go.Bar(y=data.index, x=data.values, orientation='h')\n",
    "    layout = go.Layout(yaxis=dict(automargin=True),\n",
    "                       height=200 + 20 * len(data.index),\n",
    "                       title=title)\n",
    "\n",
    "    iplot(go.Figure(data=[barchart_trace], layout=layout))\n",
    "\n",
    "\n",
    "def barchart_data(value=\"total_records\", grouping=[\"adm0_name\"], length=25):\n",
    "    \"\"\"switch between different groupings and values\"\"\"\n",
    "    # group by the user selection\n",
    "    groups = food_df.groupby(by=[*grouping, \"mp_year\"])\n",
    "\n",
    "    # check the value to determine the metric\n",
    "    if value == \"total_records\":\n",
    "        data = groups.size()\n",
    "\n",
    "    if value == \"filled_years\":\n",
    "        data = groups[\"mp_price\"].any()\n",
    "\n",
    "    # regroup by the last level, sum and sort\n",
    "    data = data.groupby(level=grouping[-1:]).sum().sort_values()\n",
    "    title = f\"Total {grouping} by {value}: {data.sum()} \"\n",
    "    barchart_render(data[-length:], title)\n",
    "\n",
    "\n",
    "def barchart_ui():\n",
    "    \"seperates the ui from the data and rendering\"\n",
    "    value_toggle = widgets.ToggleButtons(\n",
    "        options=[(\"Total Records\",\n",
    "                  \"total_records\"), (\"Filled years\", \"filled_years\")])\n",
    "\n",
    "    grouping_toggle = widgets.ToggleButtons(\n",
    "        options=[(\"Original Commodities\", [\"adm0_name\", \"cm_name\"]),\n",
    "                 (\"Grouped Commodities\", [\"adm0_name\", \"cm_name_grouped\"]), \n",
    "                 (\"Country\", [\"adm0_name\"])])\n",
    "\n",
    "    length_slider = widgets.IntSlider(min=1,\n",
    "                                      max=51,\n",
    "                                      step=1,\n",
    "                                      continuous_update=False,\n",
    "                                      value=25)\n",
    "\n",
    "    interact(barchart_data,\n",
    "             value=value_toggle,\n",
    "             grouping=grouping_toggle,\n",
    "             length=length_slider)\n",
    "\n",
    "\n",
    "barchart_ui()"
   ]
  },
  {
   "cell_type": "markdown",
   "metadata": {},
   "source": [
    "### [Heatmap] Locatie van de data\n",
    "\n",
    "[TODO] Has a weird bug on first render which doesn't show chart"
   ]
  },
  {
   "cell_type": "code",
   "execution_count": 312,
   "metadata": {
    "ExecuteTime": {
     "end_time": "2019-06-22T18:45:19.354911Z",
     "start_time": "2019-06-22T18:45:18.969281Z"
    },
    "scrolled": false
   },
   "outputs": [
    {
     "data": {
      "application/vnd.jupyter.widget-view+json": {
       "model_id": "cd9e9e8c2e1c4f4fb59784c5c4334e3d",
       "version_major": 2,
       "version_minor": 0
      },
      "text/plain": [
       "VBox(children=(HBox(children=(ToggleButtons(description='Subject', options=('commodity', 'country'), value='co…"
      ]
     },
     "metadata": {},
     "output_type": "display_data"
    },
    {
     "data": {
      "application/vnd.jupyter.widget-view+json": {
       "model_id": "cdf53e1140c444a4b9ffbbf0cee0fe4b",
       "version_major": 2,
       "version_minor": 0
      },
      "text/plain": [
       "Output()"
      ]
     },
     "metadata": {},
     "output_type": "display_data"
    }
   ],
   "source": [
    "def heatmap_render(data, trace_layout, title):\n",
    "    \"\"\"render the output\"\"\"\n",
    "    heatmap_trace = go.Heatmap(z=data.values,\n",
    "                               x=data.columns,\n",
    "                               y=data.index,\n",
    "                               **trace_layout)\n",
    "    \n",
    "    axis = dict(tickfont=dict(size=10), showticklabels=True, automargin=True)\n",
    "    layout = go.Layout(autosize=False,\n",
    "                       width=800,\n",
    "                       height=200 + 12 * len(data.index),\n",
    "                       xaxis={\"range\": [1990, 2019]},\n",
    "                       yaxis=axis,\n",
    "                       title=title)\n",
    "\n",
    "    fig = go.Figure(data=[heatmap_trace], layout=layout)\n",
    "    iplot(fig)\n",
    "\n",
    "\n",
    "def heatmap_data(subject, value, commodity, country):\n",
    "    \"\"\"transform the food_df to something usable\"\"\"\n",
    "    groups = food_df.groupby(by=[\"adm0_name\", \"cm_name_grouped\", \"mp_year\"])\n",
    "\n",
    "    # determine the metric\n",
    "    if value == \"count\":\n",
    "        metric = groups.size()\n",
    "        trace_layout = {\"zmin\": 0, \"zmax\": 200, \"colorscale\": \"Viridis\"}\n",
    "\n",
    "    elif value == \"mp_price_norm\":\n",
    "        metric = groups[\"mp_price_norm\"].mean()\n",
    "        trace_layout = {\"zmin\": 0, \"zmax\": 1, \"colorscale\": \"Viridis\"}\n",
    "\n",
    "    elif value == \"mp_price_norm_diff\":\n",
    "        metric = groups[\"mp_price_norm\"].mean().groupby(level=[\"adm0_name\", \"cm_name_grouped\"]).diff()\n",
    "        trace_layout = {\n",
    "            \"zmin\": -0.4,\n",
    "            \"zmax\": 0.4,\n",
    "            \"colorscale\": [[1, 'rgb(239,138,98)'], [0.5, 'rgb(255,255,255)'],\n",
    "                           [0, 'rgb(103,169,207)']]\n",
    "        }\n",
    "\n",
    "    # determine the level on which the cross-section needs to be taken\n",
    "    def take_xs(subject, metric):\n",
    "        if subject == \"commodity\":\n",
    "            return metric.xs(commodity, level=\"cm_name_grouped\")\n",
    "\n",
    "        elif subject == \"country\":\n",
    "            return metric.xs(country, level=\"adm0_name\")\n",
    "\n",
    "    # take the cross-section, unstack, sort and add missing years\n",
    "    data = take_xs(subject, metric).unstack(level=\"mp_year\")\n",
    "    data = data.reindex(sorted(data.columns), axis=1)\n",
    "\n",
    "    # construct a count, title and render\n",
    "    record_count = take_xs(subject, groups.size()).sum()\n",
    "    title = f\"{commodity if subject == 'commodity' else country} ({record_count} records)\"\n",
    "    heatmap_render(data, trace_layout, title)\n",
    "\n",
    "\n",
    "def heatmap_ui():\n",
    "    \"\"\"seperates the quite complex heatmap ui from the transformations and rendering\"\"\"\n",
    "    # construct a dict of togglable widgets so hiding becomes easier\n",
    "    togglable_widgets = {\n",
    "        \"country\": widgets.Dropdown(options=[*food_df[\"adm0_name\"].unique()]),\n",
    "        \"commodity\": widgets.Dropdown(options=[*best_commodities])\n",
    "    }\n",
    "\n",
    "    # toggle buttons\n",
    "    subject_widget = widgets.ToggleButtons(\n",
    "        options=[\"commodity\", \"country\"],\n",
    "        description='Subject',\n",
    "        value=\"commodity\",\n",
    "    )\n",
    "\n",
    "    value_widget = widgets.ToggleButtons(\n",
    "        options=[\"count\", \"mp_price_norm\", \"mp_price_norm_diff\"],\n",
    "        description='Value',\n",
    "        value=\"count\",\n",
    "    )\n",
    "\n",
    "    # setup ui layout\n",
    "    ui = VBox([\n",
    "        HBox([\n",
    "            subject_widget, togglable_widgets[\"country\"],\n",
    "            togglable_widgets[\"commodity\"]\n",
    "        ]), value_widget\n",
    "    ])\n",
    "\n",
    "    def widget_toggle_func(**kwargs):\n",
    "        \"\"\"helper to toggle visiblity of widgets, uses a closure to get access to the toggleable widgets\"\"\"\n",
    "        for widget in togglable_widgets.values():\n",
    "            widget.layout.display = \"none\"\n",
    "        togglable_widgets[kwargs[\"subject\"]].layout.display = \"flex\"\n",
    "        # render the actual barchart\n",
    "        heatmap_data(**kwargs)\n",
    "\n",
    "    # interactive argument widget bindings\n",
    "    out = interactive_output(\n",
    "        widget_toggle_func, {\n",
    "            \"subject\": subject_widget,\n",
    "            \"value\": value_widget,\n",
    "            \"commodity\": togglable_widgets[\"commodity\"],\n",
    "            \"country\": togglable_widgets[\"country\"]\n",
    "        })\n",
    "\n",
    "    # display the ui and bind the output\n",
    "    display(ui, out)\n",
    "\n",
    "\n",
    "heatmap_ui()"
   ]
  },
  {
   "cell_type": "markdown",
   "metadata": {},
   "source": [
    "### Line / Histo / Descriptives UI"
   ]
  },
  {
   "cell_type": "code",
   "execution_count": 110,
   "metadata": {
    "ExecuteTime": {
     "end_time": "2019-06-22T14:56:12.211323Z",
     "start_time": "2019-06-22T14:56:12.207023Z"
    }
   },
   "outputs": [],
   "source": [
    "def linehisto_ui(func):\n",
    "    # toggle buttons\n",
    "    value_widget = widgets.ToggleButtons(\n",
    "        options=[\"mp_price\", \"mp_price_norm\"],\n",
    "        description='Value',\n",
    "        value=\"mp_price_norm\",\n",
    "    )\n",
    "\n",
    "    interact(func,\n",
    "             value=value_widget,\n",
    "             country=[*food_df[\"adm0_name\"].unique(), \"World\"],\n",
    "             commodity=[*best_commodities, \"All\"])"
   ]
  },
  {
   "cell_type": "markdown",
   "metadata": {
    "ExecuteTime": {
     "end_time": "2019-06-17T15:09:03.651124Z",
     "start_time": "2019-06-17T15:09:03.646090Z"
    }
   },
   "source": [
    "### [Line] Means, medians and spread"
   ]
  },
  {
   "cell_type": "code",
   "execution_count": 305,
   "metadata": {
    "ExecuteTime": {
     "end_time": "2019-06-22T17:54:39.330449Z",
     "start_time": "2019-06-22T17:54:38.738193Z"
    },
    "scrolled": false
   },
   "outputs": [
    {
     "data": {
      "application/vnd.jupyter.widget-view+json": {
       "model_id": "fb22a57dca8447ff91c74cf0d3fd020a",
       "version_major": 2,
       "version_minor": 0
      },
      "text/plain": [
       "interactive(children=(ToggleButtons(description='Value', index=1, options=('mp_price', 'mp_price_norm'), value…"
      ]
     },
     "metadata": {},
     "output_type": "display_data"
    }
   ],
   "source": [
    "def make_line_trace(data, name):\n",
    "    return go.Scatter(x=data.index, y=data.values, name=name)\n",
    "\n",
    "\n",
    "def make_scatter_trace(data):\n",
    "    return go.Scattergl(x=data.index,\n",
    "                        y=data,\n",
    "                        mode='markers',\n",
    "                        name=\"Meetpunten\",\n",
    "                        marker=dict(color=\"#2077b4\",\n",
    "                                    size=2,\n",
    "                                    line=dict(width=0)))\n",
    "\n",
    "\n",
    "def line_render(data_scatter, data_mean, data_median, data_world_mean, title):\n",
    "    \"\"\"plot a line\"\"\"\n",
    "    trace_scatter = make_scatter_trace(data_scatter)\n",
    "    trace_mean = make_line_trace(data_mean, \"Mean\")\n",
    "    trace_median = make_line_trace(data_median, \"Median\")\n",
    "    trace_world_mean = make_line_trace(data_world_mean, \"World Mean\")\n",
    "\n",
    "    layout = go.Layout(title=title)\n",
    "    fig_scatter = go.Figure(\n",
    "        data=[trace_scatter, trace_mean, trace_median, trace_world_mean],\n",
    "        layout=layout)\n",
    "\n",
    "    iplot(fig_scatter)\n",
    "\n",
    "\n",
    "def line_data(value, country, commodity):\n",
    "    \"\"\"seperate the transformations from ui and rendering\"\"\"\n",
    "    # scatter\n",
    "    data = food_df if country == \"World\" else food_df[food_df[\"adm0_name\"] == country]\n",
    "    data = data if commodity == \"All\" else data[data[\"cm_name_grouped\"] == commodity]\n",
    "\n",
    "    # scatter\n",
    "    data_scatter = data.set_index(data[\"mp_date\"])[value]\n",
    "\n",
    "    # mean\n",
    "    data_mean = data.groupby(by=[data.mp_date.dt.year])[value].mean()\n",
    "\n",
    "    # median\n",
    "    data_median = data.groupby(by=[data.mp_date.dt.year])[value].median()\n",
    "\n",
    "    # naive world mean (only make sense if normalized)\n",
    "    data_world_mean = food_df[\n",
    "        food_df[\"mp_year\"] >= data[\"mp_year\"].min()].groupby(\n",
    "            by=\"mp_year\")[value].mean(\n",
    "            ) if value == \"mp_price_norm\" else pd.Series()\n",
    "\n",
    "    # render the line\n",
    "    title = f\"{country}: {commodity}\"\n",
    "    line_render(data_scatter=data_scatter,\n",
    "                data_mean=data_mean,\n",
    "                data_median=data_median,\n",
    "                data_world_mean=data_world_mean,\n",
    "                title=title)\n",
    "\n",
    "linehisto_ui(line_data)"
   ]
  },
  {
   "cell_type": "markdown",
   "metadata": {},
   "source": [
    "### [Histogram] Distributies"
   ]
  },
  {
   "cell_type": "code",
   "execution_count": 306,
   "metadata": {
    "ExecuteTime": {
     "end_time": "2019-06-22T17:54:41.494184Z",
     "start_time": "2019-06-22T17:54:40.910397Z"
    }
   },
   "outputs": [
    {
     "data": {
      "application/vnd.jupyter.widget-view+json": {
       "model_id": "3adee6defcb549d58da5e6e1c2f36a18",
       "version_major": 2,
       "version_minor": 0
      },
      "text/plain": [
       "interactive(children=(ToggleButtons(description='Value', index=1, options=('mp_price', 'mp_price_norm'), value…"
      ]
     },
     "metadata": {},
     "output_type": "display_data"
    }
   ],
   "source": [
    "def make_histo_trace(trace_data, xbins, name):\n",
    "    return go.Histogram(x=trace_data, xbins=xbins, name=name)\n",
    "\n",
    "def histo_render(data):\n",
    "    \"\"\"plot a histogram matrix\"\"\"\n",
    "    # get all possible years\n",
    "    years = data.index.year.unique().values\n",
    "\n",
    "    # use the subplot helper to assign axis labels and do part of the math\n",
    "    rows = math.ceil(len(years) / 3)\n",
    "    cols = 3\n",
    "    fig_histo = tools.make_subplots(rows=rows,\n",
    "                                    cols=cols,\n",
    "                                    print_grid=False, \n",
    "                                    subplot_titles=years.astype('str'),\n",
    "                                    vertical_spacing=0.3/rows)\n",
    "    fig_histo.layout.update(showlegend = False)\n",
    "    fig_histo.layout.update(height = 150 * rows)\n",
    "\n",
    "    # properly set the bins\n",
    "    xbins = dict(\n",
    "        start=0,\n",
    "        end=data.max(),\n",
    "        size=data.max() / 100,\n",
    "    )\n",
    "\n",
    "    # construct all individual traces\n",
    "    for i in range(len(years)):\n",
    "        trace_data = data[data.index.year == years[i]]\n",
    "        name = f\"{years[i]}\"\n",
    "        histo_trace = make_histo_trace(trace_data, xbins, name)\n",
    "        fig_histo.append_trace(histo_trace, math.ceil((i + 1) / 3), i % 3 + 1)\n",
    "\n",
    "    iplot(fig_histo)\n",
    "\n",
    "    \n",
    "def histo_data(value, country, commodity):\n",
    "    \"\"\"seperate the transformations from ui and rendering\"\"\"\n",
    "    data = food_df if country == \"World\" else food_df[food_df[\"adm0_name\"] == country]\n",
    "    data = data if commodity == \"All\" else data[data[\"cm_name_grouped\"] == commodity]\n",
    "\n",
    "    # render the histogram matrix\n",
    "    histo_render(data.set_index(data[\"mp_date\"])[value])   \n",
    "\n",
    "linehisto_ui(histo_data)"
   ]
  },
  {
   "cell_type": "markdown",
   "metadata": {},
   "source": [
    "### [Table] Descriptives"
   ]
  },
  {
   "cell_type": "code",
   "execution_count": 307,
   "metadata": {
    "ExecuteTime": {
     "end_time": "2019-06-22T17:54:44.772222Z",
     "start_time": "2019-06-22T17:54:44.460382Z"
    },
    "scrolled": false
   },
   "outputs": [
    {
     "data": {
      "application/vnd.jupyter.widget-view+json": {
       "model_id": "0502ded6bc5849978096a3ac954e09c3",
       "version_major": 2,
       "version_minor": 0
      },
      "text/plain": [
       "interactive(children=(ToggleButtons(description='Value', index=1, options=('mp_price', 'mp_price_norm'), value…"
      ]
     },
     "metadata": {},
     "output_type": "display_data"
    }
   ],
   "source": [
    "def descriptives_data(value, country, commodity):\n",
    "    \"\"\"calculate complete descriptives\"\"\"\n",
    "    data = food_df if country == \"World\" else food_df[food_df[\"adm0_name\"] == country]\n",
    "    data = data if commodity == \"All\" else data[data[\"cm_name_grouped\"] == commodity]\n",
    "    \n",
    "    # per year     \n",
    "    descriptives = data.groupby(by=[\"mp_year\"])[value].describe()\n",
    "    descriptives[\"skew\"] = data.groupby(by=[\"mp_year\"])[value].skew()\n",
    "    descriptives[\"kurtosis\"] = data.groupby(by=[\"mp_year\"])[value].apply(pd.DataFrame.kurt)\n",
    "    \n",
    "    # totals    \n",
    "    totals = data[value].describe().rename(\"Total\")\n",
    "    totals[\"skew\"] = data[value].skew()\n",
    "    totals[\"kurtosis\"] = data[value].kurtosis()\n",
    "    \n",
    "    # do the final bits    \n",
    "    descriptives = descriptives.append(totals)\n",
    "    descriptives[\"cv\"] = descriptives[\"std\"] / descriptives[\"mean\"]\n",
    "    descriptives = descriptives[['count', 'mean', 'std', 'cv', 'min', '25%', '50%', '75%', 'max', 'skew','kurtosis']]\n",
    "    \n",
    "    # style it\n",
    "    descriptives = descriptives.style.background_gradient(cmap=\"viridis\")\n",
    "    \n",
    "    # render them\n",
    "    display(descriptives)\n",
    "\n",
    "linehisto_ui(descriptives_data)"
   ]
  },
  {
   "cell_type": "markdown",
   "metadata": {
    "ExecuteTime": {
     "end_time": "2019-06-22T13:12:09.745905Z",
     "start_time": "2019-06-22T13:12:09.743670Z"
    }
   },
   "source": [
    "### [Line + Histo + Descript combination]\n",
    "\n",
    "[TODO] get rid of the (None, None) created by the lambda. Somehow seems to be harder to remove that it should be"
   ]
  },
  {
   "cell_type": "code",
   "execution_count": 114,
   "metadata": {
    "ExecuteTime": {
     "end_time": "2019-06-22T14:56:15.025062Z",
     "start_time": "2019-06-22T14:56:15.021708Z"
    },
    "scrolled": false
   },
   "outputs": [],
   "source": [
    "# linehisto_ui(lambda **kwargs: (line_data(**kwargs), histo_data(**kwargs)))\n",
    "# linehisto_ui(lambda **kwargs: (line_data(**kwargs), histo_data(**kwargs), descriptives_data(**kwargs)))"
   ]
  },
  {
   "cell_type": "markdown",
   "metadata": {},
   "source": [
    "### [SPLOM] Correlatie tussen landen en commodities\n",
    "\n",
    "[TODO] niet af"
   ]
  },
  {
   "cell_type": "code",
   "execution_count": 318,
   "metadata": {
    "ExecuteTime": {
     "end_time": "2019-06-22T19:14:07.317886Z",
     "start_time": "2019-06-22T19:14:06.938272Z"
    },
    "scrolled": false
   },
   "outputs": [
    {
     "data": {
      "application/vnd.jupyter.widget-view+json": {
       "model_id": "0a3dba99ca2f4f8dba9e4836cea16df8",
       "version_major": 2,
       "version_minor": 0
      },
      "text/plain": [
       "interactive(children=(Dropdown(description='country', options=('Afghanistan', 'Algeria', 'Angola', 'Armenia', …"
      ]
     },
     "metadata": {},
     "output_type": "display_data"
    },
    {
     "data": {
      "text/plain": [
       "<function __main__.correlation_data(country, commodity, treshhold=0.8)>"
      ]
     },
     "execution_count": 318,
     "metadata": {},
     "output_type": "execute_result"
    }
   ],
   "source": [
    "def corr_matrix_render(data, treshhold):\n",
    "    corr_matrix = data.unstack(level=\"adm0_name\").corr().unstack()\n",
    "#     display(data.unstack(level=\"adm0_name\").corr())\n",
    "    corr_matrix_ss = corr_matrix[(corr_matrix > treshhold) | (corr_matrix < -treshhold)].unstack()\n",
    "\n",
    "    trace = go.Heatmap(x=corr_matrix_ss.index,\n",
    "                       y=corr_matrix_ss.index,\n",
    "                       z=corr_matrix_ss,\n",
    "                       zmin=-1,\n",
    "                       zmax=1,\n",
    "                       showscale=False)\n",
    "\n",
    "    axis = dict(tickfont=dict(size=7), showticklabels=True, automargin=True)\n",
    "\n",
    "    layout = go.Layout(autosize=True,\n",
    "                       width=200 + 11 * len(corr_matrix_ss.index),\n",
    "                       height=200 + 11 * len(corr_matrix_ss.index),\n",
    "                       yaxis=axis,\n",
    "                       xaxis=axis,\n",
    "                       title=\"Correlation\")\n",
    "\n",
    "    corr_fig = go.Figure(data=[trace], layout=layout)\n",
    "\n",
    "    iplot(corr_fig)\n",
    "\n",
    "\n",
    "def splom_render(data):\n",
    "    trace1 = go.Splom(dimensions=data)\n",
    "    layout = go.Layout(title='Commodity correlations', height=1000)\n",
    "    fig = go.Figure(data=[trace1], layout=layout)\n",
    "    iplot(fig)\n",
    "\n",
    "\n",
    "def correlation_data(country, commodity, treshhold=0.8):\n",
    "    commodity = food_df.groupby(by=[\"adm0_name\", \"cm_name_grouped\", \"mp_year\"])[\"mp_price_norm\"].mean().xs(\"Rice\", level=\"cm_name_grouped\")\n",
    "    sliced = commodity[commodity.index.get_level_values(level=\"adm0_name\").isin(best_countries[:5])]\n",
    "    groups = sliced.groupby(level=\"adm0_name\").apply(lambda df: df.values)\n",
    "    data = [{\n",
    "        \"label\": label,\n",
    "        \"values\": values\n",
    "    } for label, values in groups.items()]\n",
    "    #     splom_render(data)\n",
    "    corr_matrix_render(commodity, treshhold)\n",
    "\n",
    "\n",
    "interact(correlation_data,\n",
    "         treshhold=(0, 1, 0.1),\n",
    "         country=food_df[\"adm0_name\"].unique(),\n",
    "         commodity=best_commodities)"
   ]
  },
  {
   "cell_type": "markdown",
   "metadata": {},
   "source": [
    "## Visualisatie: Map\n",
    "\n",
    "Okee, een kaart met interactiviteit. Vond de Iphyton docs eigenlijk fijner.\n",
    "\n",
    "[interactieve plots] https://towardsdatascience.com/interactive-controls-for-jupyter-notebooks-f5c94829aee6  \n",
    "[iphython widget docs] https://ipywidgets.readthedocs.io/en/stable/examples/Using%20Interact.html\n",
    "\n",
    "### Food change maps"
   ]
  },
  {
   "cell_type": "code",
   "execution_count": 115,
   "metadata": {
    "ExecuteTime": {
     "end_time": "2019-06-22T14:56:33.470470Z",
     "start_time": "2019-06-22T14:56:33.290013Z"
    },
    "scrolled": false
   },
   "outputs": [
    {
     "data": {
      "application/vnd.jupyter.widget-view+json": {
       "model_id": "5cfd20be38c140bd84f6662f646c5d40",
       "version_major": 2,
       "version_minor": 0
      },
      "text/plain": [
       "interactive(children=(Dropdown(description='commodity', options=('Rice', 'Maize', 'Oil', 'Wheat', 'Beans', 'Su…"
      ]
     },
     "metadata": {},
     "output_type": "display_data"
    },
    {
     "data": {
      "text/plain": [
       "<function __main__.map_graph(commodity=Index(['Rice', 'Maize', 'Oil', 'Wheat', 'Beans', 'Sugar', 'Sorghum', 'Meat',\n",
       "       'Millet', 'Fuel'],\n",
       "      dtype='object', name='cm_name_grouped'), year=(2007, 2019, 1))>"
      ]
     },
     "execution_count": 115,
     "metadata": {},
     "output_type": "execute_result"
    }
   ],
   "source": [
    "def map_graph(commodity=best_commodities, year=(2007, 2019, 1)):\n",
    "    # Plot the mean price, of all commodities on map, of all years.\n",
    "    series = select_commodity(commodity, year)\n",
    "    map_data = [go.Choropleth(\n",
    "        locations = series.index,\n",
    "        locationmode = \"country names\",\n",
    "        z = series.values,\n",
    "    )]\n",
    "\n",
    "    fig = go.Figure(data = map_data)\n",
    "    iplot(fig)\n",
    "    \n",
    "interact(map_graph, commodity=best_commodities, year=(1996, 2019, 1))\n",
    "\n",
    "# interact(map_climate, year=(1996, 2013, 1))\n",
    "\n",
    "\n",
    "# def slider(year):\n",
    "#     map_graph(\"Fuel\", year)\n",
    "# #     map_climate(year)\n",
    "    \n",
    "# interact(slider, year=(2007, 2013, 1))\n",
    "\n",
    "\n"
   ]
  },
  {
   "cell_type": "markdown",
   "metadata": {},
   "source": [
    "## Controle\n",
    "\n",
    "Om te controleren of de dataset correct is moeten we natuurlijk even een test draaien. Ik heb globale voedselprijzen even als benchmark genomen. Daar ligt waarschijnlijk een sterke correlatie, zeker voor gebieden die niet direct in conflict zijn.\n",
    "\n",
    "[imf commodity prices data] https://www.imf.org/en/Research/commodity-prices  \n",
    "[interessante analyse voedsel] https://ourworldindata.org/food-prices  \n",
    "[interessante statistische analyse van commodities] https://www.imf.org/~/media/Files/Research/CommodityPrices/WEOSpecialFeature/SFApril2019.ashx  \n"
   ]
  },
  {
   "cell_type": "code",
   "execution_count": 97,
   "metadata": {
    "ExecuteTime": {
     "end_time": "2019-06-22T14:22:20.399264Z",
     "start_time": "2019-06-22T14:22:20.219036Z"
    }
   },
   "outputs": [
    {
     "ename": "NameError",
     "evalue": "name 'climate_tran_df' is not defined",
     "output_type": "error",
     "traceback": [
      "\u001b[0;31m---------------------------------------------------------------------------\u001b[0m",
      "\u001b[0;31mNameError\u001b[0m                                 Traceback (most recent call last)",
      "\u001b[0;32m<ipython-input-97-d80e3db608b4>\u001b[0m in \u001b[0;36m<module>\u001b[0;34m\u001b[0m\n\u001b[1;32m      7\u001b[0m                                decimal=\",\")\n\u001b[1;32m      8\u001b[0m \u001b[0mcommodity_imf_df\u001b[0m \u001b[0;34m=\u001b[0m \u001b[0mcommodity_imf_df\u001b[0m\u001b[0;34m.\u001b[0m\u001b[0mset_index\u001b[0m\u001b[0;34m(\u001b[0m\u001b[0;34m'Year'\u001b[0m\u001b[0;34m)\u001b[0m\u001b[0;34m\u001b[0m\u001b[0;34m\u001b[0m\u001b[0m\n\u001b[0;32m----> 9\u001b[0;31m climate_series = climate_tran_df.groupby(\n\u001b[0m\u001b[1;32m     10\u001b[0m     level=1).mean()[\"AverageTemperature_diff\"].loc[1994:2013]\n\u001b[1;32m     11\u001b[0m \u001b[0;34m\u001b[0m\u001b[0m\n",
      "\u001b[0;31mNameError\u001b[0m: name 'climate_tran_df' is not defined"
     ]
    }
   ],
   "source": [
    "from sklearn import datasets, linear_model\n",
    "from scipy import stats\n",
    "\n",
    "# selecteer rijst en bereken het gemiddelde\n",
    "commodity_imf_df = pd.read_csv(\"./commodity_imf_proper.csv\",\n",
    "                               dtype=float,\n",
    "                               decimal=\",\")\n",
    "commodity_imf_df = commodity_imf_df.set_index('Year')\n",
    "climate_series = climate_tran_df.groupby(\n",
    "    level=1).mean()[\"AverageTemperature_diff\"].loc[1994:2013]\n",
    "\n",
    "\n",
    "def normalize_series(series):\n",
    "    # bootstrap a new normalizer\n",
    "    min_max_scaler = preprocessing.MinMaxScaler()\n",
    "\n",
    "    # reshape the series to array so that the normalizer accepts it\n",
    "    to_normalize = series.values.reshape(-1, 1)\n",
    "\n",
    "    # do the actual normalisation\n",
    "    x_scaled = min_max_scaler.fit_transform(to_normalize)\n",
    "\n",
    "    # undo some weird numpy nesting of arrays\n",
    "    x_scaled = np.concatenate(x_scaled).ravel()\n",
    "\n",
    "    # trow the series\n",
    "    return pd.Series(x_scaled, index=series.index)\n",
    "\n",
    "\n",
    "def line_graph(food):\n",
    "    # create an average of all countries\n",
    "    test = grouped_commodity_diff_df.xs(food, level=1, drop_level=False).mean()\n",
    "    fuel = grouped_commodity_diff_df.xs(\"Fuel\", level=1,\n",
    "                                        drop_level=False).mean()\n",
    "\n",
    "    # use the IMF data to compute a nomalized and diffed line too\n",
    "    control = normalize_series(commodity_imf_df[food]).diff()\n",
    "\n",
    "    test_trace = go.Scatter(name=\"WFP\", x=test.index, y=test.values)\n",
    "\n",
    "    control_trace = go.Scatter(name=\"IMF\",\n",
    "                               x=control.index[-25:],\n",
    "                               y=control.values[-25:])\n",
    "    fuel_trace = go.Scatter(name=\"Fuel\", x=fuel.index, y=fuel.values)\n",
    "\n",
    "    climate_trace = go.Scatter(name=\"Climate\",\n",
    "                               x=climate_series.index,\n",
    "                               y=climate_series.values)\n",
    "\n",
    "    #     display(test)\n",
    "    #     display(climate_series)\n",
    "    #     display(fuel)\n",
    "    \n",
    "    control.name = \"IMF\"\n",
    "    test.name = \"Rice\"\n",
    "    climate_series.name = \"Klimaat\"\n",
    "    fuel.name = \"Fuel\"\n",
    "    \n",
    "    scatter_data = pd.DataFrame([control, test, climate_series, fuel]).T\n",
    "#     display(scatter_data.corr())\n",
    "\n",
    "    #     iplot([test_trace, control_trace, fuel_trace, climate_trace], filename='totalchart')\n",
    "    \n",
    "    xi = scatter_data['Rice'].iloc[-25:-1].values\n",
    "    y = scatter_data['IMF'].iloc[-25:-1].values\n",
    "    slope, intercept, r_value, p_value, std_err = stats.linregress(xi,y)\n",
    "    line = slope*xi+intercept\n",
    "    display(line)\n",
    "    \n",
    "    \n",
    "#     display(regr.predict(scatter_data['Rice'].iloc[-25:-1].values.reshape(-1, 1), scatter_data['IMF'].iloc[-25:-1].values.reshape(-1, 1)))\n",
    "    \n",
    "    trace1 = go.Splom(dimensions=[\n",
    "        dict(label='Rice', values=scatter_data['Rice']),\n",
    "        dict(label='IMF', values=scatter_data['IMF']),\n",
    "        dict(label='Klimaat', values=scatter_data['Klimaat']),\n",
    "        dict(label='Fuel', values=scatter_data['Fuel'])\n",
    "    ],stff =1 )\n",
    "\n",
    "    axis = dict(showline=True, zeroline=False, gridcolor='#fff', ticklen=4)\n",
    "\n",
    "    layout = go.Layout(title='FOOD',\n",
    "                       dragmode='select',\n",
    "                       width=600,\n",
    "                       height=600,\n",
    "                       autosize=False,\n",
    "                       hovermode='closest',\n",
    "                       plot_bgcolor='rgba(240,240,240, 0.95)',\n",
    "                       xaxis1=dict(axis),\n",
    "                       xaxis2=dict(axis),\n",
    "                       xaxis3=dict(axis),\n",
    "                       xaxis4=dict(axis),\n",
    "                       yaxis1=dict(axis),\n",
    "                       yaxis2=dict(axis),\n",
    "                       yaxis3=dict(axis),\n",
    "                       yaxis4=dict(axis))\n",
    "\n",
    "    fig1 = dict(data=[trace1], layout=layout)\n",
    "    iplot(fig1, filename='splom-iris1')\n",
    "\n",
    "\n",
    "interact(line_graph, food=[\"Rice\", \"Wheat\", \"Sugar\"])\n"
   ]
  },
  {
   "cell_type": "markdown",
   "metadata": {},
   "source": [
    "## Resultaat\n",
    "\n",
    "Er lijkt wel iets van een correlatie te zijn, maar er zitten ook rare verschillen tussen. Metname de pieken zijn veel hoger. Maar duidelijk is dat 2008 een grote impact heeft gehad. Ik denk dat we nog even goed moeten kijken naar hoe we normaliseren. Het is best mogelijk om hiermee te spelen lijkt het, maar wat verantwoord is twijfel ik aan."
   ]
  },
  {
   "cell_type": "markdown",
   "metadata": {},
   "source": [
    "# Klimaat\n",
    "\n",
    "Nu eens kijken of het samenhangt met klimaat. Ik heb het gevoel dat hier enige correlatie vinden hier moeilijk gaat worden.\n",
    "\n",
    "## Load data"
   ]
  },
  {
   "cell_type": "code",
   "execution_count": null,
   "metadata": {
    "ExecuteTime": {
     "end_time": "2019-06-21T11:32:46.635094Z",
     "start_time": "2019-06-21T11:32:23.169Z"
    }
   },
   "outputs": [],
   "source": [
    "\n",
    "climate_df = pd.read_csv(\"./climate_data/GlobalLandTemperaturesByCountry.csv\", low_memory=False)\n",
    "display(climate_df.head())\n"
   ]
  },
  {
   "cell_type": "markdown",
   "metadata": {},
   "source": [
    "## Type and normalize\n",
    "\n",
    "Here we go again.\n",
    "\n",
    "1. Type the datetime\n",
    "2. Normalize\n",
    "3. Create year averages\n",
    "4. Diff those averages to have something comparable\n",
    "\n",
    "This is just a tad different data though. It's cumulative data, its not the same as money. And the effects are much longer term. Doesn't make sense."
   ]
  },
  {
   "cell_type": "code",
   "execution_count": null,
   "metadata": {
    "ExecuteTime": {
     "end_time": "2019-06-21T11:32:46.642573Z",
     "start_time": "2019-06-21T11:32:23.984Z"
    }
   },
   "outputs": [],
   "source": [
    "# type properly\n",
    "climate_df_typed = climate_df.copy()\n",
    "climate_df_typed['dt'] = climate_df_typed['dt'].astype('datetime64[ns]')\n",
    "\n",
    "# apply the normalize function (with a partial for the key)\n",
    "climate_norm_df = climate_df_typed.groupby(by=[\"Country\"]).apply(partial(normalize_group, \"AverageTemperature\"))"
   ]
  },
  {
   "cell_type": "markdown",
   "metadata": {},
   "source": [
    "## Transform and select"
   ]
  },
  {
   "cell_type": "code",
   "execution_count": null,
   "metadata": {
    "ExecuteTime": {
     "end_time": "2019-06-21T11:32:46.650567Z",
     "start_time": "2019-06-21T11:32:24.855Z"
    }
   },
   "outputs": [],
   "source": [
    "# calulate the mean for the year\n",
    "climate_mean_df = climate_norm_df.groupby(by=[\"Country\", climate_norm_df[\"dt\"].dt.year]).mean()\n",
    "climate_mean_df.reset_index(inplace=True)\n",
    "\n",
    "# quick function with assignment\n",
    "def diff_temp(group_df):\n",
    "    group_df[\"AverageTemperature_diff\"] = group_df[\"AverageTemperature_norm\"].diff()\n",
    "    return group_df\n",
    "\n",
    "# apply the difference function\n",
    "climate_tran_df = climate_mean_df.groupby(by=[\"Country\"]).apply(diff_temp).set_index([\"Country\", \"dt\"])\n",
    "\n",
    "# quick selection function\n",
    "def select_year(year):\n",
    "    return climate_tran_df.xs(year, level=1, drop_level=False)"
   ]
  },
  {
   "cell_type": "markdown",
   "metadata": {},
   "source": [
    "## Map: Tempratuur verschil met vorig jaar\n",
    "\n",
    "Spreekt voor zich, maar of het interessant is is de tweede vraag."
   ]
  },
  {
   "cell_type": "code",
   "execution_count": null,
   "metadata": {
    "ExecuteTime": {
     "end_time": "2019-06-21T11:32:46.657451Z",
     "start_time": "2019-06-21T11:32:26.057Z"
    }
   },
   "outputs": [],
   "source": [
    "def map_climate(year):\n",
    "    year_data = select_year(year)\n",
    "    map_data = go.Choropleth(locations=year_data.index.get_level_values(0),\n",
    "                             locationmode=\"country names\",\n",
    "                             z=year_data[\"AverageTemperature_diff\"].values)\n",
    "    \n",
    "    \n",
    "    \n",
    "    fig = go.Figure(data=[map_data])\n",
    "\n",
    "    iplot(fig)\n",
    "\n",
    "interact(map_climate, year=(1996, 2013, 1))\n",
    "\n"
   ]
  },
  {
   "cell_type": "code",
   "execution_count": null,
   "metadata": {
    "ExecuteTime": {
     "end_time": "2019-06-21T11:32:46.663401Z",
     "start_time": "2019-06-21T11:32:26.784Z"
    }
   },
   "outputs": [],
   "source": [
    "from ipywidgets import Layout, Button, Box\n",
    "\n",
    "layout = {\n",
    "    'geo': {\n",
    "        'domain': {\n",
    "            'x': [0.0, 0.33],\n",
    "            'y': [0, 1.0]\n",
    "        }\n",
    "    },\n",
    "    'geo2': {\n",
    "        'domain': {\n",
    "            'x': [0.33, 0.66],\n",
    "            'y': [0, 1.0]\n",
    "        }\n",
    "    },\n",
    "    'geo3': {\n",
    "        'domain': {\n",
    "            'x': [0.66, 0.99],\n",
    "            'y': [0, 1.0]\n",
    "        }\n",
    "    }\n",
    "}\n",
    "\n",
    "layout = {\n",
    "    'geo': {\n",
    "        'domain': {\n",
    "            'x': [0.0, 0.5],\n",
    "            'y': [0, 1.0]\n",
    "        },\n",
    "        #         \"scope\": \"africa\",\n",
    "        \"showframe\": False,\n",
    "        \"lonaxis\": {\n",
    "            \"range\": [-30, 170]\n",
    "        },\n",
    "        \"lataxis\": {\n",
    "            \"range\": [-35, 45]\n",
    "        }\n",
    "    },\n",
    "    'geo2': {\n",
    "        'domain': {\n",
    "            'x': [0.5, 1],\n",
    "            'y': [0, 1.0]\n",
    "        },\n",
    "        #         \"scope\": \"africa\",\n",
    "        \"showframe\": False,\n",
    "        \"lonaxis\": {\n",
    "            \"range\": [-30, 170]\n",
    "        },\n",
    "        \"lataxis\": {\n",
    "            \"range\": [-35, 45]\n",
    "        }\n",
    "    }\n",
    "}\n",
    "\n",
    "\n",
    "def map_all(year):\n",
    "    climate_year_data = select_year(year)\n",
    "    climate_trace = go.Choropleth(\n",
    "        locations=climate_year_data.index.get_level_values(0),\n",
    "        locationmode=\"country names\",\n",
    "        z=climate_year_data[\"AverageTemperature_diff\"].values,\n",
    "        geo=\"geo1\",\n",
    "        showscale=False)\n",
    "\n",
    "    rice_year_data = select_commodity(\"Rice\", year)\n",
    "    rice_trace = go.Choropleth(locations=rice_year_data.index,\n",
    "                               locationmode=\"country names\",\n",
    "                               z=rice_year_data.values,\n",
    "                               geo=\"geo2\",\n",
    "                               showscale=False,\n",
    "                               zmin=-0.5,\n",
    "                               zmax=0.5)\n",
    "\n",
    "    climate_trace2 = go.Choropleth(\n",
    "        locations=climate_year_data.index.get_level_values(0),\n",
    "        locationmode=\"country names\",\n",
    "        z=climate_year_data[\"AverageTemperature_diff\"].values,\n",
    "        geo=\"geo3\",\n",
    "        showscale=False,\n",
    "        zmin=-0.5,\n",
    "        zmax=0.5)\n",
    "\n",
    "    rice_trace2 = go.Choropleth(locations=rice_year_data.index,\n",
    "                                locationmode=\"country names\",\n",
    "                                z=rice_year_data.values,\n",
    "                                geo=\"geo4\",\n",
    "                                showscale=False)\n",
    "\n",
    "    #     fuel_year_data = select_commodity(\"Fuel\", year)\n",
    "    #     fuel_trace = go.Choropleth(locations=fuel_year_data.index,\n",
    "    #                                locationmode=\"country names\",\n",
    "    #                                z=fuel_year_data.values,\n",
    "    #                                geo=\"geo3\",\n",
    "    #                                showscale=False)\n",
    "\n",
    "    fig = go.Figure(data=[climate_trace, rice_trace], layout=layout)\n",
    "    iplot(fig)\n",
    "\n",
    "\n",
    "IntSlider(description='A too long description', style=)\n",
    "\n",
    "interact(map_all, year=(2007, 2013, 1))"
   ]
  },
  {
   "cell_type": "code",
   "execution_count": null,
   "metadata": {
    "ExecuteTime": {
     "end_time": "2019-06-21T11:33:04.613247Z",
     "start_time": "2019-06-21T11:33:04.564978Z"
    }
   },
   "outputs": [],
   "source": [
    "\n",
    "items_layout = Layout(width='50%')     # override the default width of the button to 'auto' to let the button grow\n",
    "\n",
    "box_layout = Layout(display='flex',\n",
    "                    flex_flow='column',\n",
    "                    align_items='stretch',\n",
    "                    justify_content='center',\n",
    "                    width='100%')\n",
    "\n",
    "words = ['correct', 'horse', 'battery', 'staple']\n",
    "items = [Button(description=word, layout=items_layout) for word in words]\n",
    "box = Box(children=items, layout=box_layout)\n",
    "box"
   ]
  },
  {
   "cell_type": "markdown",
   "metadata": {},
   "source": [
    "# Sparklines Climate\n",
    "\n",
    "Misschien is een totaalbeeld beter. "
   ]
  },
  {
   "cell_type": "code",
   "execution_count": null,
   "metadata": {
    "ExecuteTime": {
     "end_time": "2019-06-21T12:33:10.847070Z",
     "start_time": "2019-06-21T12:33:09.568187Z"
    }
   },
   "outputs": [],
   "source": [
    "import plotly.plotly as py\n",
    "import pandas as pd\n",
    "df = pd.read_csv('https://raw.githubusercontent.com/plotly/datasets/master/1962_2006_walmart_store_openings.csv')\n",
    "display(df.head())\n",
    "\n",
    "data = []\n",
    "layout = dict(\n",
    "    title = 'New Walmart Stores per year 1962-2006<br>\\\n",
    "Source: <a href=\"http://www.econ.umn.edu/~holmes/data/WalMart/index.html\">\\\n",
    "University of Minnesota</a>',\n",
    "    # showlegend = False,\n",
    "    autosize = False,\n",
    "    width = 1000,\n",
    "    height = 900,\n",
    "    hovermode = False,\n",
    "    legend = dict(\n",
    "        x=0.7,\n",
    "        y=-0.1,\n",
    "        bgcolor=\"rgba(255, 255, 255, 0)\",\n",
    "        font = dict( size=11 ),\n",
    "    )\n",
    ")\n",
    "years = df['YEAR'].unique()\n",
    "\n",
    "for i in range(len(years)):\n",
    "    geo_key = 'geo'+str(i+1) if i != 0 else 'geo'\n",
    "    lons = list(df[ df['YEAR'] == years[i] ]['LON'])\n",
    "    lats = list(df[ df['YEAR'] == years[i] ]['LAT'])\n",
    "    # Walmart store data\n",
    "    data.append(\n",
    "        dict(\n",
    "            type = 'scattergeo',\n",
    "            showlegend=False,\n",
    "            lon = lons,\n",
    "            lat = lats,\n",
    "            geo = geo_key,\n",
    "            name = str(years[i]),\n",
    "            marker = dict(\n",
    "                color = \"rgb(0, 0, 255)\",\n",
    "                opacity = 0.5\n",
    "            )\n",
    "        )\n",
    "    )\n",
    "    # Year markers\n",
    "    data.append(\n",
    "        dict(\n",
    "            type = 'scattergeo',\n",
    "            showlegend = False,\n",
    "            lon = [-78],\n",
    "            lat = [47],\n",
    "            geo = geo_key,\n",
    "            text = [years[i]],\n",
    "            mode = 'text',\n",
    "        )\n",
    "    )\n",
    "    layout[geo_key] = dict(\n",
    "        scope = 'usa',\n",
    "        showland = True,\n",
    "        landcolor = 'rgb(229, 229, 229)',\n",
    "        showcountries = False,\n",
    "        domain = dict( x = [], y = [] ),\n",
    "        subunitcolor = \"rgb(255, 255, 255)\",\n",
    "    )\n",
    "\n",
    "\n",
    "def draw_sparkline( domain, lataxis, lonaxis ):\n",
    "    ''' Returns a sparkline layout object for geo coordinates  '''\n",
    "    return dict(\n",
    "        showland = False,\n",
    "        showframe = False,\n",
    "        showcountries = False,\n",
    "        showcoastlines = False,\n",
    "        domain = domain,\n",
    "        lataxis = lataxis,\n",
    "        lonaxis = lonaxis,\n",
    "        bgcolor = 'rgba(255,200,200,0.0)'\n",
    "    )\n",
    "\n",
    "# Stores per year sparkline\n",
    "layout['geo44'] = draw_sparkline({'x':[0.6,0.8], 'y':[0,0.15]}, \\\n",
    "                                 {'range':[-5.0, 30.0]}, {'range':[0.0, 40.0]} )\n",
    "data.append(\n",
    "    dict(\n",
    "        type = 'scattergeo',\n",
    "        mode = 'lines',\n",
    "        lat = list(df.groupby(by=['YEAR']).count()['storenum']/1e1),\n",
    "        lon = list(range(len(df.groupby(by=['YEAR']).count()['storenum']/1e1))),\n",
    "        line = dict( color = \"rgb(0, 0, 255)\" ),\n",
    "        name = \"New stores per year<br>Peak of 178 stores per year in 1990\",\n",
    "        geo = 'geo44',\n",
    "    )\n",
    ")\n",
    "\n",
    "# Cumulative sum sparkline\n",
    "layout['geo45'] = draw_sparkline({'x':[0.8,1], 'y':[0,0.15]}, \\\n",
    "                                 {'range':[-5.0, 50.0]}, {'range':[0.0, 50.0]} )\n",
    "data.append(\n",
    "    dict(\n",
    "        type = 'scattergeo',\n",
    "        mode = 'lines',\n",
    "        lat = list(df.groupby(by=['YEAR']).count().cumsum()['storenum']/1e2),\n",
    "        lon = list(range(len(df.groupby(by=['YEAR']).count()['storenum']/1e1))),\n",
    "        line = dict( color = \"rgb(214, 39, 40)\" ),\n",
    "        name =\"Cumulative sum<br>3176 stores total in 2006\",\n",
    "        geo = 'geo45',\n",
    "    )\n",
    ")\n",
    "\n",
    "z = 0\n",
    "COLS = 5\n",
    "ROWS = 9\n",
    "for y in reversed(range(ROWS)):\n",
    "    for x in range(COLS):\n",
    "        geo_key = 'geo'+str(z+1) if z != 0 else 'geo'\n",
    "        layout[geo_key]['domain']['x'] = [float(x)/float(COLS), float(x+1)/float(COLS)]\n",
    "        layout[geo_key]['domain']['y'] = [float(y)/float(ROWS), float(y+1)/float(ROWS)]\n",
    "        z=z+1\n",
    "        if z > 42:\n",
    "            break\n",
    "\n",
    "\n",
    "layout = {**layout, \"height\":900, \"width\":1000 }\n",
    "# display(data)\n",
    "\n",
    "fig = { 'data':data, 'layout': layout}\n",
    "iplot( fig, filename='US Walmart growth' )"
   ]
  },
  {
   "cell_type": "markdown",
   "metadata": {},
   "source": [
    "# Events\n",
    "\n",
    "Okee, wat moet ik hiervoor doen. Querys schrijven naar Google Big Query. Cool, eens kijken hoe dat werkt.\n",
    "\n",
    "[GDELT database] https://www.gdeltproject.org/  \n",
    "[forecasting op voedseldata] https://dataviz.vam.wfp.org/economic_explorer/price-forecasts-alerts  \n",
    "[redelijke uitleg GDELT] http://data.gdeltproject.org/documentation/GDELT-Event_Codebook-V2.0.pdf  \n",
    "[Uitleg gebruikte codes] https://www.gdeltproject.org/data/documentation/CAMEO.Manual.1.1b3.pdf  "
   ]
  },
  {
   "cell_type": "markdown",
   "metadata": {
    "ExecuteTime": {
     "end_time": "2019-06-15T09:19:24.837795Z",
     "start_time": "2019-06-15T09:19:24.827976Z"
    }
   },
   "source": [
    "## Download data\n",
    "\n",
    "Er is een Python client voor bigquery. Het is best simpel eigenlijk.\n",
    "\n",
    "1. De clientlib installeren\n",
    "2. Credentials file exporten in je shell (ik heb het aan mijn ~/.bash_profile toegevoegd en die gesourced, werkt perfect - MAC/Linux-only helaas)\n",
    "2. Draai de sample query\n",
    "3. Doe dingen met het dataframe\n",
    "\n",
    "[setup credentials] https://cloud.google.com/bigquery/docs/reference/libraries#client-libraries-install-python  \n",
    "[database description] https://bigquery.cloud.google.com/table/gdelt-bq:gdeltv2.events?pli=1  \n",
    "[API reference] https://googleapis.github.io/google-cloud-python/latest/bigquery/index.html"
   ]
  },
  {
   "cell_type": "code",
   "execution_count": null,
   "metadata": {
    "ExecuteTime": {
     "end_time": "2019-06-21T09:04:17.198361Z",
     "start_time": "2019-06-21T09:04:14.453445Z"
    }
   },
   "outputs": [],
   "source": [
    "from google.cloud import bigquery\n",
    "client = bigquery.Client()\n",
    "\n",
    "# write a good query to the right table (lookup the database stuffz)\n",
    "query = (\n",
    "    \"SELECT V2Themes FROM `gdelt-bq.gdeltv2.gkg` WHERE DATE>20150302000000 and DATE < 20150304000000 and V2Persons like '%Netanyahu%' LIMIT 10;\"\n",
    ")\n",
    "\n",
    "# create the query\n",
    "query_job = client.query(\n",
    "    query,\n",
    "    location=\"US\",\n",
    ")\n",
    "\n",
    "# run the query and turn the result to a dataframe\n",
    "result = query_job.result().to_dataframe()"
   ]
  },
  {
   "cell_type": "markdown",
   "metadata": {},
   "source": [
    "## Query\n",
    "\n",
    "Wat moet het kunnen?\n",
    "\n",
    "Het moet sentiment en count per land per jaar of maand geven.\n"
   ]
  },
  {
   "cell_type": "code",
   "execution_count": null,
   "metadata": {
    "ExecuteTime": {
     "end_time": "2019-06-21T07:12:17.014323Z",
     "start_time": "2019-06-21T07:12:01.782Z"
    }
   },
   "outputs": [],
   "source": [
    "display(result)"
   ]
  },
  {
   "cell_type": "markdown",
   "metadata": {},
   "source": [
    "# Todo\n",
    "\n",
    "## Food\n",
    "Dit is onze hoofddataset, dus veel detailvisualisaties.\n",
    "\n",
    "0. [ x ] Drop messy date columns  \n",
    "\n",
    "  \n",
    "1. [ x ] Scatter diagram  \n",
    "    1.1. [ x ] Rransform van price naar price_norm   \n",
    "    1.2. [ x ] Histogram  \n",
    "    1.3. [  ] Histogram grid  \n",
    "    1.4. [  ] Add skew and kurtosis to descriptives  \n",
    "    \n",
    "   \n",
    "2. [ x ] Matrix   \n",
    "    2.1. [ x ] Matrix transform interactief/y-as van goods naar country    \n",
    "    2.2. [ x ] Matrix transform z-as van count naar price en price_norm  \n",
    "\n",
    "  \n",
    "3. [  ] Gridplot van een commodity per land om een diachroon perspectief te krijgen  \n",
    "    3.1. [  ] mp_price/jaar  \n",
    "    3.2. [  ] mp_price_norm/jaar  \n",
    "    \n",
    "  \n",
    "4. [  ] Totaalplot  \n",
    "    4.1. [  ] IMF Wereldcommodities aanvullen met scatterplot  \n",
    "    4.2. [  ] Correlatiematrix binnen een commodity in een land maken  \n",
    "    4.3. [  ] Slechte correlaties droppen  \n",
    "    4.4. [  ] Correlatiematrix tussen dezelfde commodity tussen landen  \n",
    "    4.5. [  ] Slechte correlaties droppen   \n",
    "    4.6. [  ] Correlatie met wereldcommodities maken  \n",
    "    \n",
    "\n",
    "5. [  ] Correlatie plots  \n",
    "    5.1. [  ] Correlation scatter grid  \n",
    "    5.2. [  ] Correlellogram  \n",
    "\n",
    "\n",
    "6. [  ] Map grid plot  \n",
    "    6.1. Understand subplots for geographical axes  \n",
    "    6.2. Find a good design for comparing  \n",
    "\n",
    "**If time**\n",
    "\n",
    "7. [  ] Detail in alle grafieken naar maanden verhogen  \n",
    "    6.1. [  ] Matrix  \n",
    "    6.2. [  ] Lijn  \n",
    "    \n",
    "   \n",
    "8. [  ] Maps naar provincie of stadsniveau  \n",
    "\n",
    "\n"
   ]
  },
  {
   "cell_type": "markdown",
   "metadata": {},
   "source": [
    "## Klimaat\n",
    "\n",
    "### EDA\n",
    "1. Dit is het zwakke van klimaat, ik heb eigenlijk nog geen goed overzicht van distributes en ander inzicht in de kwaliteit van die set. \n",
    "2. Iets van diachronaal perspectief op deze set, om uberhaubt te checken dat het geen nagenoeg rechte lijn van 1990-2013 is. \n",
    "\n"
   ]
  },
  {
   "cell_type": "markdown",
   "metadata": {},
   "source": [
    "## Events\n",
    "\n",
    "### Opzetten\n",
    "\n",
    "#### Gemiddelden checken \n",
    "1. Goede query opstellen. Dit wordt eigenlijk de grote crux. In principe moeten we BigQuery al het werk laten doen hier. Het resultaat dat we willen hebben is niet zo heel erg gedetailleerd. \n",
    "2. Transformeren naar een vergelijkbaar dataframe. \n",
    "3. Plotten in lijn en kaart\n",
    "\n",
    "#### Individuele events checken\n",
    "4. Eventdetectie in de food dataset\n",
    "5. Event en food events tegen elkaar afzetten\n",
    "\n",
    "### EDA\n",
    "6. Alles\n",
    "\n",
    "### Kwaliteit\n",
    "7. Wat de data precies beschrijven en wat de bronnen zijn twijfel ik ook nog aan. Het is regelrecht gigantisch en het is een academisch project. Maar dit is wel een extreem complexe set, met veel artikelen over hoe het gecodeerd is. (denk Goldstein sentiment en counts.. van wat precies?)\n",
    "\n"
   ]
  },
  {
   "cell_type": "markdown",
   "metadata": {},
   "source": [
    "## Correlaties\n",
    "1. Proberen goederen te clusteren tot een enkele lijn per land / wereld\n",
    "2. Visuele EDA op de correlaties\n",
    "3. Correlaties van die lijn inferentieel onderzoeken en tot een coefficient omzetten voor uiteindelijke conclusie.\n",
    "    - Nadenken over welke assumpties daar ook al weer voor golden en welke tests dus aan voldaan moet zijn.\n",
    "\n",
    "\n"
   ]
  },
  {
   "cell_type": "code",
   "execution_count": null,
   "metadata": {},
   "outputs": [],
   "source": []
  }
 ],
 "metadata": {
  "kernelspec": {
   "display_name": "Python 3",
   "language": "python",
   "name": "python3"
  },
  "language_info": {
   "codemirror_mode": {
    "name": "ipython",
    "version": 3
   },
   "file_extension": ".py",
   "mimetype": "text/x-python",
   "name": "python",
   "nbconvert_exporter": "python",
   "pygments_lexer": "ipython3",
   "version": "3.6.8"
  },
  "varInspector": {
   "cols": {
    "lenName": 16,
    "lenType": 16,
    "lenVar": 40
   },
   "kernels_config": {
    "python": {
     "delete_cmd_postfix": "",
     "delete_cmd_prefix": "del ",
     "library": "var_list.py",
     "varRefreshCmd": "print(var_dic_list())"
    },
    "r": {
     "delete_cmd_postfix": ") ",
     "delete_cmd_prefix": "rm(",
     "library": "var_list.r",
     "varRefreshCmd": "cat(var_dic_list()) "
    }
   },
   "types_to_exclude": [
    "module",
    "function",
    "builtin_function_or_method",
    "instance",
    "_Feature"
   ],
   "window_display": false
  }
 },
 "nbformat": 4,
 "nbformat_minor": 2
}
