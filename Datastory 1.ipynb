{
 "cells": [
  {
   "cell_type": "markdown",
   "metadata": {},
   "source": [
    "# Data Story 1\n",
    "## De invloed van brandstofprijzen en gemiddelde temperaturen op de verkoopprijs van voedsel in derde wereld landen.\n",
    "\n",
    "#### Door: Robert-Jan Korteschiel (10399143), Robert Houten (11075147), Sander Kohnstamm (10715363), Joost de Wildt (12173002)\n",
    "\n",
    "<img style=\"float: right; background: lightblue; width: 30%;\" src=\"WFP.png\">\n",
    "\n",
    "### Intro\n",
    "\n",
    "Onze dataset, the Global Foor Prices, is beschikbaar gesteld door the World Food Programme (WFP), de grootste humanitaire organisatie tegen wereld honger. De Global Food Prices Dataset is publiek online gezet door the Humanitairian Data Exchange, een initiatief van de United Nations. Deze dataset legt de focus op de prijzen in derde wereld landen, van handelsartikelen, waarvan met name voedsel.\n",
    "\n",
    "De invloed van het klimaat en van de brandstofprijzen lijken bijna intuitief. De gemiddelde temperatuur in een land beinvloed de productie en de brandstofprijs wordt doorberekend in de verkoopprijs. Deze correlatie is ook verder uiteengezet in de interactieve grafieken hieronder:\n"
   ]
  },
  {
   "cell_type": "markdown",
   "metadata": {},
   "source": [
    "Verder lijken de kaarten naast elkaar met de genormaliseerde verandering met het jaar ervoor op de z-as ook goed overeen te komen. Hieronder kan je door de jaren heen scrollen. Let goed op de landen die verschillen van hun buren. Komt dit overeen met elke kaart?"
   ]
  },
  {
   "cell_type": "code",
   "execution_count": 17,
   "metadata": {
    "ExecuteTime": {
     "end_time": "2019-06-21T09:32:31.042336Z",
     "start_time": "2019-06-21T09:32:31.038998Z"
    }
   },
   "outputs": [],
   "source": [
    "# plek voor 3 kaarten"
   ]
  },
  {
   "cell_type": "markdown",
   "metadata": {},
   "source": [
    "Toch valt er het een en ander op als je door de jaren heen loopt. Soms zijn er landen die volledig tegen de trend ingaan. De outliers. Scroll eens naar [OUTLLIER]. Wat valt hier op?\n",
    "\n",
    "[OUTLIER] lijkt niet beinvloed te worden door de globale trend en trekt zijn eigen lijn. Laten we hier wat dieper op in gaan. De plots hieronder geven de correlaties tussen tussen onze onderzoekspunten van individuele landen en jaren aan. "
   ]
  },
  {
   "cell_type": "code",
   "execution_count": 18,
   "metadata": {
    "ExecuteTime": {
     "end_time": "2019-06-21T09:32:32.214656Z",
     "start_time": "2019-06-21T09:32:32.211532Z"
    }
   },
   "outputs": [],
   "source": [
    "# Plek voor individuele 3 lijnen plot en correlatie plot"
   ]
  },
  {
   "cell_type": "markdown",
   "metadata": {},
   "source": [
    "Opgevallen is dus dat er een hele duidelijke globale trend is te zien. Hiermee zouden er makkelijk conclusies getrokken kunnen worden over alle landen in de dataset. Hier moet dus uitgekeken worden. Lang niet alle landen volgen deze trends. Er zijn meerdere voorbeelden van deze outliers. (kijk eens). Er kunnen met globale gemiddelden dus nooit individuele conclusies getrokken worden. "
   ]
  },
  {
   "cell_type": "code",
   "execution_count": null,
   "metadata": {},
   "outputs": [],
   "source": []
  },
  {
   "cell_type": "code",
   "execution_count": null,
   "metadata": {},
   "outputs": [],
   "source": []
  }
 ],
 "metadata": {
  "kernelspec": {
   "display_name": "Python 3",
   "language": "python",
   "name": "python3"
  },
  "language_info": {
   "codemirror_mode": {
    "name": "ipython",
    "version": 3
   },
   "file_extension": ".py",
   "mimetype": "text/x-python",
   "name": "python",
   "nbconvert_exporter": "python",
   "pygments_lexer": "ipython3",
   "version": "3.6.8"
  },
  "varInspector": {
   "cols": {
    "lenName": 16,
    "lenType": 16,
    "lenVar": 40
   },
   "kernels_config": {
    "python": {
     "delete_cmd_postfix": "",
     "delete_cmd_prefix": "del ",
     "library": "var_list.py",
     "varRefreshCmd": "print(var_dic_list())"
    },
    "r": {
     "delete_cmd_postfix": ") ",
     "delete_cmd_prefix": "rm(",
     "library": "var_list.r",
     "varRefreshCmd": "cat(var_dic_list()) "
    }
   },
   "types_to_exclude": [
    "module",
    "function",
    "builtin_function_or_method",
    "instance",
    "_Feature"
   ],
   "window_display": false
  }
 },
 "nbformat": 4,
 "nbformat_minor": 2
}
