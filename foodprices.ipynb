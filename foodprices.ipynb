{
 "cells": [
  {
   "cell_type": "markdown",
   "metadata": {
    "ExecuteTime": {
     "end_time": "2019-06-11T07:24:36.300122Z",
     "start_time": "2019-06-11T07:24:34.391962Z"
    }
   },
   "source": [
    "# Voedselprijzen in de derde wereld\n",
    "\n",
    "Robert-Jan Korteschiel (10399143)  \n",
    "Robert Houten  \n",
    "Sander Kohnstamm (10715363)  \n",
    "Joost de Wildt (12173002)  \n"
   ]
  },
  {
   "cell_type": "markdown",
   "metadata": {
    "ExecuteTime": {
     "end_time": "2019-06-11T07:54:53.108672Z",
     "start_time": "2019-06-11T07:54:53.097408Z"
    }
   },
   "source": [
    "## Vooronderzoek\n",
    "\n",
    "Dit is een dataset die wekelijks wordt geupdated over voedselprijzen. De auteur is het World Food Programme, een humanitaire organisatie die steeft naar het ideaal van \"zero hunger\". Daar baseren ze al hun werk al op data en hebben ook al goede dataviz draaien. Interessant is dat ze hier combineren met veel GIS informatie zoals administratieve grenzen, wegennetwerken en klimaatdata. \n",
    "\n",
    "<div style=\"display: flex; width: 100%; justify-content: space-around;\">\n",
    "    <div style=\"width: 45%\">\n",
    "        <img src=\"food_viz.png\" style=\"display: block; width: 100%; height: auto;\" alt=\"GIS visualisation\">\n",
    "    </div>\n",
    "    <div style=\"width: 45%\">\n",
    "        <img src=\"patterns.jpg\" style=\"display: block; width: 100%; height: auto;\" alt=\"Line visualisation\">\n",
    "    </div>\n",
    "</div>\n",
    "\n",
    "\n",
    "Er is dus al veel werk gedaan op de data, maar er mist ook veel informatie. Opvallend is dat economische en politieke gegevens missen in de analyse. Daarnaast bekijken ze de derde wereld echt per land en zien kijken ze bijna niet naar hoe deze problematiek grensoverstijgend is (of is dat wel zo?). Bovendien is het alles behalve een verhaal, dit is echt een visualisatie. Het is interessant of we delen kunnen namaken en tot een verhaal kunnen omvormen. \n",
    "\n",
    "[bron] https://data.humdata.org/dataset/wfp-food-prices  \n",
    "[algemene omschriving] https://docs.wfp.org/api/documents/WFP-0000040024/download/   \n",
    "[dierpere omschrijving] http://mvam.org/2018/11/20/getting-up-to-speed-wfp-food-data-on-hdx/  \n",
    "[snelle verkenning] https://dataviz.vam.wfp.org   \n",
    "[UN exchange rates] https://treasury.un.org/operationalrates/OperationalRates.php  \n"
   ]
  },
  {
   "cell_type": "markdown",
   "metadata": {},
   "source": [
    "## Invalshoeken\n",
    "\n",
    "1. Welke van de volgende gebeurtenissen heeft de grootste invloed op globale voedselprijzen?\n",
    "    - Temperatuur\n",
    "    - Brandstofprijs\n",
    "    - Dagloon  \n",
    "\n",
    "\n",
    "2. Vallen gebeurtenissen te herleiden uit voedselprijzen?\n",
    "\n"
   ]
  },
  {
   "cell_type": "markdown",
   "metadata": {},
   "source": [
    "# Food\n",
    "\n",
    "## Bootstrap"
   ]
  },
  {
   "cell_type": "code",
   "execution_count": 1,
   "metadata": {
    "ExecuteTime": {
     "end_time": "2019-06-17T19:20:30.708949Z",
     "start_time": "2019-06-17T19:20:27.975882Z"
    }
   },
   "outputs": [
    {
     "data": {
      "text/html": [
       "        <script type=\"text/javascript\">\n",
       "        window.PlotlyConfig = {MathJaxConfig: 'local'};\n",
       "        if (window.MathJax) {MathJax.Hub.Config({SVG: {font: \"STIX-Web\"}});}\n",
       "        if (typeof require !== 'undefined') {\n",
       "        require.undef(\"plotly\");\n",
       "        requirejs.config({\n",
       "            paths: {\n",
       "                'plotly': ['https://cdn.plot.ly/plotly-latest.min']\n",
       "            }\n",
       "        });\n",
       "        require(['plotly'], function(Plotly) {\n",
       "            window._Plotly = Plotly;\n",
       "        });\n",
       "        }\n",
       "        </script>\n",
       "        "
      ]
     },
     "metadata": {},
     "output_type": "display_data"
    }
   ],
   "source": [
    "import pandas as pd\n",
    "import numpy as np\n",
    "import plotly.graph_objs as go\n",
    "from plotly.offline import init_notebook_mode, iplot\n",
    "from sklearn import preprocessing\n",
    "from operator import itemgetter, attrgetter\n",
    "import ipywidgets as widgets\n",
    "from ipywidgets import interact, interact_manual\n",
    "from functools import partial\n",
    "import datetime\n",
    "\n",
    "init_notebook_mode(connected=True)\n",
    "\n",
    "pd.options.display.max_rows = 100\n",
    "pd.options.display.max_seq_items = 100"
   ]
  },
  {
   "cell_type": "markdown",
   "metadata": {},
   "source": [
    "## Inladen\n",
    "\n",
    "en laat de head() zien"
   ]
  },
  {
   "cell_type": "code",
   "execution_count": 2,
   "metadata": {
    "ExecuteTime": {
     "end_time": "2019-06-17T19:20:33.594686Z",
     "start_time": "2019-06-17T19:20:31.349009Z"
    }
   },
   "outputs": [
    {
     "data": {
      "text/html": [
       "<div>\n",
       "<style scoped>\n",
       "    .dataframe tbody tr th:only-of-type {\n",
       "        vertical-align: middle;\n",
       "    }\n",
       "\n",
       "    .dataframe tbody tr th {\n",
       "        vertical-align: top;\n",
       "    }\n",
       "\n",
       "    .dataframe thead th {\n",
       "        text-align: right;\n",
       "    }\n",
       "</style>\n",
       "<table border=\"1\" class=\"dataframe\">\n",
       "  <thead>\n",
       "    <tr style=\"text-align: right;\">\n",
       "      <th></th>\n",
       "      <th>adm0_id</th>\n",
       "      <th>adm0_name</th>\n",
       "      <th>adm1_id</th>\n",
       "      <th>adm1_name</th>\n",
       "      <th>mkt_id</th>\n",
       "      <th>mkt_name</th>\n",
       "      <th>cm_id</th>\n",
       "      <th>cm_name</th>\n",
       "      <th>cur_id</th>\n",
       "      <th>cur_name</th>\n",
       "      <th>pt_id</th>\n",
       "      <th>pt_name</th>\n",
       "      <th>um_id</th>\n",
       "      <th>um_name</th>\n",
       "      <th>mp_month</th>\n",
       "      <th>mp_year</th>\n",
       "      <th>mp_price</th>\n",
       "      <th>mp_commoditysource</th>\n",
       "    </tr>\n",
       "  </thead>\n",
       "  <tbody>\n",
       "    <tr>\n",
       "      <th>0</th>\n",
       "      <td>1.0</td>\n",
       "      <td>Afghanistan</td>\n",
       "      <td>272</td>\n",
       "      <td>Badakhshan</td>\n",
       "      <td>266</td>\n",
       "      <td>Fayzabad</td>\n",
       "      <td>55</td>\n",
       "      <td>Bread - Retail</td>\n",
       "      <td>0.0</td>\n",
       "      <td>AFN</td>\n",
       "      <td>15</td>\n",
       "      <td>Retail</td>\n",
       "      <td>5</td>\n",
       "      <td>KG</td>\n",
       "      <td>1</td>\n",
       "      <td>2014</td>\n",
       "      <td>50.0</td>\n",
       "      <td>NaN</td>\n",
       "    </tr>\n",
       "    <tr>\n",
       "      <th>1</th>\n",
       "      <td>1.0</td>\n",
       "      <td>Afghanistan</td>\n",
       "      <td>272</td>\n",
       "      <td>Badakhshan</td>\n",
       "      <td>266</td>\n",
       "      <td>Fayzabad</td>\n",
       "      <td>55</td>\n",
       "      <td>Bread - Retail</td>\n",
       "      <td>0.0</td>\n",
       "      <td>AFN</td>\n",
       "      <td>15</td>\n",
       "      <td>Retail</td>\n",
       "      <td>5</td>\n",
       "      <td>KG</td>\n",
       "      <td>2</td>\n",
       "      <td>2014</td>\n",
       "      <td>50.0</td>\n",
       "      <td>NaN</td>\n",
       "    </tr>\n",
       "    <tr>\n",
       "      <th>2</th>\n",
       "      <td>1.0</td>\n",
       "      <td>Afghanistan</td>\n",
       "      <td>272</td>\n",
       "      <td>Badakhshan</td>\n",
       "      <td>266</td>\n",
       "      <td>Fayzabad</td>\n",
       "      <td>55</td>\n",
       "      <td>Bread - Retail</td>\n",
       "      <td>0.0</td>\n",
       "      <td>AFN</td>\n",
       "      <td>15</td>\n",
       "      <td>Retail</td>\n",
       "      <td>5</td>\n",
       "      <td>KG</td>\n",
       "      <td>3</td>\n",
       "      <td>2014</td>\n",
       "      <td>50.0</td>\n",
       "      <td>NaN</td>\n",
       "    </tr>\n",
       "    <tr>\n",
       "      <th>3</th>\n",
       "      <td>1.0</td>\n",
       "      <td>Afghanistan</td>\n",
       "      <td>272</td>\n",
       "      <td>Badakhshan</td>\n",
       "      <td>266</td>\n",
       "      <td>Fayzabad</td>\n",
       "      <td>55</td>\n",
       "      <td>Bread - Retail</td>\n",
       "      <td>0.0</td>\n",
       "      <td>AFN</td>\n",
       "      <td>15</td>\n",
       "      <td>Retail</td>\n",
       "      <td>5</td>\n",
       "      <td>KG</td>\n",
       "      <td>4</td>\n",
       "      <td>2014</td>\n",
       "      <td>50.0</td>\n",
       "      <td>NaN</td>\n",
       "    </tr>\n",
       "    <tr>\n",
       "      <th>4</th>\n",
       "      <td>1.0</td>\n",
       "      <td>Afghanistan</td>\n",
       "      <td>272</td>\n",
       "      <td>Badakhshan</td>\n",
       "      <td>266</td>\n",
       "      <td>Fayzabad</td>\n",
       "      <td>55</td>\n",
       "      <td>Bread - Retail</td>\n",
       "      <td>0.0</td>\n",
       "      <td>AFN</td>\n",
       "      <td>15</td>\n",
       "      <td>Retail</td>\n",
       "      <td>5</td>\n",
       "      <td>KG</td>\n",
       "      <td>5</td>\n",
       "      <td>2014</td>\n",
       "      <td>50.0</td>\n",
       "      <td>NaN</td>\n",
       "    </tr>\n",
       "  </tbody>\n",
       "</table>\n",
       "</div>"
      ],
      "text/plain": [
       "   adm0_id    adm0_name  adm1_id   adm1_name  mkt_id  mkt_name  cm_id  \\\n",
       "0      1.0  Afghanistan      272  Badakhshan     266  Fayzabad     55   \n",
       "1      1.0  Afghanistan      272  Badakhshan     266  Fayzabad     55   \n",
       "2      1.0  Afghanistan      272  Badakhshan     266  Fayzabad     55   \n",
       "3      1.0  Afghanistan      272  Badakhshan     266  Fayzabad     55   \n",
       "4      1.0  Afghanistan      272  Badakhshan     266  Fayzabad     55   \n",
       "\n",
       "          cm_name  cur_id cur_name  pt_id pt_name  um_id um_name  mp_month  \\\n",
       "0  Bread - Retail     0.0      AFN     15  Retail      5      KG         1   \n",
       "1  Bread - Retail     0.0      AFN     15  Retail      5      KG         2   \n",
       "2  Bread - Retail     0.0      AFN     15  Retail      5      KG         3   \n",
       "3  Bread - Retail     0.0      AFN     15  Retail      5      KG         4   \n",
       "4  Bread - Retail     0.0      AFN     15  Retail      5      KG         5   \n",
       "\n",
       "   mp_year  mp_price  mp_commoditysource  \n",
       "0     2014      50.0                 NaN  \n",
       "1     2014      50.0                 NaN  \n",
       "2     2014      50.0                 NaN  \n",
       "3     2014      50.0                 NaN  \n",
       "4     2014      50.0                 NaN  "
      ]
     },
     "metadata": {},
     "output_type": "display_data"
    }
   ],
   "source": [
    "food_df = pd.read_csv(\"./food_data/food.csv\", low_memory=False)\n",
    "display(food_df.head())"
   ]
  },
  {
   "cell_type": "markdown",
   "metadata": {},
   "source": [
    "## Transformatie\n",
    "\n",
    "### Normalisatie\n",
    "\n",
    "Normalisatie functie voor verschillende groepen in de data. Ik vermoed dat je het beste binnen een land op commodity kan normaliseren. Doe je het op een andere plek dan worden minder waardevolle commodities binnen groepen minder belangrijk. Het is aannemelijk dat graan wholesale flink goedkoper is dan graan retail. Als je die in absolute nummers optelt dan domineert het verschil in de retailprijs.\n",
    "\n",
    "Je zou overigens nog een argument kunnen maken dat je eigenlijk op provincie of zelfs stadsniveau moet gaan normaliseren.\n"
   ]
  },
  {
   "cell_type": "code",
   "execution_count": 3,
   "metadata": {
    "ExecuteTime": {
     "end_time": "2019-06-17T19:20:42.203052Z",
     "start_time": "2019-06-17T19:20:34.950478Z"
    }
   },
   "outputs": [],
   "source": [
    "def normalize_group(key, group_df):\n",
    "    # bootstrap a new normalizer   \n",
    "    min_max_scaler = preprocessing.MinMaxScaler()\n",
    "    \n",
    "    # reshape the series to array so that the normalizer accepts it\n",
    "    to_normalize = group_df[key].values.reshape(-1, 1)\n",
    "    \n",
    "    # do the actual normalisation     \n",
    "    x_scaled = min_max_scaler.fit_transform(to_normalize)\n",
    "    \n",
    "    # undo some weird numpy nesting of arrays    \n",
    "    x_scaled = np.concatenate(x_scaled).ravel()\n",
    "    \n",
    "    # concatenate it to the group_df    \n",
    "    group_df[f\"{key}_norm\"] = x_scaled\n",
    "    \n",
    "    # trow the group out     \n",
    "    return group_df\n",
    "    \n",
    "food_norm_df = food_df.groupby(by=[\"adm0_name\", \"cm_name\"]).apply(partial(normalize_group, \"mp_price\"))"
   ]
  },
  {
   "cell_type": "markdown",
   "metadata": {
    "ExecuteTime": {
     "end_time": "2019-06-15T13:34:03.139433Z",
     "start_time": "2019-06-15T13:34:03.135172Z"
    }
   },
   "source": [
    "### Groeperen\n",
    "\n",
    "De vergelijkbaarheid per commodity per land echt heel laag, maar hele korte stukken data overlappen echt. Het WFP meet blijkbaar alleen als ze geinteresseerd zijn in iets, om de een of andere reden. Vervolgens redeneren we dat we al het voedsel samentrekken tot een enkele trend, dat moet de vergelijkbaarheid al aardig hoger maken. Voor onze onderzoeksvraag is het immers alleen interessant dat we veranderingen in voedselprijzen afzetten tegen brandstof, lonen en klimaat. Misschien dat we daarna gewoon een land kiezen met het meeste data, los van de vergelijkbaarheid, voor de andere onderzoeksvraag.\n",
    "\n",
    "Groepeert alle commodities op basis het het eerste woord in hun definitie. \n",
    "\n",
    "**LET OP! Hier zit een grote assumptie. Een jaar kan een waarde krijgen op een enkele meting**"
   ]
  },
  {
   "cell_type": "code",
   "execution_count": 4,
   "metadata": {
    "ExecuteTime": {
     "end_time": "2019-06-17T19:20:43.864001Z",
     "start_time": "2019-06-17T19:20:42.743812Z"
    },
    "scrolled": false
   },
   "outputs": [],
   "source": [
    "# groepeer de commodities met hun eerst woord\n",
    "pat = '^([\\w\\-]+)'\n",
    "selection = food_norm_df[\"cm_name\"].str.extract(pat, expand=False)\n",
    "grouped_commodity_df = food_norm_df.groupby(by=[\"adm0_name\", selection, \"mp_year\"])\n"
   ]
  },
  {
   "cell_type": "markdown",
   "metadata": {},
   "source": [
    "\n",
    "### Selecteren \n",
    "\n",
    "Verkenning en functies om te selecteren.\n",
    "\n",
    "Spoiler: De groep \"Rice\" heeft de meeste datapunten en 2016 is het jaar met de minste NaN's.\n"
   ]
  },
  {
   "cell_type": "markdown",
   "metadata": {},
   "source": [
    "#### Verkenning: Barchart\n",
    "\n",
    "Maar welke goederen zijn daadwerkelijk interessant? Totaal aantal records of jaren per land met data.\n",
    "\n",
    "**Dee laatste kwaliteit metriek gebruik ik in de rest van de selecties, met toevoeging van brandstof en wage**"
   ]
  },
  {
   "cell_type": "code",
   "execution_count": 5,
   "metadata": {
    "ExecuteTime": {
     "end_time": "2019-06-17T19:20:47.657366Z",
     "start_time": "2019-06-17T19:20:46.905000Z"
    },
    "scrolled": false
   },
   "outputs": [
    {
     "data": {
      "application/vnd.jupyter.widget-view+json": {
       "model_id": "d5f95407f10548309b242a91a2f2f746",
       "version_major": 2,
       "version_minor": 0
      },
      "text/plain": [
       "interactive(children=(Dropdown(description='barchart_type', options=('total records', 'per year, per country')…"
      ]
     },
     "metadata": {},
     "output_type": "display_data"
    }
   ],
   "source": [
    "\n",
    "def barchart_records():\n",
    "    # calculate\n",
    "    quality_count = grouped_commodity_df[\"mp_price\"].count().reset_index().groupby(by=\"cm_name\")[\"mp_price\"].sum().sort_values()\n",
    "\n",
    "    # truncate the long barchart\n",
    "    quality_count_trunc = quality_count[-20:]\n",
    "\n",
    "    # visualize\n",
    "    barchart_trace = go.Bar(y=quality_count_trunc.index, x=quality_count_trunc.values, orientation = 'h')\n",
    "\n",
    "    layout = go.Layout(\n",
    "        autosize=False,\n",
    "        width=800,\n",
    "        height= 200 + 20 * len(quality_count_trunc.index),\n",
    "        yaxis=dict(\n",
    "            showticklabels=True,\n",
    "            automargin=True\n",
    "        )\n",
    "    )\n",
    "\n",
    "    fig = go.Figure(data=[barchart_trace], layout=layout)\n",
    "    print(f\"Total sum of records: {quality_count.sum()} \" )\n",
    "    iplot(fig)\n",
    "\n",
    "def barchart_years():\n",
    "    quality_years = grouped_commodity_df[\"mp_price_norm\"].mean().reset_index().groupby(by=[\"cm_name\"])[\"mp_price_norm\"].count().sort_values()\n",
    "    quality_years_trunc = quality_years[-20:]\n",
    "\n",
    "    barchart_trace = go.Bar(y=quality_years_trunc.index, x=quality_years_trunc.values, orientation = 'h')\n",
    "\n",
    "    layout = go.Layout(\n",
    "        autosize=False,\n",
    "        width=800,\n",
    "        height= 200 + 20 * len(quality_years_trunc.index),\n",
    "        yaxis=dict(\n",
    "            showticklabels=True,\n",
    "            automargin=True\n",
    "        )\n",
    "    )\n",
    "\n",
    "    fig = go.Figure(data=[barchart_trace], layout=layout)\n",
    "    print(f\"Total sum of year with data: {quality_years.sum()} \" )\n",
    "    iplot(fig)\n",
    "\n",
    "def barswitcher(barchart_type):\n",
    "    if barchart_type == \"total records\":\n",
    "        barchart_records()\n",
    "    if barchart_type == \"per year, per country\":\n",
    "        barchart_years()\n",
    "\n",
    "interact(barswitcher, barchart_type=[\"total records\", \"per year, per country\"])\n",
    "\n",
    "# Doe de eerste tien en concatenate wage (fuel zit al in deze lijst)\n",
    "selectie = [*grouped_commodity_df[\"mp_price_norm\"].mean().reset_index().groupby(by=[\"cm_name\"])[\"mp_price_norm\"].count().sort_values(ascending=False)[:10].index, \"Wage\"]\n"
   ]
  },
  {
   "cell_type": "markdown",
   "metadata": {},
   "source": [
    "#### Verkenning: Heatmap\n",
    "\n",
    "Even een beetje verkenning om wat beter zicht op de data te krijgen. In deze visualisatie kun je goed zien waar het gewicht in de data zit. Hier zie je goed hoe een goed per land zit. De barcharts geven slecht totalen aan, hier zie je de daarwerkelijke verdeling.\n",
    "\n",
    "**TODO: Zelfde grafiek, maar dan met goederen regenover jaar (ipv. land)**"
   ]
  },
  {
   "cell_type": "code",
   "execution_count": 6,
   "metadata": {
    "ExecuteTime": {
     "end_time": "2019-06-17T19:20:49.792816Z",
     "start_time": "2019-06-17T19:20:49.540695Z"
    },
    "scrolled": false
   },
   "outputs": [
    {
     "data": {
      "application/vnd.jupyter.widget-view+json": {
       "model_id": "3eaabd28b1274e39bb019704c76c766c",
       "version_major": 2,
       "version_minor": 0
      },
      "text/plain": [
       "interactive(children=(Dropdown(description='commodity', options=('Rice', 'Maize', 'Oil', 'Wheat', 'Beans', 'Su…"
      ]
     },
     "metadata": {},
     "output_type": "display_data"
    },
    {
     "data": {
      "text/plain": [
       "<function __main__.heatmap_quality(commodity)>"
      ]
     },
     "execution_count": 6,
     "metadata": {},
     "output_type": "execute_result"
    }
   ],
   "source": [
    "def heatmap_quality(commodity):\n",
    "    quality = grouped_commodity_df[\"mp_price_norm\"].count().xs(commodity, level=1).unstack(level=1)\n",
    "    quality = quality.reindex(sorted(quality.columns), axis=1)\n",
    "    heatmap_trace = go.Heatmap(z = quality.values, x=quality.columns, y=quality.index, colorscale= 'Jet')\n",
    "\n",
    "    layout = go.Layout(\n",
    "        autosize=False,\n",
    "        width=800,\n",
    "        height= 100 + 20 * len(quality.index),\n",
    "        yaxis=dict(\n",
    "            showticklabels=True,\n",
    "            automargin=True\n",
    "        )\n",
    "    )\n",
    "\n",
    "    fig = go.Figure(data=[heatmap_trace], layout=layout)\n",
    "    print(f\"Total sum of measurements: {quality.sum().sum()} \" )\n",
    "    iplot(fig)\n",
    "\n",
    "interact(heatmap_quality, commodity=[*selectie, \"Fuel\", \"Wage\"])\n"
   ]
  },
  {
   "cell_type": "markdown",
   "metadata": {
    "ExecuteTime": {
     "end_time": "2019-06-17T15:09:03.651124Z",
     "start_time": "2019-06-17T15:09:03.646090Z"
    }
   },
   "source": [
    "#### Verkenning: Outliers scatterplots\n",
    "\n",
    "Ik gooi heel doodleuk .mean().diff() op de dataset. Klaar, paar transformaties ertussen en huppathee. Maar de mean is geen robuuste metriek van centraliteit. Even iets meer zicht krijgen op de lijnen die ik aan het reduceren ben tot een gemiddelde.\n",
    "\n",
    "Eerst even wat prep:"
   ]
  },
  {
   "cell_type": "code",
   "execution_count": 7,
   "metadata": {
    "ExecuteTime": {
     "end_time": "2019-06-17T19:20:52.821366Z",
     "start_time": "2019-06-17T19:20:51.838124Z"
    }
   },
   "outputs": [],
   "source": [
    "# Run the foodtype string reduction\n",
    "food_selected_df = food_norm_df.copy()\n",
    "food_selected_df[\"cm_name\"] = selection\n",
    "\n",
    "# Properly set datetime\n",
    "food_selected_df[\"year\"] = food_selected_df[\"mp_year\"]\n",
    "food_selected_df[\"month\"] = food_selected_df[\"mp_month\"]\n",
    "food_selected_df[\"day\"] = 1\n",
    "food_selected_df[\"dt\"] = pd.to_datetime(food_selected_df[['year', 'month', 'day']])\n"
   ]
  },
  {
   "cell_type": "markdown",
   "metadata": {},
   "source": [
    "Nu de magie"
   ]
  },
  {
   "cell_type": "code",
   "execution_count": 32,
   "metadata": {
    "ExecuteTime": {
     "end_time": "2019-06-17T20:12:50.436130Z",
     "start_time": "2019-06-17T20:12:49.866262Z"
    },
    "scrolled": false
   },
   "outputs": [
    {
     "data": {
      "application/vnd.jupyter.widget-view+json": {
       "model_id": "30af67042b9547648788757b1076513d",
       "version_major": 2,
       "version_minor": 0
      },
      "text/plain": [
       "interactive(children=(Dropdown(description='country', options=('Afghanistan', 'Algeria', 'Angola', 'Armenia', …"
      ]
     },
     "metadata": {},
     "output_type": "display_data"
    },
    {
     "data": {
      "text/plain": [
       "<function __main__.scatter_commodity_country(country, commodity)>"
      ]
     },
     "execution_count": 32,
     "metadata": {},
     "output_type": "execute_result"
    }
   ],
   "source": [
    "def scatter_commodity_country(country, commodity):\n",
    "    # select a country\n",
    "    country_food_points = food_selected_df[(food_selected_df[\"adm0_name\"] == country) & (food_selected_df[\"cm_name\"] == commodity)]\n",
    "\n",
    "    # make a scatter\n",
    "    scatter_trace = go.Scattergl(\n",
    "        x = country_food_points[\"dt\"],\n",
    "        y = country_food_points[\"mp_price\"],\n",
    "        mode = 'markers',\n",
    "        name = \"Meetpunten\",\n",
    "        marker = dict(\n",
    "            color = \"#2077b4\",\n",
    "            size = 4,\n",
    "            line = dict(\n",
    "                width = 0\n",
    "            )\n",
    "        )\n",
    "    )\n",
    "\n",
    "    # make a mean\n",
    "    county_food_mean = country_food_points.groupby(by=[country_food_points.dt.dt.year])[\"mp_price\"].mean()\n",
    "    line_trace = go.Scatter(\n",
    "        x = county_food_mean.index,\n",
    "        y = county_food_mean.values,\n",
    "        name = \"Mean\"\n",
    "    )\n",
    "    \n",
    "    # make a mean\n",
    "    county_food_median = country_food_points.groupby(by=[country_food_points.dt.dt.year])[\"mp_price\"].median()\n",
    "    median_trace = go.Scatter(\n",
    "        x = county_food_median.index,\n",
    "        y = county_food_median.values,\n",
    "        name = \"Mediaan\"\n",
    "    )\n",
    "\n",
    "    iplot([scatter_trace, median_trace, line_trace])\n",
    "    \n",
    "    # add some descriptives     \n",
    "    descriptives = country_food_points.groupby(by=[\"year\"])[\"mp_price\"].describe()\n",
    "    descriptives = descriptives.append(country_food_points[\"mp_price\"].describe().rename(\"Total\"))\n",
    "    display(descriptives)\n",
    "\n",
    "interact(scatter_commodity_country, country=food_selected_df[\"adm0_name\"].unique(), commodity=selectie)\n",
    "\n"
   ]
  },
  {
   "cell_type": "markdown",
   "metadata": {},
   "source": [
    "#### Verkenning: Graag alle patronen tegelijkertijd\n",
    "\n",
    "**WIP!! NIET AF!**\n",
    "\n",
    "Wat doen een mean over alle landen? Die we uiteindelijk nodig hebben om onze hypotheses te toetsen. Welke landen worden grof fout gerepresenteerd in de lijn? Grid met lijngrafieken met land en gemiddelde van alle landen.\n",
    "\n"
   ]
  },
  {
   "cell_type": "code",
   "execution_count": 9,
   "metadata": {
    "ExecuteTime": {
     "end_time": "2019-06-17T19:20:58.860530Z",
     "start_time": "2019-06-17T19:20:58.571369Z"
    }
   },
   "outputs": [
    {
     "data": {
      "application/vnd.jupyter.widget-view+json": {
       "model_id": "910345e53b9c425bb14bc7ce754ee5e9",
       "version_major": 2,
       "version_minor": 0
      },
      "text/plain": [
       "interactive(children=(Dropdown(description='country', options=('Afghanistan', 'Algeria', 'Angola', 'Armenia', …"
      ]
     },
     "metadata": {},
     "output_type": "display_data"
    },
    {
     "data": {
      "text/plain": [
       "<function __main__.scatter_commodity_country(country, commodity)>"
      ]
     },
     "execution_count": 9,
     "metadata": {},
     "output_type": "execute_result"
    }
   ],
   "source": [
    "def scatter_commodity_country(country, commodity):\n",
    "    # construct global mean WRONG!!!!!!!\n",
    "#     global_mean = food_selected_df[(food_selected_df[\"adm0_name\"] == country)][\"mp_price\"].groupby(by=[food_selected_df.dt.dt.year]).mean()\n",
    "#     display(global_mean)\n",
    "    \n",
    "    # select a country\n",
    "    country_food_points = food_selected_df[(food_selected_df[\"adm0_name\"] == country) & (food_selected_df[\"cm_name\"] == commodity)]\n",
    "    \n",
    "    # make a mean\n",
    "    county_food_mean = country_food_points.groupby(by=[country_food_points.dt.dt.year])[\"mp_price\"].mean()\n",
    "    county_mean_trace = go.Scatter(\n",
    "        x = county_food_mean.index,\n",
    "        y = county_food_mean.values,\n",
    "        name = \"Mean\"\n",
    "    )\n",
    "    \n",
    "    # global mean    \n",
    "    \n",
    "    iplot([county_mean_trace])\n",
    "\n",
    "interact(scatter_commodity_country, country=food_selected_df[\"adm0_name\"].unique(), commodity=selectie)\n"
   ]
  },
  {
   "cell_type": "markdown",
   "metadata": {
    "ExecuteTime": {
     "end_time": "2019-06-17T15:07:41.694738Z",
     "start_time": "2019-06-17T15:07:41.690078Z"
    }
   },
   "source": [
    "### Reduceren\n",
    "\n",
    "Het gemiddelde berekenen en het verschil per jaar. "
   ]
  },
  {
   "cell_type": "code",
   "execution_count": 10,
   "metadata": {
    "ExecuteTime": {
     "end_time": "2019-06-17T19:21:01.664270Z",
     "start_time": "2019-06-17T19:21:01.631453Z"
    }
   },
   "outputs": [
    {
     "data": {
      "text/html": [
       "<div>\n",
       "<style scoped>\n",
       "    .dataframe tbody tr th:only-of-type {\n",
       "        vertical-align: middle;\n",
       "    }\n",
       "\n",
       "    .dataframe tbody tr th {\n",
       "        vertical-align: top;\n",
       "    }\n",
       "\n",
       "    .dataframe thead th {\n",
       "        text-align: right;\n",
       "    }\n",
       "</style>\n",
       "<table border=\"1\" class=\"dataframe\">\n",
       "  <thead>\n",
       "    <tr style=\"text-align: right;\">\n",
       "      <th></th>\n",
       "      <th>mp_year</th>\n",
       "      <th>1992</th>\n",
       "      <th>1993</th>\n",
       "      <th>1994</th>\n",
       "      <th>1995</th>\n",
       "      <th>1996</th>\n",
       "      <th>1997</th>\n",
       "      <th>1998</th>\n",
       "      <th>1999</th>\n",
       "      <th>2000</th>\n",
       "      <th>2001</th>\n",
       "      <th>...</th>\n",
       "      <th>2010</th>\n",
       "      <th>2011</th>\n",
       "      <th>2012</th>\n",
       "      <th>2013</th>\n",
       "      <th>2014</th>\n",
       "      <th>2015</th>\n",
       "      <th>2016</th>\n",
       "      <th>2017</th>\n",
       "      <th>2018</th>\n",
       "      <th>2019</th>\n",
       "    </tr>\n",
       "    <tr>\n",
       "      <th>adm0_name</th>\n",
       "      <th>cm_name</th>\n",
       "      <th></th>\n",
       "      <th></th>\n",
       "      <th></th>\n",
       "      <th></th>\n",
       "      <th></th>\n",
       "      <th></th>\n",
       "      <th></th>\n",
       "      <th></th>\n",
       "      <th></th>\n",
       "      <th></th>\n",
       "      <th></th>\n",
       "      <th></th>\n",
       "      <th></th>\n",
       "      <th></th>\n",
       "      <th></th>\n",
       "      <th></th>\n",
       "      <th></th>\n",
       "      <th></th>\n",
       "      <th></th>\n",
       "      <th></th>\n",
       "      <th></th>\n",
       "    </tr>\n",
       "  </thead>\n",
       "  <tbody>\n",
       "    <tr>\n",
       "      <th rowspan=\"5\" valign=\"top\">Afghanistan</th>\n",
       "      <th>Bread</th>\n",
       "      <td>NaN</td>\n",
       "      <td>NaN</td>\n",
       "      <td>NaN</td>\n",
       "      <td>NaN</td>\n",
       "      <td>NaN</td>\n",
       "      <td>NaN</td>\n",
       "      <td>NaN</td>\n",
       "      <td>NaN</td>\n",
       "      <td>NaN</td>\n",
       "      <td>NaN</td>\n",
       "      <td>...</td>\n",
       "      <td>NaN</td>\n",
       "      <td>NaN</td>\n",
       "      <td>NaN</td>\n",
       "      <td>NaN</td>\n",
       "      <td>NaN</td>\n",
       "      <td>0.055021</td>\n",
       "      <td>-0.007271</td>\n",
       "      <td>-0.006384</td>\n",
       "      <td>-0.004228</td>\n",
       "      <td>0.000900</td>\n",
       "    </tr>\n",
       "    <tr>\n",
       "      <th>Exchange</th>\n",
       "      <td>NaN</td>\n",
       "      <td>NaN</td>\n",
       "      <td>NaN</td>\n",
       "      <td>NaN</td>\n",
       "      <td>NaN</td>\n",
       "      <td>NaN</td>\n",
       "      <td>NaN</td>\n",
       "      <td>NaN</td>\n",
       "      <td>NaN</td>\n",
       "      <td>NaN</td>\n",
       "      <td>...</td>\n",
       "      <td>NaN</td>\n",
       "      <td>NaN</td>\n",
       "      <td>NaN</td>\n",
       "      <td>NaN</td>\n",
       "      <td>NaN</td>\n",
       "      <td>0.178623</td>\n",
       "      <td>0.301038</td>\n",
       "      <td>0.014753</td>\n",
       "      <td>0.200153</td>\n",
       "      <td>0.154888</td>\n",
       "    </tr>\n",
       "    <tr>\n",
       "      <th>Fuel</th>\n",
       "      <td>NaN</td>\n",
       "      <td>NaN</td>\n",
       "      <td>NaN</td>\n",
       "      <td>NaN</td>\n",
       "      <td>NaN</td>\n",
       "      <td>NaN</td>\n",
       "      <td>NaN</td>\n",
       "      <td>NaN</td>\n",
       "      <td>NaN</td>\n",
       "      <td>-0.007045</td>\n",
       "      <td>...</td>\n",
       "      <td>NaN</td>\n",
       "      <td>NaN</td>\n",
       "      <td>NaN</td>\n",
       "      <td>NaN</td>\n",
       "      <td>NaN</td>\n",
       "      <td>-0.000093</td>\n",
       "      <td>-0.000046</td>\n",
       "      <td>0.000044</td>\n",
       "      <td>0.000035</td>\n",
       "      <td>0.000014</td>\n",
       "    </tr>\n",
       "    <tr>\n",
       "      <th>Livestock</th>\n",
       "      <td>NaN</td>\n",
       "      <td>NaN</td>\n",
       "      <td>NaN</td>\n",
       "      <td>NaN</td>\n",
       "      <td>NaN</td>\n",
       "      <td>NaN</td>\n",
       "      <td>NaN</td>\n",
       "      <td>NaN</td>\n",
       "      <td>NaN</td>\n",
       "      <td>0.135611</td>\n",
       "      <td>...</td>\n",
       "      <td>NaN</td>\n",
       "      <td>NaN</td>\n",
       "      <td>NaN</td>\n",
       "      <td>NaN</td>\n",
       "      <td>NaN</td>\n",
       "      <td>NaN</td>\n",
       "      <td>NaN</td>\n",
       "      <td>NaN</td>\n",
       "      <td>NaN</td>\n",
       "      <td>NaN</td>\n",
       "    </tr>\n",
       "    <tr>\n",
       "      <th>Rice</th>\n",
       "      <td>NaN</td>\n",
       "      <td>NaN</td>\n",
       "      <td>NaN</td>\n",
       "      <td>NaN</td>\n",
       "      <td>NaN</td>\n",
       "      <td>NaN</td>\n",
       "      <td>NaN</td>\n",
       "      <td>NaN</td>\n",
       "      <td>NaN</td>\n",
       "      <td>NaN</td>\n",
       "      <td>...</td>\n",
       "      <td>-0.041588</td>\n",
       "      <td>0.015685</td>\n",
       "      <td>0.072097</td>\n",
       "      <td>0.123801</td>\n",
       "      <td>-0.054074</td>\n",
       "      <td>-0.047844</td>\n",
       "      <td>0.025185</td>\n",
       "      <td>0.038895</td>\n",
       "      <td>0.025792</td>\n",
       "      <td>-0.002980</td>\n",
       "    </tr>\n",
       "  </tbody>\n",
       "</table>\n",
       "<p>5 rows × 28 columns</p>\n",
       "</div>"
      ],
      "text/plain": [
       "mp_year                1992  1993  1994  1995  1996  1997  1998  1999  2000  \\\n",
       "adm0_name   cm_name                                                           \n",
       "Afghanistan Bread       NaN   NaN   NaN   NaN   NaN   NaN   NaN   NaN   NaN   \n",
       "            Exchange    NaN   NaN   NaN   NaN   NaN   NaN   NaN   NaN   NaN   \n",
       "            Fuel        NaN   NaN   NaN   NaN   NaN   NaN   NaN   NaN   NaN   \n",
       "            Livestock   NaN   NaN   NaN   NaN   NaN   NaN   NaN   NaN   NaN   \n",
       "            Rice        NaN   NaN   NaN   NaN   NaN   NaN   NaN   NaN   NaN   \n",
       "\n",
       "mp_year                    2001  ...      2010      2011      2012      2013  \\\n",
       "adm0_name   cm_name              ...                                           \n",
       "Afghanistan Bread           NaN  ...       NaN       NaN       NaN       NaN   \n",
       "            Exchange        NaN  ...       NaN       NaN       NaN       NaN   \n",
       "            Fuel      -0.007045  ...       NaN       NaN       NaN       NaN   \n",
       "            Livestock  0.135611  ...       NaN       NaN       NaN       NaN   \n",
       "            Rice            NaN  ... -0.041588  0.015685  0.072097  0.123801   \n",
       "\n",
       "mp_year                    2014      2015      2016      2017      2018  \\\n",
       "adm0_name   cm_name                                                       \n",
       "Afghanistan Bread           NaN  0.055021 -0.007271 -0.006384 -0.004228   \n",
       "            Exchange        NaN  0.178623  0.301038  0.014753  0.200153   \n",
       "            Fuel            NaN -0.000093 -0.000046  0.000044  0.000035   \n",
       "            Livestock       NaN       NaN       NaN       NaN       NaN   \n",
       "            Rice      -0.054074 -0.047844  0.025185  0.038895  0.025792   \n",
       "\n",
       "mp_year                    2019  \n",
       "adm0_name   cm_name              \n",
       "Afghanistan Bread      0.000900  \n",
       "            Exchange   0.154888  \n",
       "            Fuel       0.000014  \n",
       "            Livestock       NaN  \n",
       "            Rice      -0.002980  \n",
       "\n",
       "[5 rows x 28 columns]"
      ]
     },
     "execution_count": 10,
     "metadata": {},
     "output_type": "execute_result"
    }
   ],
   "source": [
    "# bereken het gemiddelde per jaar en vergelijk dat met het vorige jaar\n",
    "grouped_commodity_mean_df = grouped_commodity_df[\"mp_price_norm\"].mean()\n",
    "\n",
    "# unstack zodat het verschil per jaar berekend kan worden\n",
    "grouped_commodity_diff_df = grouped_commodity_mean_df.unstack(level=2).diff(axis=1)\n",
    "grouped_commodity_diff_df.head()"
   ]
  },
  {
   "cell_type": "markdown",
   "metadata": {},
   "source": [
    "## Utility\n",
    "\n",
    "Even voor het gemak"
   ]
  },
  {
   "cell_type": "code",
   "execution_count": 11,
   "metadata": {
    "ExecuteTime": {
     "end_time": "2019-06-17T19:21:04.266276Z",
     "start_time": "2019-06-17T19:21:04.261637Z"
    }
   },
   "outputs": [],
   "source": [
    "# Utility om selecteren makkelijker te maken\n",
    "def select_commodity(commodity, year):\n",
    "    return grouped_commodity_diff_df.xs(commodity, level=1, drop_level=True)[year]"
   ]
  },
  {
   "cell_type": "markdown",
   "metadata": {},
   "source": [
    "## Visualisatie: Map\n",
    "\n",
    "Okee, een kaart met interactiviteit. Vond de Iphyton docs eigenlijk fijner.\n",
    "\n",
    "[interactieve plots] https://towardsdatascience.com/interactive-controls-for-jupyter-notebooks-f5c94829aee6  \n",
    "[iphython widget docs] https://ipywidgets.readthedocs.io/en/stable/examples/Using%20Interact.html\n",
    "\n",
    "### Food change maps"
   ]
  },
  {
   "cell_type": "code",
   "execution_count": 12,
   "metadata": {
    "ExecuteTime": {
     "end_time": "2019-06-17T19:21:07.141918Z",
     "start_time": "2019-06-17T19:21:06.971726Z"
    },
    "scrolled": false
   },
   "outputs": [
    {
     "data": {
      "application/vnd.jupyter.widget-view+json": {
       "model_id": "c401c62fcfcd44c4a814604cc07cd884",
       "version_major": 2,
       "version_minor": 0
      },
      "text/plain": [
       "interactive(children=(Dropdown(description='commodity', options=('Rice', 'Maize', 'Oil', 'Wheat', 'Beans', 'Su…"
      ]
     },
     "metadata": {},
     "output_type": "display_data"
    },
    {
     "data": {
      "text/plain": [
       "<function __main__.map_graph(commodity=['Rice', 'Maize', 'Oil', 'Wheat', 'Beans', 'Sugar', 'Sorghum', 'Meat', 'Millet', 'Fuel', 'Wage'], year=(2007, 2019, 1))>"
      ]
     },
     "execution_count": 12,
     "metadata": {},
     "output_type": "execute_result"
    }
   ],
   "source": [
    "def map_graph(commodity=selectie, year=(2007, 2019, 1)):\n",
    "    # Plot the mean price, of all commodities on map, of all years.\n",
    "    series = select_commodity(commodity, year)\n",
    "    map_data = [go.Choropleth(\n",
    "        locations = series.index,\n",
    "        locationmode = \"country names\",\n",
    "        z = series.values,\n",
    "    )]\n",
    "\n",
    "    fig = go.Figure(data = map_data)\n",
    "    iplot(fig)\n",
    "    \n",
    "interact(map_graph, commodity=selectie, year=(2007, 2019, 1))\n"
   ]
  },
  {
   "cell_type": "markdown",
   "metadata": {},
   "source": [
    "## Controle\n",
    "\n",
    "Om te controleren of de dataset correct is moeten we natuurlijk even een test draaien. Ik heb globale voedselprijzen even als benchmark genomen. Daar ligt waarschijnlijk een sterke correlatie, zeker voor gebieden die niet direct in conflict zijn.\n",
    "\n",
    "[imf commodity prices data] https://www.imf.org/en/Research/commodity-prices  \n",
    "[interessante analyse voedsel] https://ourworldindata.org/food-prices  \n",
    "[interessante statistische analyse van commodities] https://www.imf.org/~/media/Files/Research/CommodityPrices/WEOSpecialFeature/SFApril2019.ashx  \n",
    "\n",
    "\n"
   ]
  },
  {
   "cell_type": "code",
   "execution_count": 13,
   "metadata": {
    "ExecuteTime": {
     "end_time": "2019-06-17T19:21:10.398867Z",
     "start_time": "2019-06-17T19:21:10.137898Z"
    }
   },
   "outputs": [
    {
     "data": {
      "application/vnd.jupyter.widget-view+json": {
       "model_id": "859ed8bc28aa43eab391b60969b4b00e",
       "version_major": 2,
       "version_minor": 0
      },
      "text/plain": [
       "interactive(children=(Dropdown(description='food', options=('Rice', 'Wheat', 'Sugar'), value='Rice'), Output()…"
      ]
     },
     "metadata": {},
     "output_type": "display_data"
    },
    {
     "data": {
      "text/plain": [
       "<function __main__.line_graph(food)>"
      ]
     },
     "execution_count": 13,
     "metadata": {},
     "output_type": "execute_result"
    }
   ],
   "source": [
    "# selecteer rijst en bereken het gemiddelde\n",
    "commodity_imf_df = pd.read_csv(\"./commodity_imf_proper.csv\", dtype=float, decimal=\",\")\n",
    "commodity_imf_df = commodity_imf_df.set_index('Year')\n",
    "\n",
    "def normalize_series(series):\n",
    "    # bootstrap a new normalizer   \n",
    "    min_max_scaler = preprocessing.MinMaxScaler()\n",
    "    \n",
    "    # reshape the series to array so that the normalizer accepts it\n",
    "    to_normalize = series.values.reshape(-1, 1)\n",
    "    \n",
    "    # do the actual normalisation     \n",
    "    x_scaled = min_max_scaler.fit_transform(to_normalize)\n",
    "\n",
    "    # undo some weird numpy nesting of arrays    \n",
    "    x_scaled = np.concatenate(x_scaled).ravel()\n",
    "    \n",
    "    # trow the series     \n",
    "    return pd.Series(x_scaled, index = series.index)\n",
    "\n",
    "def line_graph(food):\n",
    "    # create an average of all countries    \n",
    "    test = grouped_commodity_diff_df.xs(food, level=1, drop_level=False).mean()\n",
    "    \n",
    "    # use the IMF data to compute a nomalized and diffed line too    \n",
    "    control = normalize_series(commodity_imf_df[food]).diff()\n",
    "    \n",
    "    test_trace = go.Scatter(\n",
    "        name = \"WFP\",\n",
    "        x = test.index,\n",
    "        y = test.values\n",
    "    )\n",
    "    \n",
    "    control_trace = go.Scatter(\n",
    "        name = \"IMF\",\n",
    "        x = control.index[-25:],\n",
    "        y = control.values[-25:]\n",
    "    )\n",
    "    \n",
    "    iplot([test_trace, control_trace], filename='basic-line')\n",
    "\n",
    "interact(line_graph, food=[\"Rice\", \"Wheat\", \"Sugar\"])\n",
    "\n"
   ]
  },
  {
   "cell_type": "markdown",
   "metadata": {},
   "source": [
    "## Resultaat\n",
    "\n",
    "Er lijkt wel iets van een correlatie te zijn, maar er zitten ook rare verschillen tussen. Metname de pieken zijn veel hoger. Maar duidelijk is dat 2008 een grote impact heeft gehad. Ik denk dat we nog even goed moeten kijken naar hoe we normaliseren. Het is best mogelijk om hiermee te spelen lijkt het, maar wat verantwoord is twijfel ik aan."
   ]
  },
  {
   "cell_type": "markdown",
   "metadata": {},
   "source": [
    "# Klimaat\n",
    "\n",
    "Nu eens kijken of het samenhangt met klimaat. Ik heb het gevoel dat hier enige correlatie vinden hier moeilijk gaat worden.\n",
    "\n",
    "## Load data"
   ]
  },
  {
   "cell_type": "code",
   "execution_count": 14,
   "metadata": {
    "ExecuteTime": {
     "end_time": "2019-06-17T19:21:13.986991Z",
     "start_time": "2019-06-17T19:21:13.620126Z"
    }
   },
   "outputs": [
    {
     "data": {
      "text/html": [
       "<div>\n",
       "<style scoped>\n",
       "    .dataframe tbody tr th:only-of-type {\n",
       "        vertical-align: middle;\n",
       "    }\n",
       "\n",
       "    .dataframe tbody tr th {\n",
       "        vertical-align: top;\n",
       "    }\n",
       "\n",
       "    .dataframe thead th {\n",
       "        text-align: right;\n",
       "    }\n",
       "</style>\n",
       "<table border=\"1\" class=\"dataframe\">\n",
       "  <thead>\n",
       "    <tr style=\"text-align: right;\">\n",
       "      <th></th>\n",
       "      <th>dt</th>\n",
       "      <th>AverageTemperature</th>\n",
       "      <th>AverageTemperatureUncertainty</th>\n",
       "      <th>Country</th>\n",
       "    </tr>\n",
       "  </thead>\n",
       "  <tbody>\n",
       "    <tr>\n",
       "      <th>0</th>\n",
       "      <td>1743-11-01</td>\n",
       "      <td>4.384</td>\n",
       "      <td>2.294</td>\n",
       "      <td>Åland</td>\n",
       "    </tr>\n",
       "    <tr>\n",
       "      <th>1</th>\n",
       "      <td>1743-12-01</td>\n",
       "      <td>NaN</td>\n",
       "      <td>NaN</td>\n",
       "      <td>Åland</td>\n",
       "    </tr>\n",
       "    <tr>\n",
       "      <th>2</th>\n",
       "      <td>1744-01-01</td>\n",
       "      <td>NaN</td>\n",
       "      <td>NaN</td>\n",
       "      <td>Åland</td>\n",
       "    </tr>\n",
       "    <tr>\n",
       "      <th>3</th>\n",
       "      <td>1744-02-01</td>\n",
       "      <td>NaN</td>\n",
       "      <td>NaN</td>\n",
       "      <td>Åland</td>\n",
       "    </tr>\n",
       "    <tr>\n",
       "      <th>4</th>\n",
       "      <td>1744-03-01</td>\n",
       "      <td>NaN</td>\n",
       "      <td>NaN</td>\n",
       "      <td>Åland</td>\n",
       "    </tr>\n",
       "  </tbody>\n",
       "</table>\n",
       "</div>"
      ],
      "text/plain": [
       "           dt  AverageTemperature  AverageTemperatureUncertainty Country\n",
       "0  1743-11-01               4.384                          2.294   Åland\n",
       "1  1743-12-01                 NaN                            NaN   Åland\n",
       "2  1744-01-01                 NaN                            NaN   Åland\n",
       "3  1744-02-01                 NaN                            NaN   Åland\n",
       "4  1744-03-01                 NaN                            NaN   Åland"
      ]
     },
     "metadata": {},
     "output_type": "display_data"
    }
   ],
   "source": [
    "\n",
    "climate_df = pd.read_csv(\"./climate_data/GlobalLandTemperaturesByCountry.csv\", low_memory=False)\n",
    "display(climate_df.head())\n"
   ]
  },
  {
   "cell_type": "markdown",
   "metadata": {},
   "source": [
    "## Type and normalize\n",
    "\n",
    "Here we go again.\n",
    "\n",
    "1. Type the datetime\n",
    "2. Normalize\n",
    "3. Create year averages\n",
    "4. Diff those averages to have something comparable\n",
    "\n",
    "This is just a tad different data though. It's cumulative data, its not the same as money. And the effects are much longer term. Doesn't make sense."
   ]
  },
  {
   "cell_type": "code",
   "execution_count": 15,
   "metadata": {
    "ExecuteTime": {
     "end_time": "2019-06-17T19:21:17.909856Z",
     "start_time": "2019-06-17T19:21:16.952387Z"
    }
   },
   "outputs": [
    {
     "name": "stderr",
     "output_type": "stream",
     "text": [
      "/Users/Robert-Jan/anaconda3/lib/python3.6/site-packages/sklearn/preprocessing/data.py:355: RuntimeWarning:\n",
      "\n",
      "All-NaN slice encountered\n",
      "\n",
      "/Users/Robert-Jan/anaconda3/lib/python3.6/site-packages/sklearn/preprocessing/data.py:356: RuntimeWarning:\n",
      "\n",
      "All-NaN slice encountered\n",
      "\n"
     ]
    }
   ],
   "source": [
    "# type properly\n",
    "climate_df_typed = climate_df.copy()\n",
    "climate_df_typed['dt'] = climate_df_typed['dt'].astype('datetime64[ns]')\n",
    "\n",
    "# apply the normalize function (with a partial for the key)\n",
    "climate_norm_df = climate_df_typed.groupby(by=[\"Country\"]).apply(partial(normalize_group, \"AverageTemperature\"))\n"
   ]
  },
  {
   "cell_type": "markdown",
   "metadata": {},
   "source": [
    "## Transform and select"
   ]
  },
  {
   "cell_type": "code",
   "execution_count": 16,
   "metadata": {
    "ExecuteTime": {
     "end_time": "2019-06-17T19:21:21.272665Z",
     "start_time": "2019-06-17T19:21:20.918523Z"
    }
   },
   "outputs": [],
   "source": [
    "# calulate the mean for the year\n",
    "climate_mean_df = climate_norm_df.groupby(by=[\"Country\", climate_norm_df[\"dt\"].dt.year]).mean()\n",
    "climate_mean_df.reset_index(inplace=True)\n",
    "\n",
    "# quick function with assignment\n",
    "def diff_temp(group_df):\n",
    "    group_df[\"AverageTemperature_diff\"] = group_df[\"AverageTemperature_norm\"].diff()\n",
    "    return group_df\n",
    "\n",
    "# apply the difference function\n",
    "climate_tran_df = climate_mean_df.groupby(by=[\"Country\"]).apply(diff_temp).set_index([\"Country\", \"dt\"])\n",
    "\n",
    "# quick selection function\n",
    "def select_year(year):\n",
    "    return climate_tran_df.xs(year, level=1, drop_level=False)"
   ]
  },
  {
   "cell_type": "markdown",
   "metadata": {},
   "source": [
    "## Map: Tempratuur verschil met vorig jaar\n",
    "\n",
    "Spreekt voor zich, maar of het interessant is is de tweede vraag."
   ]
  },
  {
   "cell_type": "code",
   "execution_count": 17,
   "metadata": {
    "ExecuteTime": {
     "end_time": "2019-06-17T19:21:24.482609Z",
     "start_time": "2019-06-17T19:21:24.341594Z"
    }
   },
   "outputs": [
    {
     "data": {
      "application/vnd.jupyter.widget-view+json": {
       "model_id": "dca55d22b0734826a246bacea0598ac1",
       "version_major": 2,
       "version_minor": 0
      },
      "text/plain": [
       "interactive(children=(IntSlider(value=2010, description='year', max=2013, min=2007), Output()), _dom_classes=(…"
      ]
     },
     "metadata": {},
     "output_type": "display_data"
    },
    {
     "data": {
      "text/plain": [
       "<function __main__.map_climate(year)>"
      ]
     },
     "execution_count": 17,
     "metadata": {},
     "output_type": "execute_result"
    }
   ],
   "source": [
    "def map_climate(year):\n",
    "    year_data = select_year(year)\n",
    "    map_data = [go.Choropleth(\n",
    "            locations = year_data.index.get_level_values(0),\n",
    "            locationmode = \"country names\",\n",
    "            z = year_data[\"AverageTemperature_diff\"].values,\n",
    "        )]\n",
    "\n",
    "    fig = go.Figure(data = map_data)\n",
    "    iplot(fig)\n",
    "    \n",
    "interact(map_climate, year=(2007, 2013, 1))\n",
    "\n",
    "\n"
   ]
  },
  {
   "cell_type": "markdown",
   "metadata": {},
   "source": [
    "# Events\n",
    "\n",
    "Okee, wat moet ik hiervoor doen. Querys schrijven naar Google Big Query. Cool, eens kijken hoe dat werkt.\n",
    "\n",
    "[GDELT database] https://www.gdeltproject.org/  \n",
    "[forecasting op voedseldata] https://dataviz.vam.wfp.org/economic_explorer/price-forecasts-alerts  \n",
    "[redelijke uitleg GDELT] http://data.gdeltproject.org/documentation/GDELT-Event_Codebook-V2.0.pdf  \n",
    "[Uitleg gebruikte codes] https://www.gdeltproject.org/data/documentation/CAMEO.Manual.1.1b3.pdf  "
   ]
  },
  {
   "cell_type": "markdown",
   "metadata": {
    "ExecuteTime": {
     "end_time": "2019-06-15T09:19:24.837795Z",
     "start_time": "2019-06-15T09:19:24.827976Z"
    }
   },
   "source": [
    "## Download data\n",
    "\n",
    "Er is een Python client voor bigquery. Het is best simpel eigenlijk.\n",
    "\n",
    "1. De clientlib installeren\n",
    "2. Credentials file exporten in je shell (ik heb het aan mijn ~/.bash_profile toegevoegd en die gesourced, werkt perfect - MAC/Linux-only helaas)\n",
    "2. Draai de sample query\n",
    "3. Doe dingen met het dataframe\n",
    "\n",
    "[setup credentials] https://cloud.google.com/bigquery/docs/reference/libraries#client-libraries-install-python  \n",
    "[database description] https://bigquery.cloud.google.com/table/gdelt-bq:gdeltv2.events?pli=1  \n",
    "[API reference] https://googleapis.github.io/google-cloud-python/latest/bigquery/index.html"
   ]
  },
  {
   "cell_type": "code",
   "execution_count": 18,
   "metadata": {
    "ExecuteTime": {
     "end_time": "2019-06-17T19:21:30.727766Z",
     "start_time": "2019-06-17T19:21:27.595807Z"
    }
   },
   "outputs": [],
   "source": [
    "from google.cloud import bigquery\n",
    "client = bigquery.Client()\n",
    "\n",
    "# write a good query to the right table (lookup the database stuffz)\n",
    "query = (\n",
    "    \"SELECT V2Themes FROM `gdelt-bq.gdeltv2.gkg` WHERE DATE>20150302000000 and DATE < 20150304000000 and V2Persons like '%Netanyahu%' LIMIT 10;\"\n",
    ")\n",
    "\n",
    "# create the query\n",
    "query_job = client.query(\n",
    "    query,\n",
    "    location=\"US\",\n",
    ")\n",
    "\n",
    "# run the query and turn the result to a dataframe\n",
    "result = query_job.result().to_dataframe()"
   ]
  },
  {
   "cell_type": "markdown",
   "metadata": {},
   "source": [
    "## Query\n",
    "\n",
    "Wat moet het kunnen?\n",
    "\n",
    "Het moet sentiment en count per land per jaar of maand geven.\n"
   ]
  },
  {
   "cell_type": "code",
   "execution_count": 19,
   "metadata": {
    "ExecuteTime": {
     "end_time": "2019-06-17T19:21:33.894440Z",
     "start_time": "2019-06-17T19:21:33.884711Z"
    }
   },
   "outputs": [
    {
     "data": {
      "text/html": [
       "<div>\n",
       "<style scoped>\n",
       "    .dataframe tbody tr th:only-of-type {\n",
       "        vertical-align: middle;\n",
       "    }\n",
       "\n",
       "    .dataframe tbody tr th {\n",
       "        vertical-align: top;\n",
       "    }\n",
       "\n",
       "    .dataframe thead th {\n",
       "        text-align: right;\n",
       "    }\n",
       "</style>\n",
       "<table border=\"1\" class=\"dataframe\">\n",
       "  <thead>\n",
       "    <tr style=\"text-align: right;\">\n",
       "      <th></th>\n",
       "      <th>V2Themes</th>\n",
       "    </tr>\n",
       "  </thead>\n",
       "  <tbody>\n",
       "    <tr>\n",
       "      <th>0</th>\n",
       "      <td>MEDIA_MSM,1684;NEGOTIATIONS,1052;TAX_FNCACT_PR...</td>\n",
       "    </tr>\n",
       "    <tr>\n",
       "      <th>1</th>\n",
       "      <td>TERROR,2041;WB_2467_TERRORISM,2041;WB_2433_CON...</td>\n",
       "    </tr>\n",
       "    <tr>\n",
       "      <th>2</th>\n",
       "      <td>TAX_FNCACT_CANDIDATES,98;TAX_FNCACT_CANDIDATES...</td>\n",
       "    </tr>\n",
       "    <tr>\n",
       "      <th>3</th>\n",
       "      <td>TAX_FNCACT_PRIME_MINISTER,97;TAX_WEAPONS_BOMB,...</td>\n",
       "    </tr>\n",
       "    <tr>\n",
       "      <th>4</th>\n",
       "      <td>WB_2467_TERRORISM,2545;WB_2467_TERRORISM,3264;...</td>\n",
       "    </tr>\n",
       "    <tr>\n",
       "      <th>5</th>\n",
       "      <td>TAX_MILITARY_TITLE_LIEUTENANT_COLONEL,2144;TAX...</td>\n",
       "    </tr>\n",
       "    <tr>\n",
       "      <th>6</th>\n",
       "      <td>TAX_POLITICAL_PARTY_REPUBLICANS,1255;TAX_FNCAC...</td>\n",
       "    </tr>\n",
       "    <tr>\n",
       "      <th>7</th>\n",
       "      <td>MEDIA_MSM,4115;MILITARY_COOPERATION,2665;TAX_F...</td>\n",
       "    </tr>\n",
       "    <tr>\n",
       "      <th>8</th>\n",
       "      <td>TAX_FNCACT_INSPECTORS,786;TAX_RELIGION_ISLAM,4...</td>\n",
       "    </tr>\n",
       "    <tr>\n",
       "      <th>9</th>\n",
       "      <td>LEADER,27;LEADER,507;TAX_FNCACT_MINISTER,27;TA...</td>\n",
       "    </tr>\n",
       "  </tbody>\n",
       "</table>\n",
       "</div>"
      ],
      "text/plain": [
       "                                            V2Themes\n",
       "0  MEDIA_MSM,1684;NEGOTIATIONS,1052;TAX_FNCACT_PR...\n",
       "1  TERROR,2041;WB_2467_TERRORISM,2041;WB_2433_CON...\n",
       "2  TAX_FNCACT_CANDIDATES,98;TAX_FNCACT_CANDIDATES...\n",
       "3  TAX_FNCACT_PRIME_MINISTER,97;TAX_WEAPONS_BOMB,...\n",
       "4  WB_2467_TERRORISM,2545;WB_2467_TERRORISM,3264;...\n",
       "5  TAX_MILITARY_TITLE_LIEUTENANT_COLONEL,2144;TAX...\n",
       "6  TAX_POLITICAL_PARTY_REPUBLICANS,1255;TAX_FNCAC...\n",
       "7  MEDIA_MSM,4115;MILITARY_COOPERATION,2665;TAX_F...\n",
       "8  TAX_FNCACT_INSPECTORS,786;TAX_RELIGION_ISLAM,4...\n",
       "9  LEADER,27;LEADER,507;TAX_FNCACT_MINISTER,27;TA..."
      ]
     },
     "metadata": {},
     "output_type": "display_data"
    }
   ],
   "source": [
    "display(result)"
   ]
  },
  {
   "cell_type": "markdown",
   "metadata": {},
   "source": [
    "# Todo\n",
    "\n",
    "## Food\n",
    "\n",
    "### EDA\n",
    "1. [x] Statistisch even wat beter naar de distributies van punten op de lijnen kijken (distributie gridplot?). Ik draai redelijk vaak mean() en dat is geen robuuste waarde. Outlier detectie heb ik er absoluut nog niet opzitten.\n",
    "2. Gridplot van de goederen per land / per jaar maken om een diachroon perspectief te krijgen\n",
    "\n",
    "### Datakwaliteit\n",
    "3. [x] Giantische crosstabulatie heatmap maken van de datakwaliteit (en die verkleinen)\n",
    "4. [x] Simpelere (bar)plot met hoeveelheid metingen per goed of land\n",
    "\n",
    "## Klimaat\n",
    "\n",
    "### EDA\n",
    "1. Dit is het zwakke van klimaat, ik heb eigenlijk nog geen goed overzicht van distributes en ander inzicht in de kwaliteit van die set. \n",
    "2. Iets van diachronaal perspectief op deze set, om uberhaubt te checken dat het geen nagenoeg rechte lijn van 1990-2013 is. \n",
    "\n",
    "\n",
    "## Events\n",
    "\n",
    "### Opzetten\n",
    "\n",
    "#### Gemiddelden checken \n",
    "1. Goede query opstellen. Dit wordt eigenlijk de grote crux. In principe moeten we BigQuery al het werk laten doen hier. Het resultaat dat we willen hebben is niet zo heel erg gedetailleerd. \n",
    "2. Transformeren naar een vergelijkbaar dataframe. \n",
    "3. Plotten in lijn en kaart\n",
    "\n",
    "#### Individuele events checken\n",
    "4. Eventdetectie in de food dataset\n",
    "5. Event en food events tegen elkaar afzetten\n",
    "\n",
    "### EDA\n",
    "6. Alles\n",
    "\n",
    "### Kwaliteit\n",
    "7. Wat de data precies beschrijven en wat de bronnen zijn twijfel ik ook nog aan. Het is regelrecht gigantisch en het is een academisch project. Maar dit is wel een extreem complexe set, met veel artikelen over hoe het gecodeerd is. (denk Goldstein sentiment en counts.. van wat precies?)\n",
    "\n",
    "\n",
    "## Correlaties\n",
    "1. Proberen goederen te clusteren tot een enkele lijn per land / wereld\n",
    "2. Visuele EDA op de correlaties\n",
    "3. Correlaties van die lijn inferentieel onderzoeken en tot een coefficient omzetten voor uiteindelijke conclusie.\n",
    "    - Nadenken over welke assumpties daar ook al weer voor golden en welke tests dus aan voldaan moet zijn.\n",
    "\n",
    "\n",
    "\n",
    "\n"
   ]
  },
  {
   "cell_type": "code",
   "execution_count": null,
   "metadata": {},
   "outputs": [],
   "source": []
  }
 ],
 "metadata": {
  "kernelspec": {
   "display_name": "Python 3",
   "language": "python",
   "name": "python3"
  },
  "language_info": {
   "codemirror_mode": {
    "name": "ipython",
    "version": 3
   },
   "file_extension": ".py",
   "mimetype": "text/x-python",
   "name": "python",
   "nbconvert_exporter": "python",
   "pygments_lexer": "ipython3",
   "version": "3.6.8"
  },
  "varInspector": {
   "cols": {
    "lenName": 16,
    "lenType": 16,
    "lenVar": 40
   },
   "kernels_config": {
    "python": {
     "delete_cmd_postfix": "",
     "delete_cmd_prefix": "del ",
     "library": "var_list.py",
     "varRefreshCmd": "print(var_dic_list())"
    },
    "r": {
     "delete_cmd_postfix": ") ",
     "delete_cmd_prefix": "rm(",
     "library": "var_list.r",
     "varRefreshCmd": "cat(var_dic_list()) "
    }
   },
   "types_to_exclude": [
    "module",
    "function",
    "builtin_function_or_method",
    "instance",
    "_Feature"
   ],
   "window_display": false
  }
 },
 "nbformat": 4,
 "nbformat_minor": 2
}
