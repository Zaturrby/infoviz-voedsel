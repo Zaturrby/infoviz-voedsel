{
 "cells": [
  {
   "cell_type": "markdown",
   "metadata": {
    "ExecuteTime": {
     "end_time": "2019-06-11T07:24:36.300122Z",
     "start_time": "2019-06-11T07:24:34.391962Z"
    }
   },
   "source": [
    "# Voedselprijzen in de derde wereld\n",
    "\n",
    "Robert-Jan Korteschiel (10399143)  \n",
    "Robert Houten  \n",
    "Sander Kohnstamm (10715363)  \n",
    "Joost de Wildt (12173002)  \n"
   ]
  },
  {
   "cell_type": "markdown",
   "metadata": {
    "ExecuteTime": {
     "end_time": "2019-06-11T07:54:53.108672Z",
     "start_time": "2019-06-11T07:54:53.097408Z"
    }
   },
   "source": [
    "## Vooronderzoek\n",
    "\n",
    "Dit is een dataset die wekelijks wordt geupdated over voedselprijzen. De auteur is het World Food Programme, een humanitaire organisatie die steeft naar het ideaal van \"zero hunger\". Daar baseren ze al hun werk al op data en hebben ook al goede dataviz draaien. Interessant is dat ze hier combineren met veel GIS informatie zoals administratieve grenzen, wegennetwerken en klimaatdata. \n",
    "\n",
    "<div style=\"display: flex; width: 100%; justify-content: space-around;\">\n",
    "    <div style=\"width: 45%\">\n",
    "        <img src=\"food_viz.png\" style=\"display: block; width: 100%; height: auto;\" alt=\"GIS visualisation\">\n",
    "    </div>\n",
    "    <div style=\"width: 45%\">\n",
    "        <img src=\"patterns.jpg\" style=\"display: block; width: 100%; height: auto;\" alt=\"Line visualisation\">\n",
    "    </div>\n",
    "</div>\n",
    "\n",
    "\n",
    "Er is dus al veel werk gedaan op de data, maar er mist ook veel informatie. Opvallend is dat economische en politieke gegevens missen in de analyse. Daarnaast bekijken ze de derde wereld echt per land en zien kijken ze bijna niet naar hoe deze problematiek grensoverstijgend is (of is dat wel zo?). Bovendien is het alles behalve een verhaal, dit is echt een visualisatie. Het is interessant of we delen kunnen namaken en tot een verhaal kunnen omvormen. "
   ]
  },
  {
   "cell_type": "markdown",
   "metadata": {},
   "source": [
    "## Invalshoeken\n",
    "\n",
    "1. Welke van de volgende gebeurtenissen heeft de grootste invloed op globale voedselprijzen?\n",
    "    - Temperatuur\n",
    "    - Brandstofprijs\n",
    "    - Dagloon  \n",
    "\n",
    "\n",
    "2. Vallen gebeurtenissen te herleiden uit voedselprijzen?\n",
    "\n"
   ]
  },
  {
   "cell_type": "markdown",
   "metadata": {},
   "source": [
    "# Food\n",
    "\n",
    "## Bootstrap"
   ]
  },
  {
   "cell_type": "code",
   "execution_count": 87,
   "metadata": {
    "ExecuteTime": {
     "end_time": "2019-06-16T16:25:49.939511Z",
     "start_time": "2019-06-16T16:25:49.929859Z"
    }
   },
   "outputs": [
    {
     "data": {
      "text/html": [
       "        <script type=\"text/javascript\">\n",
       "        window.PlotlyConfig = {MathJaxConfig: 'local'};\n",
       "        if (window.MathJax) {MathJax.Hub.Config({SVG: {font: \"STIX-Web\"}});}\n",
       "        if (typeof require !== 'undefined') {\n",
       "        require.undef(\"plotly\");\n",
       "        requirejs.config({\n",
       "            paths: {\n",
       "                'plotly': ['https://cdn.plot.ly/plotly-latest.min']\n",
       "            }\n",
       "        });\n",
       "        require(['plotly'], function(Plotly) {\n",
       "            window._Plotly = Plotly;\n",
       "        });\n",
       "        }\n",
       "        </script>\n",
       "        "
      ]
     },
     "metadata": {},
     "output_type": "display_data"
    }
   ],
   "source": [
    "import pandas as pd\n",
    "import numpy as np\n",
    "import plotly.graph_objs as go\n",
    "from plotly.offline import init_notebook_mode, iplot\n",
    "from sklearn import preprocessing\n",
    "from operator import itemgetter, attrgetter\n",
    "import ipywidgets as widgets\n",
    "from ipywidgets import interact, interact_manual\n",
    "from functools import partial\n",
    "\n",
    "init_notebook_mode(connected=True)\n",
    "\n",
    "pd.options.display.max_rows = 100\n",
    "pd.options.display.max_seq_items = 100"
   ]
  },
  {
   "cell_type": "markdown",
   "metadata": {},
   "source": [
    "## Inladen\n",
    "\n",
    "en laat de head() zien"
   ]
  },
  {
   "cell_type": "code",
   "execution_count": 109,
   "metadata": {
    "ExecuteTime": {
     "end_time": "2019-06-16T16:37:34.163952Z",
     "start_time": "2019-06-16T16:37:31.749745Z"
    }
   },
   "outputs": [
    {
     "data": {
      "text/html": [
       "<div>\n",
       "<style scoped>\n",
       "    .dataframe tbody tr th:only-of-type {\n",
       "        vertical-align: middle;\n",
       "    }\n",
       "\n",
       "    .dataframe tbody tr th {\n",
       "        vertical-align: top;\n",
       "    }\n",
       "\n",
       "    .dataframe thead th {\n",
       "        text-align: right;\n",
       "    }\n",
       "</style>\n",
       "<table border=\"1\" class=\"dataframe\">\n",
       "  <thead>\n",
       "    <tr style=\"text-align: right;\">\n",
       "      <th></th>\n",
       "      <th>adm0_id</th>\n",
       "      <th>adm0_name</th>\n",
       "      <th>adm1_id</th>\n",
       "      <th>adm1_name</th>\n",
       "      <th>mkt_id</th>\n",
       "      <th>mkt_name</th>\n",
       "      <th>cm_id</th>\n",
       "      <th>cm_name</th>\n",
       "      <th>cur_id</th>\n",
       "      <th>cur_name</th>\n",
       "      <th>pt_id</th>\n",
       "      <th>pt_name</th>\n",
       "      <th>um_id</th>\n",
       "      <th>um_name</th>\n",
       "      <th>mp_month</th>\n",
       "      <th>mp_year</th>\n",
       "      <th>mp_price</th>\n",
       "      <th>mp_commoditysource</th>\n",
       "    </tr>\n",
       "  </thead>\n",
       "  <tbody>\n",
       "    <tr>\n",
       "      <th>0</th>\n",
       "      <td>1.0</td>\n",
       "      <td>Afghanistan</td>\n",
       "      <td>272</td>\n",
       "      <td>Badakhshan</td>\n",
       "      <td>266</td>\n",
       "      <td>Fayzabad</td>\n",
       "      <td>55</td>\n",
       "      <td>Bread - Retail</td>\n",
       "      <td>0.0</td>\n",
       "      <td>AFN</td>\n",
       "      <td>15</td>\n",
       "      <td>Retail</td>\n",
       "      <td>5</td>\n",
       "      <td>KG</td>\n",
       "      <td>1</td>\n",
       "      <td>2014</td>\n",
       "      <td>50.0</td>\n",
       "      <td>NaN</td>\n",
       "    </tr>\n",
       "    <tr>\n",
       "      <th>1</th>\n",
       "      <td>1.0</td>\n",
       "      <td>Afghanistan</td>\n",
       "      <td>272</td>\n",
       "      <td>Badakhshan</td>\n",
       "      <td>266</td>\n",
       "      <td>Fayzabad</td>\n",
       "      <td>55</td>\n",
       "      <td>Bread - Retail</td>\n",
       "      <td>0.0</td>\n",
       "      <td>AFN</td>\n",
       "      <td>15</td>\n",
       "      <td>Retail</td>\n",
       "      <td>5</td>\n",
       "      <td>KG</td>\n",
       "      <td>2</td>\n",
       "      <td>2014</td>\n",
       "      <td>50.0</td>\n",
       "      <td>NaN</td>\n",
       "    </tr>\n",
       "    <tr>\n",
       "      <th>2</th>\n",
       "      <td>1.0</td>\n",
       "      <td>Afghanistan</td>\n",
       "      <td>272</td>\n",
       "      <td>Badakhshan</td>\n",
       "      <td>266</td>\n",
       "      <td>Fayzabad</td>\n",
       "      <td>55</td>\n",
       "      <td>Bread - Retail</td>\n",
       "      <td>0.0</td>\n",
       "      <td>AFN</td>\n",
       "      <td>15</td>\n",
       "      <td>Retail</td>\n",
       "      <td>5</td>\n",
       "      <td>KG</td>\n",
       "      <td>3</td>\n",
       "      <td>2014</td>\n",
       "      <td>50.0</td>\n",
       "      <td>NaN</td>\n",
       "    </tr>\n",
       "    <tr>\n",
       "      <th>3</th>\n",
       "      <td>1.0</td>\n",
       "      <td>Afghanistan</td>\n",
       "      <td>272</td>\n",
       "      <td>Badakhshan</td>\n",
       "      <td>266</td>\n",
       "      <td>Fayzabad</td>\n",
       "      <td>55</td>\n",
       "      <td>Bread - Retail</td>\n",
       "      <td>0.0</td>\n",
       "      <td>AFN</td>\n",
       "      <td>15</td>\n",
       "      <td>Retail</td>\n",
       "      <td>5</td>\n",
       "      <td>KG</td>\n",
       "      <td>4</td>\n",
       "      <td>2014</td>\n",
       "      <td>50.0</td>\n",
       "      <td>NaN</td>\n",
       "    </tr>\n",
       "    <tr>\n",
       "      <th>4</th>\n",
       "      <td>1.0</td>\n",
       "      <td>Afghanistan</td>\n",
       "      <td>272</td>\n",
       "      <td>Badakhshan</td>\n",
       "      <td>266</td>\n",
       "      <td>Fayzabad</td>\n",
       "      <td>55</td>\n",
       "      <td>Bread - Retail</td>\n",
       "      <td>0.0</td>\n",
       "      <td>AFN</td>\n",
       "      <td>15</td>\n",
       "      <td>Retail</td>\n",
       "      <td>5</td>\n",
       "      <td>KG</td>\n",
       "      <td>5</td>\n",
       "      <td>2014</td>\n",
       "      <td>50.0</td>\n",
       "      <td>NaN</td>\n",
       "    </tr>\n",
       "  </tbody>\n",
       "</table>\n",
       "</div>"
      ],
      "text/plain": [
       "   adm0_id    adm0_name  adm1_id   adm1_name  mkt_id  mkt_name  cm_id  \\\n",
       "0      1.0  Afghanistan      272  Badakhshan     266  Fayzabad     55   \n",
       "1      1.0  Afghanistan      272  Badakhshan     266  Fayzabad     55   \n",
       "2      1.0  Afghanistan      272  Badakhshan     266  Fayzabad     55   \n",
       "3      1.0  Afghanistan      272  Badakhshan     266  Fayzabad     55   \n",
       "4      1.0  Afghanistan      272  Badakhshan     266  Fayzabad     55   \n",
       "\n",
       "          cm_name  cur_id cur_name  pt_id pt_name  um_id um_name  mp_month  \\\n",
       "0  Bread - Retail     0.0      AFN     15  Retail      5      KG         1   \n",
       "1  Bread - Retail     0.0      AFN     15  Retail      5      KG         2   \n",
       "2  Bread - Retail     0.0      AFN     15  Retail      5      KG         3   \n",
       "3  Bread - Retail     0.0      AFN     15  Retail      5      KG         4   \n",
       "4  Bread - Retail     0.0      AFN     15  Retail      5      KG         5   \n",
       "\n",
       "   mp_year  mp_price  mp_commoditysource  \n",
       "0     2014      50.0                 NaN  \n",
       "1     2014      50.0                 NaN  \n",
       "2     2014      50.0                 NaN  \n",
       "3     2014      50.0                 NaN  \n",
       "4     2014      50.0                 NaN  "
      ]
     },
     "metadata": {},
     "output_type": "display_data"
    }
   ],
   "source": [
    "food_df = pd.read_csv(\"./food_data/food.csv\", low_memory=False)\n",
    "display(food_df.head())"
   ]
  },
  {
   "cell_type": "markdown",
   "metadata": {},
   "source": [
    "## Transform\n",
    "\n",
    "### Normalisatie\n",
    "\n",
    "Normalisatie functie voor verschillende groepen in de data. Ik vermoed dat je het beste binnen een land op commodity kan normaliseren. Doe je het op een andere plek dan worden minder waardevolle commodities binnen groepen minder belangrijk. Het is aannemelijk dat graan wholesale flink goedkoper is dan graan retail. Als je die in absolute nummers optelt dan domineert het verschil in de retailprijs.\n",
    "\n",
    "Je zou overigens nog een argument kunnen maken dat je eigenlijk op provincie of zelfs stadsniveau moet gaan normaliseren.\n"
   ]
  },
  {
   "cell_type": "code",
   "execution_count": 89,
   "metadata": {
    "ExecuteTime": {
     "end_time": "2019-06-16T16:26:51.512317Z",
     "start_time": "2019-06-16T16:26:43.518356Z"
    }
   },
   "outputs": [],
   "source": [
    "def normalize_group(key, group_df):\n",
    "    # bootstrap a new normalizer   \n",
    "    min_max_scaler = preprocessing.MinMaxScaler()\n",
    "    \n",
    "    # reshape the series to array so that the normalizer accepts it\n",
    "    to_normalize = group_df[key].values.reshape(-1, 1)\n",
    "    \n",
    "    # do the actual normalisation     \n",
    "    x_scaled = min_max_scaler.fit_transform(to_normalize)\n",
    "    \n",
    "    # undo some weird numpy nesting of arrays    \n",
    "    x_scaled = np.concatenate(x_scaled).ravel()\n",
    "    \n",
    "    # concatenate it to the group_df    \n",
    "    group_df[f\"{key}_norm\"] = x_scaled\n",
    "    \n",
    "    # trow the group out     \n",
    "    return group_df\n",
    "    \n",
    "food_norm_df = food_df.groupby(by=[\"adm0_name\", \"cm_name\"]).apply(partial(normalize_group, \"mp_price\"))"
   ]
  },
  {
   "cell_type": "markdown",
   "metadata": {
    "ExecuteTime": {
     "end_time": "2019-06-15T13:34:03.139433Z",
     "start_time": "2019-06-15T13:34:03.135172Z"
    }
   },
   "source": [
    "### Groeperen en verwerken\n",
    "\n",
    "De vergelijkbaarheid per commodity per land echt heel laag, maar hele korte stukken data overlappen echt. Het WFP meet blijkbaar alleen als ze geinteresseerd zijn in iets, om de een of andere reden. Vervolgens redeneren we dat we al het voedsel samentrekken tot een enkele trend, dat moet de vergelijkbaarheid al aardig hoger maken. Voor onze onderzoeksvraag is het immers alleen interessant dat we veranderingen in voedselprijzen afzetten tegen brandstof, lonen en klimaat. Misschien dat we daarna gewoon een land kiezen met het meeste data, los van de vergelijkbaarheid, voor de andere onderzoeksvraag.\n",
    "\n",
    "\n",
    "Groepeert alle commodities op basis het het eerste woord in hun definitie. Daarna berekent hij het gemiddelde en het verschil per jaar. \n",
    "\n",
    "**LET OP! Hier zit een grote assumptie. Een jaar kan een waarde krijgen op een enkele meting**"
   ]
  },
  {
   "cell_type": "code",
   "execution_count": 118,
   "metadata": {
    "ExecuteTime": {
     "end_time": "2019-06-16T16:42:20.721665Z",
     "start_time": "2019-06-16T16:42:19.366550Z"
    },
    "scrolled": false
   },
   "outputs": [
    {
     "data": {
      "text/html": [
       "<div>\n",
       "<style scoped>\n",
       "    .dataframe tbody tr th:only-of-type {\n",
       "        vertical-align: middle;\n",
       "    }\n",
       "\n",
       "    .dataframe tbody tr th {\n",
       "        vertical-align: top;\n",
       "    }\n",
       "\n",
       "    .dataframe thead th {\n",
       "        text-align: right;\n",
       "    }\n",
       "</style>\n",
       "<table border=\"1\" class=\"dataframe\">\n",
       "  <thead>\n",
       "    <tr style=\"text-align: right;\">\n",
       "      <th></th>\n",
       "      <th>mp_year</th>\n",
       "      <th>1992</th>\n",
       "      <th>1993</th>\n",
       "      <th>1994</th>\n",
       "      <th>1995</th>\n",
       "      <th>1996</th>\n",
       "      <th>1997</th>\n",
       "      <th>1998</th>\n",
       "      <th>1999</th>\n",
       "      <th>2000</th>\n",
       "      <th>2001</th>\n",
       "      <th>...</th>\n",
       "      <th>2010</th>\n",
       "      <th>2011</th>\n",
       "      <th>2012</th>\n",
       "      <th>2013</th>\n",
       "      <th>2014</th>\n",
       "      <th>2015</th>\n",
       "      <th>2016</th>\n",
       "      <th>2017</th>\n",
       "      <th>2018</th>\n",
       "      <th>2019</th>\n",
       "    </tr>\n",
       "    <tr>\n",
       "      <th>adm0_name</th>\n",
       "      <th>cm_name</th>\n",
       "      <th></th>\n",
       "      <th></th>\n",
       "      <th></th>\n",
       "      <th></th>\n",
       "      <th></th>\n",
       "      <th></th>\n",
       "      <th></th>\n",
       "      <th></th>\n",
       "      <th></th>\n",
       "      <th></th>\n",
       "      <th></th>\n",
       "      <th></th>\n",
       "      <th></th>\n",
       "      <th></th>\n",
       "      <th></th>\n",
       "      <th></th>\n",
       "      <th></th>\n",
       "      <th></th>\n",
       "      <th></th>\n",
       "      <th></th>\n",
       "      <th></th>\n",
       "    </tr>\n",
       "  </thead>\n",
       "  <tbody>\n",
       "    <tr>\n",
       "      <th rowspan=\"5\" valign=\"top\">Afghanistan</th>\n",
       "      <th>Bread</th>\n",
       "      <td>NaN</td>\n",
       "      <td>NaN</td>\n",
       "      <td>NaN</td>\n",
       "      <td>NaN</td>\n",
       "      <td>NaN</td>\n",
       "      <td>NaN</td>\n",
       "      <td>NaN</td>\n",
       "      <td>NaN</td>\n",
       "      <td>NaN</td>\n",
       "      <td>NaN</td>\n",
       "      <td>...</td>\n",
       "      <td>NaN</td>\n",
       "      <td>NaN</td>\n",
       "      <td>NaN</td>\n",
       "      <td>NaN</td>\n",
       "      <td>NaN</td>\n",
       "      <td>0.055021</td>\n",
       "      <td>-0.007271</td>\n",
       "      <td>-0.006384</td>\n",
       "      <td>-0.004228</td>\n",
       "      <td>0.000900</td>\n",
       "    </tr>\n",
       "    <tr>\n",
       "      <th>Exchange</th>\n",
       "      <td>NaN</td>\n",
       "      <td>NaN</td>\n",
       "      <td>NaN</td>\n",
       "      <td>NaN</td>\n",
       "      <td>NaN</td>\n",
       "      <td>NaN</td>\n",
       "      <td>NaN</td>\n",
       "      <td>NaN</td>\n",
       "      <td>NaN</td>\n",
       "      <td>NaN</td>\n",
       "      <td>...</td>\n",
       "      <td>NaN</td>\n",
       "      <td>NaN</td>\n",
       "      <td>NaN</td>\n",
       "      <td>NaN</td>\n",
       "      <td>NaN</td>\n",
       "      <td>0.178623</td>\n",
       "      <td>0.301038</td>\n",
       "      <td>0.014753</td>\n",
       "      <td>0.200153</td>\n",
       "      <td>0.154888</td>\n",
       "    </tr>\n",
       "    <tr>\n",
       "      <th>Fuel</th>\n",
       "      <td>NaN</td>\n",
       "      <td>NaN</td>\n",
       "      <td>NaN</td>\n",
       "      <td>NaN</td>\n",
       "      <td>NaN</td>\n",
       "      <td>NaN</td>\n",
       "      <td>NaN</td>\n",
       "      <td>NaN</td>\n",
       "      <td>NaN</td>\n",
       "      <td>-0.007045</td>\n",
       "      <td>...</td>\n",
       "      <td>NaN</td>\n",
       "      <td>NaN</td>\n",
       "      <td>NaN</td>\n",
       "      <td>NaN</td>\n",
       "      <td>NaN</td>\n",
       "      <td>-0.000093</td>\n",
       "      <td>-0.000046</td>\n",
       "      <td>0.000044</td>\n",
       "      <td>0.000035</td>\n",
       "      <td>0.000014</td>\n",
       "    </tr>\n",
       "    <tr>\n",
       "      <th>Livestock</th>\n",
       "      <td>NaN</td>\n",
       "      <td>NaN</td>\n",
       "      <td>NaN</td>\n",
       "      <td>NaN</td>\n",
       "      <td>NaN</td>\n",
       "      <td>NaN</td>\n",
       "      <td>NaN</td>\n",
       "      <td>NaN</td>\n",
       "      <td>NaN</td>\n",
       "      <td>0.135611</td>\n",
       "      <td>...</td>\n",
       "      <td>NaN</td>\n",
       "      <td>NaN</td>\n",
       "      <td>NaN</td>\n",
       "      <td>NaN</td>\n",
       "      <td>NaN</td>\n",
       "      <td>NaN</td>\n",
       "      <td>NaN</td>\n",
       "      <td>NaN</td>\n",
       "      <td>NaN</td>\n",
       "      <td>NaN</td>\n",
       "    </tr>\n",
       "    <tr>\n",
       "      <th>Rice</th>\n",
       "      <td>NaN</td>\n",
       "      <td>NaN</td>\n",
       "      <td>NaN</td>\n",
       "      <td>NaN</td>\n",
       "      <td>NaN</td>\n",
       "      <td>NaN</td>\n",
       "      <td>NaN</td>\n",
       "      <td>NaN</td>\n",
       "      <td>NaN</td>\n",
       "      <td>NaN</td>\n",
       "      <td>...</td>\n",
       "      <td>-0.041588</td>\n",
       "      <td>0.015685</td>\n",
       "      <td>0.072097</td>\n",
       "      <td>0.123801</td>\n",
       "      <td>-0.054074</td>\n",
       "      <td>-0.047844</td>\n",
       "      <td>0.025185</td>\n",
       "      <td>0.038895</td>\n",
       "      <td>0.025792</td>\n",
       "      <td>-0.002980</td>\n",
       "    </tr>\n",
       "  </tbody>\n",
       "</table>\n",
       "<p>5 rows × 28 columns</p>\n",
       "</div>"
      ],
      "text/plain": [
       "mp_year                1992  1993  1994  1995  1996  1997  1998  1999  2000  \\\n",
       "adm0_name   cm_name                                                           \n",
       "Afghanistan Bread       NaN   NaN   NaN   NaN   NaN   NaN   NaN   NaN   NaN   \n",
       "            Exchange    NaN   NaN   NaN   NaN   NaN   NaN   NaN   NaN   NaN   \n",
       "            Fuel        NaN   NaN   NaN   NaN   NaN   NaN   NaN   NaN   NaN   \n",
       "            Livestock   NaN   NaN   NaN   NaN   NaN   NaN   NaN   NaN   NaN   \n",
       "            Rice        NaN   NaN   NaN   NaN   NaN   NaN   NaN   NaN   NaN   \n",
       "\n",
       "mp_year                    2001  ...      2010      2011      2012      2013  \\\n",
       "adm0_name   cm_name              ...                                           \n",
       "Afghanistan Bread           NaN  ...       NaN       NaN       NaN       NaN   \n",
       "            Exchange        NaN  ...       NaN       NaN       NaN       NaN   \n",
       "            Fuel      -0.007045  ...       NaN       NaN       NaN       NaN   \n",
       "            Livestock  0.135611  ...       NaN       NaN       NaN       NaN   \n",
       "            Rice            NaN  ... -0.041588  0.015685  0.072097  0.123801   \n",
       "\n",
       "mp_year                    2014      2015      2016      2017      2018  \\\n",
       "adm0_name   cm_name                                                       \n",
       "Afghanistan Bread           NaN  0.055021 -0.007271 -0.006384 -0.004228   \n",
       "            Exchange        NaN  0.178623  0.301038  0.014753  0.200153   \n",
       "            Fuel            NaN -0.000093 -0.000046  0.000044  0.000035   \n",
       "            Livestock       NaN       NaN       NaN       NaN       NaN   \n",
       "            Rice      -0.054074 -0.047844  0.025185  0.038895  0.025792   \n",
       "\n",
       "mp_year                    2019  \n",
       "adm0_name   cm_name              \n",
       "Afghanistan Bread      0.000900  \n",
       "            Exchange   0.154888  \n",
       "            Fuel       0.000014  \n",
       "            Livestock       NaN  \n",
       "            Rice      -0.002980  \n",
       "\n",
       "[5 rows x 28 columns]"
      ]
     },
     "execution_count": 118,
     "metadata": {},
     "output_type": "execute_result"
    }
   ],
   "source": [
    "# groepeer de commodities met hun eerst woord\n",
    "pat = '^([\\w\\-]+)'\n",
    "selection = food_norm_df[\"cm_name\"].str.extract(pat, expand=False)\n",
    "grouped_commodity_df = food_norm_df.groupby(by=[\"adm0_name\", selection, \"mp_year\"])\n",
    "\n",
    "# bereken het gemiddelde per jaar en vergelijk dat met het vorige jaar\n",
    "grouped_commodity_mean_df = grouped_commodity_df[\"mp_price_norm\"].mean()\n",
    "\n",
    "# unstack zodat het verschil per jaar berekend kan worden\n",
    "grouped_commodity_diff_df = grouped_commodity_mean_df.unstack(level=2).diff(axis=1)\n",
    "grouped_commodity_diff_df.head()"
   ]
  },
  {
   "cell_type": "markdown",
   "metadata": {},
   "source": [
    "### Data selecteren \n",
    "\n",
    "Verkenning en functies om te selecteren.\n",
    "\n",
    "Spoiler: De groep \"Rice\" heeft de meeste datapunten en 2016 is het jaar met de minste NaN's."
   ]
  },
  {
   "cell_type": "code",
   "execution_count": 117,
   "metadata": {
    "ExecuteTime": {
     "end_time": "2019-06-16T16:42:03.210128Z",
     "start_time": "2019-06-16T16:42:03.015709Z"
    }
   },
   "outputs": [],
   "source": [
    "# een telling van hoeveelheid gevulde vakjes per commodity\n",
    "years_with_data_per_country = [(commodity_type, grouped_commodity_diff_df.xs(commodity_type, level=1, drop_level=False).count().sum()) for commodity_type in selection.unique()]\n",
    "\n",
    "# welke is het beste\n",
    "uselection_sorted = sorted(years_with_data_per_country, key=itemgetter(1), reverse=True)\n",
    "\n",
    "# maak het even makkelijk voor de visualisatie\n",
    "uselection_sorted_comm = [comm[0] for comm in uselection_sorted]\n",
    "uselection_sorted_comm_ten = uselection_sorted_comm[:10]\n",
    "uselection_sorted_comm_ten\n",
    "\n",
    "# Utility om selecteren makkelijker te maken (of moeilijker)\n",
    "def select_commodity(commodity, year):\n",
    "    commodity_series = grouped_commodity_diff_df.xs(commodity, level=1, drop_level=False)[year]\n",
    "    commodity_index = commodity_series.index.get_level_values(0)\n",
    "    commodity_values = commodity_series.values\n",
    "    return [commodity_index, commodity_values]"
   ]
  },
  {
   "cell_type": "markdown",
   "metadata": {},
   "source": [
    "## Map"
   ]
  },
  {
   "cell_type": "markdown",
   "metadata": {},
   "source": [
    "### Food change maps\n"
   ]
  },
  {
   "cell_type": "code",
   "execution_count": 80,
   "metadata": {
    "ExecuteTime": {
     "end_time": "2019-06-16T14:53:26.882377Z",
     "start_time": "2019-06-16T14:53:26.339520Z"
    },
    "scrolled": false
   },
   "outputs": [
    {
     "data": {
      "application/vnd.jupyter.widget-view+json": {
       "model_id": "d6c3e74cff914042a8256d3c8626a64a",
       "version_major": 2,
       "version_minor": 0
      },
      "text/plain": [
       "interactive(children=(Dropdown(description='food', options=('Rice', 'Maize', 'Oil', 'Wheat', 'Beans', 'Sugar',…"
      ]
     },
     "metadata": {},
     "output_type": "display_data"
    },
    {
     "data": {
      "text/plain": [
       "<function __main__.map_graph(food=['Rice', 'Maize', 'Oil', 'Wheat', 'Beans', 'Sugar', 'Sorghum', 'Meat', 'Millet', 'Potatoes'], year=(2007, 2019, 1))>"
      ]
     },
     "execution_count": 80,
     "metadata": {},
     "output_type": "execute_result"
    }
   ],
   "source": [
    "def map_graph(food=uselection_sorted_comm_ten, year=(2007, 2019, 1)):\n",
    "    # Plot the mean price, of all commodities on map, of all years.\n",
    "    com_index_value_pair = select_commodity(food, year)\n",
    "\n",
    "    map_data = [go.Choropleth(\n",
    "        locations = com_index_value_pair[0],\n",
    "        locationmode = \"country names\",\n",
    "        z = com_index_value_pair[1],\n",
    "    )]\n",
    "\n",
    "    fig = go.Figure(data = map_data)\n",
    "    iplot(fig)\n",
    "    \n",
    "interact(map_graph, food=uselection_sorted_comm_ten, year=(2007, 2019, 1))\n"
   ]
  },
  {
   "cell_type": "markdown",
   "metadata": {},
   "source": [
    "## Controle\n",
    "\n",
    "Om te controleren of de dataset correct is moeten we natuurlijk even een test draaien. Ik heb globale voedselprijzen even als benchmark genomen. Daar ligt waarschijnlijk een sterke correlatie, zeker voor gebieden die niet direct in conflict zijn.\n",
    "\n",
    "[rijstprijzen] https://www.finanzen.nl/grondstoffen/grafiek/rijstprijs  \n",
    "[imf commodity prices data] https://www.imf.org/en/Research/commodity-prices\n",
    "\n",
    "\n"
   ]
  },
  {
   "cell_type": "code",
   "execution_count": 115,
   "metadata": {
    "ExecuteTime": {
     "end_time": "2019-06-16T16:40:53.147185Z",
     "start_time": "2019-06-16T16:40:52.906490Z"
    }
   },
   "outputs": [
    {
     "data": {
      "application/vnd.jupyter.widget-view+json": {
       "model_id": "41ed3598141a4f388895d1f0e08df7e4",
       "version_major": 2,
       "version_minor": 0
      },
      "text/plain": [
       "interactive(children=(Dropdown(description='food', options=('Rice', 'Wheat', 'Sugar'), value='Rice'), Output()…"
      ]
     },
     "metadata": {},
     "output_type": "display_data"
    },
    {
     "data": {
      "text/plain": [
       "<function __main__.line_graph(food)>"
      ]
     },
     "execution_count": 115,
     "metadata": {},
     "output_type": "execute_result"
    }
   ],
   "source": [
    "# selecteer rijst en bereken het gemiddelde\n",
    "commodity_imf_df = pd.read_csv(\"./commodity_imf_proper.csv\", dtype=float, decimal=\",\")\n",
    "commodity_imf_df = commodity_imf_df.set_index('Year')\n",
    "\n",
    "def normalize_series(series):\n",
    "    # bootstrap a new normalizer   \n",
    "    min_max_scaler = preprocessing.MinMaxScaler()\n",
    "    \n",
    "    # reshape the series to array so that the normalizer accepts it\n",
    "    to_normalize = series.values.reshape(-1, 1)\n",
    "    \n",
    "    # do the actual normalisation     \n",
    "    x_scaled = min_max_scaler.fit_transform(to_normalize)\n",
    "    \n",
    "    # undo some weird numpy nesting of arrays    \n",
    "    x_scaled = np.concatenate(x_scaled).ravel()\n",
    "    \n",
    "    # trow the series     \n",
    "    return pd.Series(x_scaled, index = series.index)\n",
    "\n",
    "def line_graph(food):\n",
    "    # create an average of all countries    \n",
    "    test = grouped_commodity_diff_df.xs(food, level=1, drop_level=False).mean()\n",
    "    \n",
    "    # use the IMF data to compute a nomalized and diffed line too    \n",
    "    control = normalize_series(commodity_imf_df[food]).diff()\n",
    "    \n",
    "    test_trace = go.Scatter(\n",
    "        name = \"WFP\",\n",
    "        x = test.index,\n",
    "        y = test.values\n",
    "    )\n",
    "    \n",
    "    control_trace = go.Scatter(\n",
    "        name = \"IMF\",\n",
    "        x = control.index[-19:],\n",
    "        y = control.values[-19:]\n",
    "    )\n",
    "    \n",
    "    iplot([test_trace, control_trace], filename='basic-line')\n",
    "\n",
    "interact(line_graph, food=[\"Rice\", \"Wheat\", \"Sugar\"])\n",
    "\n"
   ]
  },
  {
   "cell_type": "markdown",
   "metadata": {},
   "source": [
    "## Resultaat\n",
    "\n",
    "Er lijkt wel iets van een correlatie te zijn, maar er zitten ook rare verschillen tussen. Metname de pieken zijn veel hoger. Maar duidelijk is dat 2008 een grote impact heeft gehad. Ik denk dat we nog even goed moeten kijken naar hoe we normaliseren. Het is best mogelijk om hiermee te spelen lijkt het, maar wat verantwoord is twijfel ik aan."
   ]
  },
  {
   "cell_type": "markdown",
   "metadata": {},
   "source": [
    "# Klimaat\n",
    "\n",
    "Nu eens kijken of het samenhangt met klimaat. Ik heb het gevoel dat hier enige correlatie vinden echt heel onmogelijk gaat worden. Die markten zijn veel te volatiel. Je moet daarvoor gaan compenseren om algemene trend te zien. Maar ik zal een poging doen.\n",
    "\n",
    "## Load data"
   ]
  },
  {
   "cell_type": "code",
   "execution_count": 110,
   "metadata": {
    "ExecuteTime": {
     "end_time": "2019-06-16T16:37:52.228556Z",
     "start_time": "2019-06-16T16:37:51.865954Z"
    }
   },
   "outputs": [
    {
     "data": {
      "text/html": [
       "<div>\n",
       "<style scoped>\n",
       "    .dataframe tbody tr th:only-of-type {\n",
       "        vertical-align: middle;\n",
       "    }\n",
       "\n",
       "    .dataframe tbody tr th {\n",
       "        vertical-align: top;\n",
       "    }\n",
       "\n",
       "    .dataframe thead th {\n",
       "        text-align: right;\n",
       "    }\n",
       "</style>\n",
       "<table border=\"1\" class=\"dataframe\">\n",
       "  <thead>\n",
       "    <tr style=\"text-align: right;\">\n",
       "      <th></th>\n",
       "      <th>dt</th>\n",
       "      <th>AverageTemperature</th>\n",
       "      <th>AverageTemperatureUncertainty</th>\n",
       "      <th>Country</th>\n",
       "    </tr>\n",
       "  </thead>\n",
       "  <tbody>\n",
       "    <tr>\n",
       "      <th>0</th>\n",
       "      <td>1743-11-01</td>\n",
       "      <td>4.384</td>\n",
       "      <td>2.294</td>\n",
       "      <td>Åland</td>\n",
       "    </tr>\n",
       "    <tr>\n",
       "      <th>1</th>\n",
       "      <td>1743-12-01</td>\n",
       "      <td>NaN</td>\n",
       "      <td>NaN</td>\n",
       "      <td>Åland</td>\n",
       "    </tr>\n",
       "    <tr>\n",
       "      <th>2</th>\n",
       "      <td>1744-01-01</td>\n",
       "      <td>NaN</td>\n",
       "      <td>NaN</td>\n",
       "      <td>Åland</td>\n",
       "    </tr>\n",
       "    <tr>\n",
       "      <th>3</th>\n",
       "      <td>1744-02-01</td>\n",
       "      <td>NaN</td>\n",
       "      <td>NaN</td>\n",
       "      <td>Åland</td>\n",
       "    </tr>\n",
       "    <tr>\n",
       "      <th>4</th>\n",
       "      <td>1744-03-01</td>\n",
       "      <td>NaN</td>\n",
       "      <td>NaN</td>\n",
       "      <td>Åland</td>\n",
       "    </tr>\n",
       "  </tbody>\n",
       "</table>\n",
       "</div>"
      ],
      "text/plain": [
       "           dt  AverageTemperature  AverageTemperatureUncertainty Country\n",
       "0  1743-11-01               4.384                          2.294   Åland\n",
       "1  1743-12-01                 NaN                            NaN   Åland\n",
       "2  1744-01-01                 NaN                            NaN   Åland\n",
       "3  1744-02-01                 NaN                            NaN   Åland\n",
       "4  1744-03-01                 NaN                            NaN   Åland"
      ]
     },
     "metadata": {},
     "output_type": "display_data"
    }
   ],
   "source": [
    "\n",
    "climate_df = pd.read_csv(\"./climate_data/GlobalLandTemperaturesByCountry.csv\", low_memory=False)\n",
    "display(climate_df.head())\n"
   ]
  },
  {
   "cell_type": "markdown",
   "metadata": {},
   "source": [
    "## Type and normalize\n",
    "\n",
    "Here we go again.\n",
    "\n",
    "1. Type the datetime\n",
    "2. Normalize\n",
    "3. Create year averages\n",
    "4. Diff those averages to have something comparable\n",
    "\n",
    "This is just a tad different data though. It's cumulative data, its not the same as money. And the effects are much longer term. Doesn't make sense."
   ]
  },
  {
   "cell_type": "code",
   "execution_count": 112,
   "metadata": {
    "ExecuteTime": {
     "end_time": "2019-06-16T16:38:17.016611Z",
     "start_time": "2019-06-16T16:38:15.997423Z"
    }
   },
   "outputs": [
    {
     "name": "stderr",
     "output_type": "stream",
     "text": [
      "/Users/Robert-Jan/anaconda3/lib/python3.6/site-packages/sklearn/preprocessing/data.py:355: RuntimeWarning:\n",
      "\n",
      "All-NaN slice encountered\n",
      "\n",
      "/Users/Robert-Jan/anaconda3/lib/python3.6/site-packages/sklearn/preprocessing/data.py:356: RuntimeWarning:\n",
      "\n",
      "All-NaN slice encountered\n",
      "\n"
     ]
    }
   ],
   "source": [
    "# type properly\n",
    "climate_df_typed = climate_df.copy()\n",
    "climate_df_typed['dt'] = climate_df_typed['dt'].astype('datetime64[ns]')\n",
    "\n",
    "# apply the normalize function (with a partial for the key)\n",
    "climate_norm_df = climate_df_typed.groupby(by=[\"Country\"]).apply(partial(normalize_group, \"AverageTemperature\"))\n"
   ]
  },
  {
   "cell_type": "markdown",
   "metadata": {},
   "source": [
    "## Transform and select"
   ]
  },
  {
   "cell_type": "code",
   "execution_count": 113,
   "metadata": {
    "ExecuteTime": {
     "end_time": "2019-06-16T16:38:18.750553Z",
     "start_time": "2019-06-16T16:38:18.318461Z"
    }
   },
   "outputs": [],
   "source": [
    "# calulate the mean for the year\n",
    "climate_mean_df = climate_norm_df.groupby(by=[\"Country\", climate_norm_df[\"dt\"].dt.year]).mean()\n",
    "climate_mean_df.reset_index(inplace=True)\n",
    "\n",
    "# quick function with assignment\n",
    "def diff_temp(group_df):\n",
    "    group_df[\"AverageTemperature_diff\"] = group_df[\"AverageTemperature_norm\"].diff()\n",
    "    return group_df\n",
    "\n",
    "# apply the difference function\n",
    "climate_tran_df = climate_mean_df.groupby(by=[\"Country\"]).apply(diff_temp).set_index([\"Country\", \"dt\"])\n",
    "\n",
    "# quick selection function\n",
    "def select_year(year):\n",
    "    return climate_tran_df.xs(year, level=1, drop_level=False)"
   ]
  },
  {
   "cell_type": "markdown",
   "metadata": {},
   "source": [
    "## Map"
   ]
  },
  {
   "cell_type": "code",
   "execution_count": 114,
   "metadata": {
    "ExecuteTime": {
     "end_time": "2019-06-16T16:38:20.621697Z",
     "start_time": "2019-06-16T16:38:20.440706Z"
    }
   },
   "outputs": [
    {
     "data": {
      "application/vnd.jupyter.widget-view+json": {
       "model_id": "58237a7b47fb49d787c10d7e9a640905",
       "version_major": 2,
       "version_minor": 0
      },
      "text/plain": [
       "interactive(children=(IntSlider(value=2010, description='year', max=2013, min=2007), Output()), _dom_classes=(…"
      ]
     },
     "metadata": {},
     "output_type": "display_data"
    },
    {
     "data": {
      "text/plain": [
       "<function __main__.map_climate(year)>"
      ]
     },
     "execution_count": 114,
     "metadata": {},
     "output_type": "execute_result"
    }
   ],
   "source": [
    "def map_climate(year):\n",
    "    year_data = select_year(year)\n",
    "    map_data = [go.Choropleth(\n",
    "            locations = year_data.index.get_level_values(0),\n",
    "            locationmode = \"country names\",\n",
    "            z = year_data[\"AverageTemperature_diff\"].values,\n",
    "        )]\n",
    "\n",
    "    fig = go.Figure(data = map_data)\n",
    "    iplot(fig)\n",
    "    \n",
    "interact(map_climate, year=(2007, 2013, 1))\n",
    "\n",
    "\n"
   ]
  },
  {
   "cell_type": "markdown",
   "metadata": {
    "ExecuteTime": {
     "end_time": "2019-06-15T09:19:24.837795Z",
     "start_time": "2019-06-15T09:19:24.827976Z"
    }
   },
   "source": [
    "# Bronnen\n",
    "\n",
    "[datasource] https://data.humdata.org/dataset/wfp-food-prices  \n",
    "[organisation goals] https://www1.wfp.org/zero-hunger  \n",
    "[data description] https://docs.wfp.org/api/documents/WFP-0000040024/download/  \n",
    "[dataviz platform] https://dataviz.vam.wfp.org  \n",
    "[dataviz hunger] https://dataviz.vam.wfp.org/Hunger-Analytics-Hub#  \n",
    "[WFP price] https://dataviz.vam.wfp.org/economic_explorer/price-forecasts-alerts   \n",
    "[VN prijzen] https://treasury.un.org/operationalrates/OperationalRates.php  \n",
    "[dataset omschrijving] http://mvam.org/2018/11/20/getting-up-to-speed-wfp-food-data-on-hdx/  \n",
    "[interactieve plots] https://towardsdatascience.com/interactive-controls-for-jupyter-notebooks-f5c94829aee6  \n",
    "[GDELT database] https://www.gdeltproject.org/  \n",
    "[datastory] https://ourworldindata.org/food-prices  \n",
    "\n"
   ]
  },
  {
   "cell_type": "code",
   "execution_count": null,
   "metadata": {},
   "outputs": [],
   "source": []
  },
  {
   "cell_type": "code",
   "execution_count": null,
   "metadata": {},
   "outputs": [],
   "source": []
  },
  {
   "cell_type": "code",
   "execution_count": null,
   "metadata": {},
   "outputs": [],
   "source": []
  },
  {
   "cell_type": "code",
   "execution_count": null,
   "metadata": {},
   "outputs": [],
   "source": []
  },
  {
   "cell_type": "code",
   "execution_count": null,
   "metadata": {},
   "outputs": [],
   "source": []
  },
  {
   "cell_type": "code",
   "execution_count": null,
   "metadata": {},
   "outputs": [],
   "source": []
  }
 ],
 "metadata": {
  "kernelspec": {
   "display_name": "Python 3",
   "language": "python",
   "name": "python3"
  },
  "language_info": {
   "codemirror_mode": {
    "name": "ipython",
    "version": 3
   },
   "file_extension": ".py",
   "mimetype": "text/x-python",
   "name": "python",
   "nbconvert_exporter": "python",
   "pygments_lexer": "ipython3",
   "version": "3.6.8"
  },
  "varInspector": {
   "cols": {
    "lenName": 16,
    "lenType": 16,
    "lenVar": 40
   },
   "kernels_config": {
    "python": {
     "delete_cmd_postfix": "",
     "delete_cmd_prefix": "del ",
     "library": "var_list.py",
     "varRefreshCmd": "print(var_dic_list())"
    },
    "r": {
     "delete_cmd_postfix": ") ",
     "delete_cmd_prefix": "rm(",
     "library": "var_list.r",
     "varRefreshCmd": "cat(var_dic_list()) "
    }
   },
   "types_to_exclude": [
    "module",
    "function",
    "builtin_function_or_method",
    "instance",
    "_Feature"
   ],
   "window_display": false
  }
 },
 "nbformat": 4,
 "nbformat_minor": 2
}
